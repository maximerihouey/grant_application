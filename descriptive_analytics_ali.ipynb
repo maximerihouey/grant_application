{
 "cells": [
  {
   "cell_type": "code",
   "execution_count": 3,
   "metadata": {
    "collapsed": true
   },
   "outputs": [],
   "source": [
    "import numpy as np\n",
    "import pandas as pd"
   ]
  },
  {
   "cell_type": "code",
   "execution_count": 12,
   "metadata": {
    "collapsed": false
   },
   "outputs": [],
   "source": [
    "data = pd.read_csv(\"../unimelb_training.csv\", header=0, dtype=\"str\")"
   ]
  },
  {
   "cell_type": "code",
   "execution_count": 13,
   "metadata": {
    "collapsed": false
   },
   "outputs": [
    {
     "data": {
      "text/html": [
       "<div>\n",
       "<table border=\"1\" class=\"dataframe\">\n",
       "  <thead>\n",
       "    <tr style=\"text-align: right;\">\n",
       "      <th></th>\n",
       "      <th>Grant.Application.ID</th>\n",
       "      <th>Grant.Status</th>\n",
       "      <th>Sponsor.Code</th>\n",
       "      <th>Grant.Category.Code</th>\n",
       "      <th>Contract.Value.Band...see.note.A</th>\n",
       "      <th>Start.date</th>\n",
       "      <th>RFCD.Code.1</th>\n",
       "      <th>RFCD.Percentage.1</th>\n",
       "      <th>RFCD.Code.2</th>\n",
       "      <th>RFCD.Percentage.2</th>\n",
       "      <th>...</th>\n",
       "      <th>Faculty.No..15</th>\n",
       "      <th>With.PHD.15</th>\n",
       "      <th>No..of.Years.in.Uni.at.Time.of.Grant.15</th>\n",
       "      <th>Number.of.Successful.Grant.15</th>\n",
       "      <th>Number.of.Unsuccessful.Grant.15</th>\n",
       "      <th>A..15</th>\n",
       "      <th>A.15</th>\n",
       "      <th>B.15</th>\n",
       "      <th>C.15</th>\n",
       "      <th>Unnamed: 251</th>\n",
       "    </tr>\n",
       "  </thead>\n",
       "  <tbody>\n",
       "    <tr>\n",
       "      <th>0</th>\n",
       "      <td>1</td>\n",
       "      <td>1</td>\n",
       "      <td>NaN</td>\n",
       "      <td>NaN</td>\n",
       "      <td>A</td>\n",
       "      <td>8/11/05</td>\n",
       "      <td>280199</td>\n",
       "      <td>100</td>\n",
       "      <td>0</td>\n",
       "      <td>0</td>\n",
       "      <td>...</td>\n",
       "      <td>NaN</td>\n",
       "      <td>NaN</td>\n",
       "      <td>NaN</td>\n",
       "      <td>NaN</td>\n",
       "      <td>NaN</td>\n",
       "      <td>NaN</td>\n",
       "      <td>NaN</td>\n",
       "      <td>NaN</td>\n",
       "      <td>NaN</td>\n",
       "      <td>NaN</td>\n",
       "    </tr>\n",
       "    <tr>\n",
       "      <th>1</th>\n",
       "      <td>2</td>\n",
       "      <td>1</td>\n",
       "      <td>2B</td>\n",
       "      <td>10A</td>\n",
       "      <td>B</td>\n",
       "      <td>11/11/05</td>\n",
       "      <td>280103</td>\n",
       "      <td>30</td>\n",
       "      <td>280106</td>\n",
       "      <td>30</td>\n",
       "      <td>...</td>\n",
       "      <td>NaN</td>\n",
       "      <td>NaN</td>\n",
       "      <td>NaN</td>\n",
       "      <td>NaN</td>\n",
       "      <td>NaN</td>\n",
       "      <td>NaN</td>\n",
       "      <td>NaN</td>\n",
       "      <td>NaN</td>\n",
       "      <td>NaN</td>\n",
       "      <td>NaN</td>\n",
       "    </tr>\n",
       "    <tr>\n",
       "      <th>2</th>\n",
       "      <td>3</td>\n",
       "      <td>1</td>\n",
       "      <td>29A</td>\n",
       "      <td>10B</td>\n",
       "      <td>A</td>\n",
       "      <td>14/11/05</td>\n",
       "      <td>321004</td>\n",
       "      <td>60</td>\n",
       "      <td>321216</td>\n",
       "      <td>40</td>\n",
       "      <td>...</td>\n",
       "      <td>NaN</td>\n",
       "      <td>NaN</td>\n",
       "      <td>NaN</td>\n",
       "      <td>NaN</td>\n",
       "      <td>NaN</td>\n",
       "      <td>NaN</td>\n",
       "      <td>NaN</td>\n",
       "      <td>NaN</td>\n",
       "      <td>NaN</td>\n",
       "      <td>NaN</td>\n",
       "    </tr>\n",
       "    <tr>\n",
       "      <th>3</th>\n",
       "      <td>4</td>\n",
       "      <td>1</td>\n",
       "      <td>40D</td>\n",
       "      <td>10B</td>\n",
       "      <td>C</td>\n",
       "      <td>15/11/05</td>\n",
       "      <td>270602</td>\n",
       "      <td>50</td>\n",
       "      <td>320602</td>\n",
       "      <td>50</td>\n",
       "      <td>...</td>\n",
       "      <td>NaN</td>\n",
       "      <td>NaN</td>\n",
       "      <td>NaN</td>\n",
       "      <td>NaN</td>\n",
       "      <td>NaN</td>\n",
       "      <td>NaN</td>\n",
       "      <td>NaN</td>\n",
       "      <td>NaN</td>\n",
       "      <td>NaN</td>\n",
       "      <td>NaN</td>\n",
       "    </tr>\n",
       "    <tr>\n",
       "      <th>4</th>\n",
       "      <td>5</td>\n",
       "      <td>0</td>\n",
       "      <td>59C</td>\n",
       "      <td>10A</td>\n",
       "      <td>A</td>\n",
       "      <td>16/11/05</td>\n",
       "      <td>260500</td>\n",
       "      <td>34</td>\n",
       "      <td>280000</td>\n",
       "      <td>33</td>\n",
       "      <td>...</td>\n",
       "      <td>NaN</td>\n",
       "      <td>NaN</td>\n",
       "      <td>NaN</td>\n",
       "      <td>NaN</td>\n",
       "      <td>NaN</td>\n",
       "      <td>NaN</td>\n",
       "      <td>NaN</td>\n",
       "      <td>NaN</td>\n",
       "      <td>NaN</td>\n",
       "      <td>NaN</td>\n",
       "    </tr>\n",
       "  </tbody>\n",
       "</table>\n",
       "<p>5 rows × 252 columns</p>\n",
       "</div>"
      ],
      "text/plain": [
       "  Grant.Application.ID Grant.Status Sponsor.Code Grant.Category.Code  \\\n",
       "0                    1            1          NaN                 NaN   \n",
       "1                    2            1           2B                 10A   \n",
       "2                    3            1          29A                 10B   \n",
       "3                    4            1          40D                 10B   \n",
       "4                    5            0          59C                 10A   \n",
       "\n",
       "  Contract.Value.Band...see.note.A Start.date RFCD.Code.1 RFCD.Percentage.1  \\\n",
       "0                               A     8/11/05      280199               100   \n",
       "1                               B    11/11/05      280103                30   \n",
       "2                               A    14/11/05      321004                60   \n",
       "3                               C    15/11/05      270602                50   \n",
       "4                               A    16/11/05      260500                34   \n",
       "\n",
       "  RFCD.Code.2 RFCD.Percentage.2     ...      Faculty.No..15 With.PHD.15  \\\n",
       "0           0                 0     ...                 NaN         NaN   \n",
       "1      280106                30     ...                 NaN         NaN   \n",
       "2      321216                40     ...                 NaN         NaN   \n",
       "3      320602                50     ...                 NaN         NaN   \n",
       "4      280000                33     ...                 NaN         NaN   \n",
       "\n",
       "  No..of.Years.in.Uni.at.Time.of.Grant.15 Number.of.Successful.Grant.15  \\\n",
       "0                                     NaN                           NaN   \n",
       "1                                     NaN                           NaN   \n",
       "2                                     NaN                           NaN   \n",
       "3                                     NaN                           NaN   \n",
       "4                                     NaN                           NaN   \n",
       "\n",
       "  Number.of.Unsuccessful.Grant.15 A..15 A.15 B.15 C.15 Unnamed: 251  \n",
       "0                             NaN   NaN  NaN  NaN  NaN          NaN  \n",
       "1                             NaN   NaN  NaN  NaN  NaN          NaN  \n",
       "2                             NaN   NaN  NaN  NaN  NaN          NaN  \n",
       "3                             NaN   NaN  NaN  NaN  NaN          NaN  \n",
       "4                             NaN   NaN  NaN  NaN  NaN          NaN  \n",
       "\n",
       "[5 rows x 252 columns]"
      ]
     },
     "execution_count": 13,
     "metadata": {},
     "output_type": "execute_result"
    }
   ],
   "source": [
    "data.head()"
   ]
  },
  {
   "cell_type": "code",
   "execution_count": 14,
   "metadata": {
    "collapsed": false,
    "scrolled": true
   },
   "outputs": [
    {
     "data": {
      "text/plain": [
       "['Grant.Application.ID',\n",
       " 'Grant.Status',\n",
       " 'Sponsor.Code',\n",
       " 'Grant.Category.Code',\n",
       " 'Contract.Value.Band...see.note.A',\n",
       " 'Start.date',\n",
       " 'RFCD.Code.1',\n",
       " 'RFCD.Percentage.1',\n",
       " 'RFCD.Code.2',\n",
       " 'RFCD.Percentage.2',\n",
       " 'RFCD.Code.3',\n",
       " 'RFCD.Percentage.3',\n",
       " 'RFCD.Code.4',\n",
       " 'RFCD.Percentage.4',\n",
       " 'RFCD.Code.5',\n",
       " 'RFCD.Percentage.5',\n",
       " 'SEO.Code.1',\n",
       " 'SEO.Percentage.1',\n",
       " 'SEO.Code.2',\n",
       " 'SEO.Percentage.2',\n",
       " 'SEO.Code.3',\n",
       " 'SEO.Percentage.3',\n",
       " 'SEO.Code.4',\n",
       " 'SEO.Percentage.4',\n",
       " 'SEO.Code.5',\n",
       " 'SEO.Percentage.5',\n",
       " 'Person.ID.1',\n",
       " 'Role.1',\n",
       " 'Year.of.Birth.1',\n",
       " 'Country.of.Birth.1',\n",
       " 'Home.Language.1',\n",
       " 'Dept.No..1',\n",
       " 'Faculty.No..1',\n",
       " 'With.PHD.1',\n",
       " 'No..of.Years.in.Uni.at.Time.of.Grant.1',\n",
       " 'Number.of.Successful.Grant.1',\n",
       " 'Number.of.Unsuccessful.Grant.1',\n",
       " 'A..1',\n",
       " 'A.1',\n",
       " 'B.1',\n",
       " 'C.1',\n",
       " 'Person.ID.2',\n",
       " 'Role.2',\n",
       " 'Year.of.Birth.2',\n",
       " 'Country.of.Birth.2',\n",
       " 'Home.Language.2',\n",
       " 'Dept.No..2',\n",
       " 'Faculty.No..2',\n",
       " 'With.PHD.2',\n",
       " 'No..of.Years.in.Uni.at.Time.of.Grant.2',\n",
       " 'Number.of.Successful.Grant.2',\n",
       " 'Number.of.Unsuccessful.Grant.2',\n",
       " 'A..2',\n",
       " 'A.2',\n",
       " 'B.2',\n",
       " 'C.2',\n",
       " 'Person.ID.3',\n",
       " 'Role.3',\n",
       " 'Year.of.Birth.3',\n",
       " 'Country.of.Birth.3',\n",
       " 'Home.Language.3',\n",
       " 'Dept.No..3',\n",
       " 'Faculty.No..3',\n",
       " 'With.PHD.3',\n",
       " 'No..of.Years.in.Uni.at.Time.of.Grant.3',\n",
       " 'Number.of.Successful.Grant.3',\n",
       " 'Number.of.Unsuccessful.Grant.3',\n",
       " 'A..3',\n",
       " 'A.3',\n",
       " 'B.3',\n",
       " 'C.3',\n",
       " 'Person.ID.4',\n",
       " 'Role.4',\n",
       " 'Year.of.Birth.4',\n",
       " 'Country.of.Birth.4',\n",
       " 'Home.Language.4',\n",
       " 'Dept.No..4',\n",
       " 'Faculty.No..4',\n",
       " 'With.PHD.4',\n",
       " 'No..of.Years.in.Uni.at.Time.of.Grant.4',\n",
       " 'Number.of.Successful.Grant.4',\n",
       " 'Number.of.Unsuccessful.Grant.4',\n",
       " 'A..4',\n",
       " 'A.4',\n",
       " 'B.4',\n",
       " 'C.4',\n",
       " 'Person.ID.5',\n",
       " 'Role.5',\n",
       " 'Year.of.Birth.5',\n",
       " 'Country.of.Birth.5',\n",
       " 'Home.Language.5',\n",
       " 'Dept.No..5',\n",
       " 'Faculty.No..5',\n",
       " 'With.PHD.5',\n",
       " 'No..of.Years.in.Uni.at.Time.of.Grant.5',\n",
       " 'Number.of.Successful.Grant.5',\n",
       " 'Number.of.Unsuccessful.Grant.5',\n",
       " 'A..5',\n",
       " 'A.5',\n",
       " 'B.5',\n",
       " 'C.5',\n",
       " 'Person.ID.6',\n",
       " 'Role.6',\n",
       " 'Year.of.Birth.6',\n",
       " 'Country.of.Birth.6',\n",
       " 'Home.Language.6',\n",
       " 'Dept.No..6',\n",
       " 'Faculty.No..6',\n",
       " 'With.PHD.6',\n",
       " 'No..of.Years.in.Uni.at.Time.of.Grant.6',\n",
       " 'Number.of.Successful.Grant.6',\n",
       " 'Number.of.Unsuccessful.Grant.6',\n",
       " 'A..6',\n",
       " 'A.6',\n",
       " 'B.6',\n",
       " 'C.6',\n",
       " 'Person.ID.7',\n",
       " 'Role.7',\n",
       " 'Year.of.Birth.7',\n",
       " 'Country.of.Birth.7',\n",
       " 'Home.Language.7',\n",
       " 'Dept.No..7',\n",
       " 'Faculty.No..7',\n",
       " 'With.PHD.7',\n",
       " 'No..of.Years.in.Uni.at.Time.of.Grant.7',\n",
       " 'Number.of.Successful.Grant.7',\n",
       " 'Number.of.Unsuccessful.Grant.7',\n",
       " 'A..7',\n",
       " 'A.7',\n",
       " 'B.7',\n",
       " 'C.7',\n",
       " 'Person.ID.8',\n",
       " 'Role.8',\n",
       " 'Year.of.Birth.8',\n",
       " 'Country.of.Birth.8',\n",
       " 'Home.Language.8',\n",
       " 'Dept.No..8',\n",
       " 'Faculty.No..8',\n",
       " 'With.PHD.8',\n",
       " 'No..of.Years.in.Uni.at.Time.of.Grant.8',\n",
       " 'Number.of.Successful.Grant.8',\n",
       " 'Number.of.Unsuccessful.Grant.8',\n",
       " 'A..8',\n",
       " 'A.8',\n",
       " 'B.8',\n",
       " 'C.8',\n",
       " 'Person.ID.9',\n",
       " 'Role.9',\n",
       " 'Year.of.Birth.9',\n",
       " 'Country.of.Birth.9',\n",
       " 'Home.Language.9',\n",
       " 'Dept.No..9',\n",
       " 'Faculty.No..9',\n",
       " 'With.PHD.9',\n",
       " 'No..of.Years.in.Uni.at.Time.of.Grant.9',\n",
       " 'Number.of.Successful.Grant.9',\n",
       " 'Number.of.Unsuccessful.Grant.9',\n",
       " 'A..9',\n",
       " 'A.9',\n",
       " 'B.9',\n",
       " 'C.9',\n",
       " 'Person.ID.10',\n",
       " 'Role.10',\n",
       " 'Year.of.Birth.10',\n",
       " 'Country.of.Birth.10',\n",
       " 'Home.Language.10',\n",
       " 'Dept.No..10',\n",
       " 'Faculty.No..10',\n",
       " 'With.PHD.10',\n",
       " 'No..of.Years.in.Uni.at.Time.of.Grant.10',\n",
       " 'Number.of.Successful.Grant.10',\n",
       " 'Number.of.Unsuccessful.Grant.10',\n",
       " 'A..10',\n",
       " 'A.10',\n",
       " 'B.10',\n",
       " 'C.10',\n",
       " 'Person.ID.11',\n",
       " 'Role.11',\n",
       " 'Year.of.Birth.11',\n",
       " 'Country.of.Birth.11',\n",
       " 'Home.Language.11',\n",
       " 'Dept.No..11',\n",
       " 'Faculty.No..11',\n",
       " 'With.PHD.11',\n",
       " 'No..of.Years.in.Uni.at.Time.of.Grant.11',\n",
       " 'Number.of.Successful.Grant.11',\n",
       " 'Number.of.Unsuccessful.Grant.11',\n",
       " 'A..11',\n",
       " 'A.11',\n",
       " 'B.11',\n",
       " 'C.11',\n",
       " 'Person.ID.12',\n",
       " 'Role.12',\n",
       " 'Year.of.Birth.12',\n",
       " 'Country.of.Birth.12',\n",
       " 'Home.Language.12',\n",
       " 'Dept.No..12',\n",
       " 'Faculty.No..12',\n",
       " 'With.PHD.12',\n",
       " 'No..of.Years.in.Uni.at.Time.of.Grant.12',\n",
       " 'Number.of.Successful.Grant.12',\n",
       " 'Number.of.Unsuccessful.Grant.12',\n",
       " 'A..12',\n",
       " 'A.12',\n",
       " 'B.12',\n",
       " 'C.12',\n",
       " 'Person.ID.13',\n",
       " 'Role.13',\n",
       " 'Year.of.Birth.13',\n",
       " 'Country.of.Birth.13',\n",
       " 'Home.Language.13',\n",
       " 'Dept.No..13',\n",
       " 'Faculty.No..13',\n",
       " 'With.PHD.13',\n",
       " 'No..of.Years.in.Uni.at.Time.of.Grant.13',\n",
       " 'Number.of.Successful.Grant.13',\n",
       " 'Number.of.Unsuccessful.Grant.13',\n",
       " 'A..13',\n",
       " 'A.13',\n",
       " 'B.13',\n",
       " 'C.13',\n",
       " 'Person.ID.14',\n",
       " 'Role.14',\n",
       " 'Year.of.Birth.14',\n",
       " 'Country.of.Birth.14',\n",
       " 'Home.Language.14',\n",
       " 'Dept.No..14',\n",
       " 'Faculty.No..14',\n",
       " 'With.PHD.14',\n",
       " 'No..of.Years.in.Uni.at.Time.of.Grant.14',\n",
       " 'Number.of.Successful.Grant.14',\n",
       " 'Number.of.Unsuccessful.Grant.14',\n",
       " 'A..14',\n",
       " 'A.14',\n",
       " 'B.14',\n",
       " 'C.14',\n",
       " 'Person.ID.15',\n",
       " 'Role.15',\n",
       " 'Year.of.Birth.15',\n",
       " 'Country.of.Birth.15',\n",
       " 'Home.Language.15',\n",
       " 'Dept.No..15',\n",
       " 'Faculty.No..15',\n",
       " 'With.PHD.15',\n",
       " 'No..of.Years.in.Uni.at.Time.of.Grant.15',\n",
       " 'Number.of.Successful.Grant.15',\n",
       " 'Number.of.Unsuccessful.Grant.15',\n",
       " 'A..15',\n",
       " 'A.15',\n",
       " 'B.15',\n",
       " 'C.15',\n",
       " 'Unnamed: 251']"
      ]
     },
     "execution_count": 14,
     "metadata": {},
     "output_type": "execute_result"
    }
   ],
   "source": [
    "list(data.columns)"
   ]
  },
  {
   "cell_type": "code",
   "execution_count": 15,
   "metadata": {
    "collapsed": false
   },
   "outputs": [
    {
     "data": {
      "text/html": [
       "<div>\n",
       "<table border=\"1\" class=\"dataframe\">\n",
       "  <thead>\n",
       "    <tr style=\"text-align: right;\">\n",
       "      <th></th>\n",
       "      <th>Grant.Application.ID</th>\n",
       "      <th>Grant.Status</th>\n",
       "      <th>Sponsor.Code</th>\n",
       "      <th>Grant.Category.Code</th>\n",
       "      <th>Contract.Value.Band...see.note.A</th>\n",
       "      <th>Start.date</th>\n",
       "      <th>RFCD.Code.1</th>\n",
       "      <th>RFCD.Percentage.1</th>\n",
       "      <th>RFCD.Code.2</th>\n",
       "      <th>RFCD.Percentage.2</th>\n",
       "      <th>...</th>\n",
       "      <th>Faculty.No..15</th>\n",
       "      <th>With.PHD.15</th>\n",
       "      <th>No..of.Years.in.Uni.at.Time.of.Grant.15</th>\n",
       "      <th>Number.of.Successful.Grant.15</th>\n",
       "      <th>Number.of.Unsuccessful.Grant.15</th>\n",
       "      <th>A..15</th>\n",
       "      <th>A.15</th>\n",
       "      <th>B.15</th>\n",
       "      <th>C.15</th>\n",
       "      <th>Unnamed: 251</th>\n",
       "    </tr>\n",
       "  </thead>\n",
       "  <tbody>\n",
       "    <tr>\n",
       "      <th>0</th>\n",
       "      <td>1</td>\n",
       "      <td>1</td>\n",
       "      <td>NaN</td>\n",
       "      <td>NaN</td>\n",
       "      <td>A</td>\n",
       "      <td>8/11/05</td>\n",
       "      <td>280199</td>\n",
       "      <td>100</td>\n",
       "      <td>0</td>\n",
       "      <td>0</td>\n",
       "      <td>...</td>\n",
       "      <td>NaN</td>\n",
       "      <td>NaN</td>\n",
       "      <td>NaN</td>\n",
       "      <td>NaN</td>\n",
       "      <td>NaN</td>\n",
       "      <td>NaN</td>\n",
       "      <td>NaN</td>\n",
       "      <td>NaN</td>\n",
       "      <td>NaN</td>\n",
       "      <td>NaN</td>\n",
       "    </tr>\n",
       "    <tr>\n",
       "      <th>1</th>\n",
       "      <td>2</td>\n",
       "      <td>1</td>\n",
       "      <td>2B</td>\n",
       "      <td>10A</td>\n",
       "      <td>B</td>\n",
       "      <td>11/11/05</td>\n",
       "      <td>280103</td>\n",
       "      <td>30</td>\n",
       "      <td>280106</td>\n",
       "      <td>30</td>\n",
       "      <td>...</td>\n",
       "      <td>NaN</td>\n",
       "      <td>NaN</td>\n",
       "      <td>NaN</td>\n",
       "      <td>NaN</td>\n",
       "      <td>NaN</td>\n",
       "      <td>NaN</td>\n",
       "      <td>NaN</td>\n",
       "      <td>NaN</td>\n",
       "      <td>NaN</td>\n",
       "      <td>NaN</td>\n",
       "    </tr>\n",
       "    <tr>\n",
       "      <th>2</th>\n",
       "      <td>3</td>\n",
       "      <td>1</td>\n",
       "      <td>29A</td>\n",
       "      <td>10B</td>\n",
       "      <td>A</td>\n",
       "      <td>14/11/05</td>\n",
       "      <td>321004</td>\n",
       "      <td>60</td>\n",
       "      <td>321216</td>\n",
       "      <td>40</td>\n",
       "      <td>...</td>\n",
       "      <td>NaN</td>\n",
       "      <td>NaN</td>\n",
       "      <td>NaN</td>\n",
       "      <td>NaN</td>\n",
       "      <td>NaN</td>\n",
       "      <td>NaN</td>\n",
       "      <td>NaN</td>\n",
       "      <td>NaN</td>\n",
       "      <td>NaN</td>\n",
       "      <td>NaN</td>\n",
       "    </tr>\n",
       "    <tr>\n",
       "      <th>3</th>\n",
       "      <td>4</td>\n",
       "      <td>1</td>\n",
       "      <td>40D</td>\n",
       "      <td>10B</td>\n",
       "      <td>C</td>\n",
       "      <td>15/11/05</td>\n",
       "      <td>270602</td>\n",
       "      <td>50</td>\n",
       "      <td>320602</td>\n",
       "      <td>50</td>\n",
       "      <td>...</td>\n",
       "      <td>NaN</td>\n",
       "      <td>NaN</td>\n",
       "      <td>NaN</td>\n",
       "      <td>NaN</td>\n",
       "      <td>NaN</td>\n",
       "      <td>NaN</td>\n",
       "      <td>NaN</td>\n",
       "      <td>NaN</td>\n",
       "      <td>NaN</td>\n",
       "      <td>NaN</td>\n",
       "    </tr>\n",
       "    <tr>\n",
       "      <th>4</th>\n",
       "      <td>5</td>\n",
       "      <td>0</td>\n",
       "      <td>59C</td>\n",
       "      <td>10A</td>\n",
       "      <td>A</td>\n",
       "      <td>16/11/05</td>\n",
       "      <td>260500</td>\n",
       "      <td>34</td>\n",
       "      <td>280000</td>\n",
       "      <td>33</td>\n",
       "      <td>...</td>\n",
       "      <td>NaN</td>\n",
       "      <td>NaN</td>\n",
       "      <td>NaN</td>\n",
       "      <td>NaN</td>\n",
       "      <td>NaN</td>\n",
       "      <td>NaN</td>\n",
       "      <td>NaN</td>\n",
       "      <td>NaN</td>\n",
       "      <td>NaN</td>\n",
       "      <td>NaN</td>\n",
       "    </tr>\n",
       "  </tbody>\n",
       "</table>\n",
       "<p>5 rows × 252 columns</p>\n",
       "</div>"
      ],
      "text/plain": [
       "  Grant.Application.ID Grant.Status Sponsor.Code Grant.Category.Code  \\\n",
       "0                    1            1          NaN                 NaN   \n",
       "1                    2            1           2B                 10A   \n",
       "2                    3            1          29A                 10B   \n",
       "3                    4            1          40D                 10B   \n",
       "4                    5            0          59C                 10A   \n",
       "\n",
       "  Contract.Value.Band...see.note.A Start.date RFCD.Code.1 RFCD.Percentage.1  \\\n",
       "0                               A     8/11/05      280199               100   \n",
       "1                               B    11/11/05      280103                30   \n",
       "2                               A    14/11/05      321004                60   \n",
       "3                               C    15/11/05      270602                50   \n",
       "4                               A    16/11/05      260500                34   \n",
       "\n",
       "  RFCD.Code.2 RFCD.Percentage.2     ...      Faculty.No..15 With.PHD.15  \\\n",
       "0           0                 0     ...                 NaN         NaN   \n",
       "1      280106                30     ...                 NaN         NaN   \n",
       "2      321216                40     ...                 NaN         NaN   \n",
       "3      320602                50     ...                 NaN         NaN   \n",
       "4      280000                33     ...                 NaN         NaN   \n",
       "\n",
       "  No..of.Years.in.Uni.at.Time.of.Grant.15 Number.of.Successful.Grant.15  \\\n",
       "0                                     NaN                           NaN   \n",
       "1                                     NaN                           NaN   \n",
       "2                                     NaN                           NaN   \n",
       "3                                     NaN                           NaN   \n",
       "4                                     NaN                           NaN   \n",
       "\n",
       "  Number.of.Unsuccessful.Grant.15 A..15 A.15 B.15 C.15 Unnamed: 251  \n",
       "0                             NaN   NaN  NaN  NaN  NaN          NaN  \n",
       "1                             NaN   NaN  NaN  NaN  NaN          NaN  \n",
       "2                             NaN   NaN  NaN  NaN  NaN          NaN  \n",
       "3                             NaN   NaN  NaN  NaN  NaN          NaN  \n",
       "4                             NaN   NaN  NaN  NaN  NaN          NaN  \n",
       "\n",
       "[5 rows x 252 columns]"
      ]
     },
     "execution_count": 15,
     "metadata": {},
     "output_type": "execute_result"
    }
   ],
   "source": [
    "data.head()"
   ]
  },
  {
   "cell_type": "code",
   "execution_count": 16,
   "metadata": {
    "collapsed": false
   },
   "outputs": [
    {
     "data": {
      "text/plain": [
       "True"
      ]
     },
     "execution_count": 16,
     "metadata": {},
     "output_type": "execute_result"
    }
   ],
   "source": [
    "data[\"Unnamed: 251\"].isnull().all()"
   ]
  },
  {
   "cell_type": "code",
   "execution_count": 17,
   "metadata": {
    "collapsed": false
   },
   "outputs": [
    {
     "name": "stdout",
     "output_type": "stream",
     "text": [
      "[nan, 'CHIEF_INVESTIGATOR', 'STUD_CHIEF_INVESTIGATOR', 'DELEGATED_RESEARCHER', 'EXT_CHIEF_INVESTIGATOR', 'PRINCIPAL_SUPERVISOR', 'EXTERNAL_ADVISOR', 'HONVISIT', 'STUDRES']\n",
      "[nan, 'The Americas', 'Australia', 'Eastern Europe', 'New Zealand', 'North America', 'Western Europe', 'South Africa', 'Middle East and Africa', 'Great Britain', 'Asia Pacific']\n"
     ]
    }
   ],
   "source": [
    "def process_column(data, prefix, nb_max=15):\n",
    "    unique_values = set([])\n",
    "    all_values = []\n",
    "    for i in range(1, nb_max+1):\n",
    "        unique_values.update(data[prefix+str(i)].unique())\n",
    "        all_values.extend(list(data[prefix+str(i)]))\n",
    "    return unique_values, all_values\n",
    "\n",
    "unique_roles, all_roles = process_column(data, \"Role.\")\n",
    "print(list(unique_roles))\n",
    "\n",
    "unique_cob, all_cob = process_column(data, \"Country.of.Birth.\")\n",
    "print(list(unique_cob))"
   ]
  },
  {
   "cell_type": "code",
   "execution_count": 18,
   "metadata": {
    "collapsed": false
   },
   "outputs": [
    {
     "name": "stdout",
     "output_type": "stream",
     "text": [
      "130620\n"
     ]
    }
   ],
   "source": [
    "print(len(all_roles)) # 8708*15"
   ]
  },
  {
   "cell_type": "code",
   "execution_count": 19,
   "metadata": {
    "collapsed": false
   },
   "outputs": [
    {
     "data": {
      "text/plain": [
       "CHIEF_INVESTIGATOR         12136\n",
       "EXT_CHIEF_INVESTIGATOR      3732\n",
       "STUD_CHIEF_INVESTIGATOR      586\n",
       "PRINCIPAL_SUPERVISOR         536\n",
       "DELEGATED_RESEARCHER         315\n",
       "STUDRES                      157\n",
       "HONVISIT                      29\n",
       "EXTERNAL_ADVISOR               5\n",
       "dtype: int64"
      ]
     },
     "execution_count": 19,
     "metadata": {},
     "output_type": "execute_result"
    }
   ],
   "source": [
    "pd.Series(all_roles).value_counts()"
   ]
  },
  {
   "cell_type": "code",
   "execution_count": 20,
   "metadata": {
    "collapsed": true
   },
   "outputs": [
    {
     "data": {
      "text/plain": [
       "Australia                 8500\n",
       "Great Britain             1011\n",
       "Asia Pacific               549\n",
       "Western Europe             500\n",
       "North America              352\n",
       "Eastern Europe             193\n",
       "New Zealand                134\n",
       "Middle East and Africa     100\n",
       "South Africa                97\n",
       "The Americas                91\n",
       "dtype: int64"
      ]
     },
     "execution_count": 20,
     "metadata": {},
     "output_type": "execute_result"
    }
   ],
   "source": [
    "pd.Series(all_cob).value_counts()"
   ]
  },
  {
   "cell_type": "code",
   "execution_count": 21,
   "metadata": {
    "collapsed": false
   },
   "outputs": [
    {
     "data": {
      "text/html": [
       "<div>\n",
       "<table border=\"1\" class=\"dataframe\">\n",
       "  <thead>\n",
       "    <tr style=\"text-align: right;\">\n",
       "      <th></th>\n",
       "      <th>Grant.Application.ID</th>\n",
       "      <th>Grant.Status</th>\n",
       "      <th>Sponsor.Code</th>\n",
       "      <th>Grant.Category.Code</th>\n",
       "      <th>Contract.Value.Band...see.note.A</th>\n",
       "      <th>Start.date</th>\n",
       "      <th>RFCD.Code.1</th>\n",
       "      <th>RFCD.Percentage.1</th>\n",
       "      <th>RFCD.Code.2</th>\n",
       "      <th>RFCD.Percentage.2</th>\n",
       "      <th>...</th>\n",
       "      <th>Faculty.No..15</th>\n",
       "      <th>With.PHD.15</th>\n",
       "      <th>No..of.Years.in.Uni.at.Time.of.Grant.15</th>\n",
       "      <th>Number.of.Successful.Grant.15</th>\n",
       "      <th>Number.of.Unsuccessful.Grant.15</th>\n",
       "      <th>A..15</th>\n",
       "      <th>A.15</th>\n",
       "      <th>B.15</th>\n",
       "      <th>C.15</th>\n",
       "      <th>Unnamed: 251</th>\n",
       "    </tr>\n",
       "  </thead>\n",
       "  <tbody>\n",
       "    <tr>\n",
       "      <th>count</th>\n",
       "      <td>8708</td>\n",
       "      <td>8708</td>\n",
       "      <td>7796</td>\n",
       "      <td>7796</td>\n",
       "      <td>5145</td>\n",
       "      <td>8708</td>\n",
       "      <td>8074</td>\n",
       "      <td>8074</td>\n",
       "      <td>8074</td>\n",
       "      <td>8074</td>\n",
       "      <td>...</td>\n",
       "      <td>2</td>\n",
       "      <td>0.0</td>\n",
       "      <td>2</td>\n",
       "      <td>2</td>\n",
       "      <td>2</td>\n",
       "      <td>2</td>\n",
       "      <td>2</td>\n",
       "      <td>2</td>\n",
       "      <td>0.0</td>\n",
       "      <td>0.0</td>\n",
       "    </tr>\n",
       "    <tr>\n",
       "      <th>unique</th>\n",
       "      <td>8708</td>\n",
       "      <td>2</td>\n",
       "      <td>297</td>\n",
       "      <td>13</td>\n",
       "      <td>16</td>\n",
       "      <td>712</td>\n",
       "      <td>654</td>\n",
       "      <td>24</td>\n",
       "      <td>654</td>\n",
       "      <td>24</td>\n",
       "      <td>...</td>\n",
       "      <td>1</td>\n",
       "      <td>0.0</td>\n",
       "      <td>1</td>\n",
       "      <td>1</td>\n",
       "      <td>1</td>\n",
       "      <td>2</td>\n",
       "      <td>1</td>\n",
       "      <td>1</td>\n",
       "      <td>0.0</td>\n",
       "      <td>0.0</td>\n",
       "    </tr>\n",
       "    <tr>\n",
       "      <th>top</th>\n",
       "      <td>8351</td>\n",
       "      <td>0</td>\n",
       "      <td>4D</td>\n",
       "      <td>10A</td>\n",
       "      <td>A</td>\n",
       "      <td>19/11/05</td>\n",
       "      <td>320702</td>\n",
       "      <td>100</td>\n",
       "      <td>0</td>\n",
       "      <td>0</td>\n",
       "      <td>...</td>\n",
       "      <td>31</td>\n",
       "      <td>NaN</td>\n",
       "      <td>more than 15</td>\n",
       "      <td>1</td>\n",
       "      <td>0</td>\n",
       "      <td>13</td>\n",
       "      <td>3</td>\n",
       "      <td>2</td>\n",
       "      <td>NaN</td>\n",
       "      <td>NaN</td>\n",
       "    </tr>\n",
       "    <tr>\n",
       "      <th>freq</th>\n",
       "      <td>1</td>\n",
       "      <td>4716</td>\n",
       "      <td>2006</td>\n",
       "      <td>3953</td>\n",
       "      <td>2476</td>\n",
       "      <td>1079</td>\n",
       "      <td>353</td>\n",
       "      <td>3989</td>\n",
       "      <td>3989</td>\n",
       "      <td>3989</td>\n",
       "      <td>...</td>\n",
       "      <td>2</td>\n",
       "      <td>NaN</td>\n",
       "      <td>2</td>\n",
       "      <td>2</td>\n",
       "      <td>2</td>\n",
       "      <td>1</td>\n",
       "      <td>2</td>\n",
       "      <td>2</td>\n",
       "      <td>NaN</td>\n",
       "      <td>NaN</td>\n",
       "    </tr>\n",
       "  </tbody>\n",
       "</table>\n",
       "<p>4 rows × 252 columns</p>\n",
       "</div>"
      ],
      "text/plain": [
       "       Grant.Application.ID Grant.Status Sponsor.Code Grant.Category.Code  \\\n",
       "count                  8708         8708         7796                7796   \n",
       "unique                 8708            2          297                  13   \n",
       "top                    8351            0           4D                 10A   \n",
       "freq                      1         4716         2006                3953   \n",
       "\n",
       "       Contract.Value.Band...see.note.A Start.date RFCD.Code.1  \\\n",
       "count                              5145       8708        8074   \n",
       "unique                               16        712         654   \n",
       "top                                  A    19/11/05      320702   \n",
       "freq                               2476       1079         353   \n",
       "\n",
       "       RFCD.Percentage.1 RFCD.Code.2 RFCD.Percentage.2     ...       \\\n",
       "count               8074        8074              8074     ...        \n",
       "unique                24         654                24     ...        \n",
       "top                  100           0                 0     ...        \n",
       "freq                3989        3989              3989     ...        \n",
       "\n",
       "       Faculty.No..15 With.PHD.15 No..of.Years.in.Uni.at.Time.of.Grant.15  \\\n",
       "count               2         0.0                                       2   \n",
       "unique              1         0.0                                       1   \n",
       "top                31         NaN                            more than 15   \n",
       "freq                2         NaN                                       2   \n",
       "\n",
       "       Number.of.Successful.Grant.15 Number.of.Unsuccessful.Grant.15 A..15  \\\n",
       "count                              2                               2     2   \n",
       "unique                             1                               1     2   \n",
       "top                                1                               0    13   \n",
       "freq                               2                               2     1   \n",
       "\n",
       "       A.15 B.15 C.15 Unnamed: 251  \n",
       "count     2    2  0.0          0.0  \n",
       "unique    1    1  0.0          0.0  \n",
       "top       3    2  NaN          NaN  \n",
       "freq      2    2  NaN          NaN  \n",
       "\n",
       "[4 rows x 252 columns]"
      ]
     },
     "execution_count": 21,
     "metadata": {},
     "output_type": "execute_result"
    }
   ],
   "source": [
    "data.describe()"
   ]
  },
  {
   "cell_type": "code",
   "execution_count": 23,
   "metadata": {
    "collapsed": false
   },
   "outputs": [
    {
     "data": {
      "text/plain": [
       "array([nan, '2B', '29A', '40D', '59C', '4D', '28D', '136D', '100D', '1A',\n",
       "       '21A', '24D', '148D', '12D', '62B', '138B', '60D', '143C', '90B',\n",
       "       '18B', '89A', '34B', '47C', '36D', '32D', '172D', '184D', '5A',\n",
       "       '63C', '74B', '6B', '170B', '166B', '101A', '33A', '164D', '75C',\n",
       "       '161A', '157A', '9A', '126B', '149A', '53A', '94B', '97A', '160D',\n",
       "       '51C', '167C', '135C', '65A', '42B', '87C', '169A', '95C', '103C',\n",
       "       '147C', '133A', '150B', '155C', '174B', '83C', '175C', '139C',\n",
       "       '202B', '13A', '168D', '113A', '134B', '20D', '141A', '80D', '91C',\n",
       "       '187C', '26B', '162B', '93A', '84D', '158B', '55C', '77A', '429A',\n",
       "       '140D', '23C', '142B', '112D', '111C', '154B', '185A', '151C', '3C',\n",
       "       '428D', '137A', '37A', '146B', '176D', '145A', '85A', '14B', '69A',\n",
       "       '41A', '427C', '49A', '7C', '44D', '163C', '144D', '177A', '39C',\n",
       "       '153A', '173A', '159C', '178B', '156D', '186B', '152D', '171C',\n",
       "       '201A', '182B', '183C', '52D', '132D', '219C', '227C', '56D', '73A',\n",
       "       '107C', '224D', '188D', '229A', '230B', '210B', '430B', '86B',\n",
       "       '179C', '234B', '198B', '305A', '199C', '200D', '191C', '238B',\n",
       "       '222B', '223C', '54B', '196D', '216D', '120D', '190B', '189A',\n",
       "       '214B', '215C', '237A', '233A', '38B', '82B', '66B', '194B', '225A',\n",
       "       '212D', '208D', '180D', '68D', '211C', '203C', '192D', '228D',\n",
       "       '205A', '213A', '130B', '48D', '206B', '207C', '72D', '27C', '251C',\n",
       "       '204D', '193A', '195C', '239C', '67C', '217A', '218B', '226B',\n",
       "       '431C', '232D', '197A', '165A', '247C', '220D', '221A', '245A',\n",
       "       '282B', '11C', '250B', '252D', '292D', '235C', '105A', '242B',\n",
       "       '240D', '243C', '15C', '244D', '246B', '278B', '241A', '270B',\n",
       "       '277A', '275C', '295C', '372D', '284D', '258B', '297A', '256D',\n",
       "       '255C', '289A', '286B', '280D', '253A', '276D', '128D', '433A',\n",
       "       '81A', '298B', '78B', '435C', '285A', '339C', '288D', '294B',\n",
       "       '325A', '300D', '287C', '296D', '266B', '265A', '268D', '302B',\n",
       "       '257A', '263C', '269A', '434B', '16D', '432D', '279C', '272D',\n",
       "       '274B', '271C', '267C', '262B', '373A', '259C', '260D', '261A',\n",
       "       '281A', '309A', '308D', '304D', '303C', '307C', '310B', '326B',\n",
       "       '316D', '273A', '436D', '314B', '346B', '324D', '318B', '313A',\n",
       "       '312D', '311C', '315C', '437A', '118B', '299C', '330B', '319C',\n",
       "       '328D', '331C', '334B', '317A', '323C', '347C', '415C', '58B',\n",
       "       '374B', '362B', '363C', '342B', '357A', '370B', '371C', '290B',\n",
       "       '349A', '10B', '329A'], dtype=object)"
      ]
     },
     "execution_count": 23,
     "metadata": {},
     "output_type": "execute_result"
    }
   ],
   "source": [
    "data['Sponsor.Code'].unique()"
   ]
  },
  {
   "cell_type": "markdown",
   "metadata": {},
   "source": [
    "### Grants Status\n",
    "### Accepted Grants Ratio"
   ]
  },
  {
   "cell_type": "code",
   "execution_count": 49,
   "metadata": {
    "collapsed": false
   },
   "outputs": [
    {
     "data": {
      "text/plain": [
       "0.45842903077629765"
      ]
     },
     "execution_count": 49,
     "metadata": {},
     "output_type": "execute_result"
    }
   ],
   "source": [
    "accepted_grants_ratio = sum(data['Grant.Status'] == '1')/len(data)\n",
    "accepted_grants_ratio"
   ]
  },
  {
   "cell_type": "markdown",
   "metadata": {},
   "source": [
    "## Sponsor.Code Column"
   ]
  },
  {
   "cell_type": "code",
   "execution_count": 113,
   "metadata": {
    "collapsed": false
   },
   "outputs": [
    {
     "data": {
      "text/plain": [
       "0"
      ]
     },
     "execution_count": 113,
     "metadata": {},
     "output_type": "execute_result"
    }
   ],
   "source": [
    "# number of applications without a sponsor\n",
    "data['Sponsor.Code'].isnull().sum()"
   ]
  },
  {
   "cell_type": "code",
   "execution_count": 63,
   "metadata": {
    "collapsed": false,
    "scrolled": true
   },
   "outputs": [
    {
     "data": {
      "text/plain": [
       "749"
      ]
     },
     "execution_count": 63,
     "metadata": {},
     "output_type": "execute_result"
    }
   ],
   "source": [
    "# Number of applications without a sponsor that were accepted\n",
    "(data[data['Sponsor.Code'].isnull()]['Grant.Status'] =='1').sum()"
   ]
  },
  {
   "cell_type": "code",
   "execution_count": 68,
   "metadata": {
    "collapsed": false,
    "scrolled": true
   },
   "outputs": [
    {
     "data": {
      "text/plain": [
       "912"
      ]
     },
     "execution_count": 68,
     "metadata": {},
     "output_type": "execute_result"
    }
   ],
   "source": [
    "# Number of non-sponsored and without grant category code\n",
    "data[data['Sponsor.Code'].isnull()]['Grant.Category.Code'].isnull().sum()\n",
    "\n",
    "# All non sponsored applications have no grant category code <- logical?"
   ]
  },
  {
   "cell_type": "code",
   "execution_count": 80,
   "metadata": {
    "collapsed": false
   },
   "outputs": [
    {
     "data": {
      "text/plain": [
       "325"
      ]
     },
     "execution_count": 80,
     "metadata": {},
     "output_type": "execute_result"
    }
   ],
   "source": [
    "data[data['Sponsor.Code'].isnull()]['Contract.Value.Band...see.note.A'].isnull().sum()"
   ]
  },
  {
   "cell_type": "code",
   "execution_count": 86,
   "metadata": {
    "collapsed": false,
    "scrolled": true
   },
   "outputs": [
    {
     "data": {
      "text/plain": [
       "(444,)"
      ]
     },
     "execution_count": 86,
     "metadata": {},
     "output_type": "execute_result"
    }
   ],
   "source": [
    "data[data['Sponsor.Code'].isnull()]['Person.ID.1'].unique().shape"
   ]
  },
  {
   "cell_type": "code",
   "execution_count": 93,
   "metadata": {
    "collapsed": false
   },
   "outputs": [
    {
     "data": {
      "text/plain": [
       "912"
      ]
     },
     "execution_count": 93,
     "metadata": {},
     "output_type": "execute_result"
    }
   ],
   "source": [
    "data[data['Grant.Category.Code'].isnull()]['Sponsor.Code'].isnull().sum()"
   ]
  },
  {
   "cell_type": "code",
   "execution_count": 92,
   "metadata": {
    "collapsed": false,
    "scrolled": true
   },
   "outputs": [
    {
     "data": {
      "text/plain": [
       "912"
      ]
     },
     "execution_count": 92,
     "metadata": {},
     "output_type": "execute_result"
    }
   ],
   "source": [
    "data['Grant.Category.Code'].isnull().sum()"
   ]
  },
  {
   "cell_type": "code",
   "execution_count": 104,
   "metadata": {
    "collapsed": false,
    "scrolled": true
   },
   "outputs": [
    {
     "data": {
      "text/plain": [
       "'8'"
      ]
     },
     "execution_count": 104,
     "metadata": {},
     "output_type": "execute_result"
    }
   ],
   "source": [
    "data[data['Grant.Category.Code'].isnull()]['RFCD.Code.1'].unique()[0][1]"
   ]
  },
  {
   "cell_type": "code",
   "execution_count": 115,
   "metadata": {
    "collapsed": false
   },
   "outputs": [
    {
     "data": {
      "text/plain": [
       "912"
      ]
     },
     "execution_count": 115,
     "metadata": {},
     "output_type": "execute_result"
    }
   ],
   "source": [
    "data['Grant.Category.Code'].isnull().sum()"
   ]
  },
  {
   "cell_type": "markdown",
   "metadata": {},
   "source": [
    "# Filling missing data\n",
    "## All applications without a sponsor code will be assigned a new code, such as MIA"
   ]
  },
  {
   "cell_type": "code",
   "execution_count": 117,
   "metadata": {
    "collapsed": false,
    "scrolled": true
   },
   "outputs": [],
   "source": [
    "data.loc[data['Sponsor.Code'].isnull(),'Sponsor.Code'] = 'MIA'"
   ]
  },
  {
   "cell_type": "code",
   "execution_count": 118,
   "metadata": {
    "collapsed": true
   },
   "outputs": [],
   "source": [
    "data.loc[data['Grant.Category.Code'].isnull(),'Grant.Category.Code'] = 'MIA'"
   ]
  },
  {
   "cell_type": "markdown",
   "metadata": {},
   "source": [
    "# Contract Value Band processing"
   ]
  },
  {
   "cell_type": "code",
   "execution_count": 119,
   "metadata": {
    "collapsed": false
   },
   "outputs": [
    {
     "data": {
      "text/plain": [
       "3563"
      ]
     },
     "execution_count": 119,
     "metadata": {},
     "output_type": "execute_result"
    }
   ],
   "source": [
    "data['Contract.Value.Band...see.note.A'].isnull().sum()"
   ]
  },
  {
   "cell_type": "markdown",
   "metadata": {},
   "source": [
    "#### 41% of the applications have no contract value band\n",
    "Either fill missing values with a new 'Unknown' category (band) or fill them with the mode"
   ]
  },
  {
   "cell_type": "code",
   "execution_count": 121,
   "metadata": {
    "collapsed": false
   },
   "outputs": [
    {
     "data": {
      "text/plain": [
       "40.916398713826368"
      ]
     },
     "execution_count": 121,
     "metadata": {},
     "output_type": "execute_result"
    }
   ],
   "source": [
    "data['Contract.Value.Band...see.note.A'].isnull().sum()/len(data) *100"
   ]
  },
  {
   "cell_type": "markdown",
   "metadata": {},
   "source": [
    "## Start Date processing"
   ]
  },
  {
   "cell_type": "code",
   "execution_count": 122,
   "metadata": {
    "collapsed": false
   },
   "outputs": [
    {
     "data": {
      "text/plain": [
       "0"
      ]
     },
     "execution_count": 122,
     "metadata": {},
     "output_type": "execute_result"
    }
   ],
   "source": [
    "data['Start.date'].isnull().sum()"
   ]
  },
  {
   "cell_type": "markdown",
   "metadata": {},
   "source": [
    "# RFCD Code and Percentage processing"
   ]
  },
  {
   "cell_type": "code",
   "execution_count": 123,
   "metadata": {
    "collapsed": false
   },
   "outputs": [
    {
     "data": {
      "text/plain": [
       "634"
      ]
     },
     "execution_count": 123,
     "metadata": {},
     "output_type": "execute_result"
    }
   ],
   "source": [
    "data['RFCD.Code.1'].isnull().sum()"
   ]
  },
  {
   "cell_type": "code",
   "execution_count": 133,
   "metadata": {
    "collapsed": false
   },
   "outputs": [
    {
     "data": {
      "text/plain": [
       "0.072806614607257694"
      ]
     },
     "execution_count": 133,
     "metadata": {},
     "output_type": "execute_result"
    }
   ],
   "source": [
    "data['RFCD.Code.1'].isnull().sum()/len(data)"
   ]
  },
  {
   "cell_type": "code",
   "execution_count": 128,
   "metadata": {
    "collapsed": false
   },
   "outputs": [
    {
     "data": {
      "text/plain": [
       "270"
      ]
     },
     "execution_count": 128,
     "metadata": {},
     "output_type": "execute_result"
    }
   ],
   "source": [
    "(data[data['RFCD.Code.1'].isnull()]['Sponsor.Code'] =='MIA').sum()"
   ]
  },
  {
   "cell_type": "code",
   "execution_count": 132,
   "metadata": {
    "collapsed": false
   },
   "outputs": [
    {
     "data": {
      "text/plain": [
       "634"
      ]
     },
     "execution_count": 132,
     "metadata": {},
     "output_type": "execute_result"
    }
   ],
   "source": [
    "data[data['RFCD.Code.1'].isnull()]['RFCD.Code.5'].isnull().sum()"
   ]
  },
  {
   "cell_type": "code",
   "execution_count": 139,
   "metadata": {
    "collapsed": false
   },
   "outputs": [
    {
     "data": {
      "text/plain": [
       "317"
      ]
     },
     "execution_count": 139,
     "metadata": {},
     "output_type": "execute_result"
    }
   ],
   "source": [
    "(data[data['RFCD.Code.1'].isnull()]['Grant.Status'] =='1').sum()"
   ]
  },
  {
   "cell_type": "markdown",
   "metadata": {},
   "source": [
    "Either fill missing values with a new category or ignore these grants"
   ]
  },
  {
   "cell_type": "code",
   "execution_count": 141,
   "metadata": {
    "collapsed": false
   },
   "outputs": [
    {
     "data": {
      "text/plain": [
       "(655,)"
      ]
     },
     "execution_count": 141,
     "metadata": {},
     "output_type": "execute_result"
    }
   ],
   "source": [
    "data['RFCD.Code.1'].unique().shape"
   ]
  },
  {
   "cell_type": "code",
   "execution_count": 155,
   "metadata": {
    "collapsed": false
   },
   "outputs": [
    {
     "ename": "TypeError",
     "evalue": "'float' object is not subscriptable",
     "output_type": "error",
     "traceback": [
      "\u001b[0;31m---------------------------------------------------------------------------\u001b[0m",
      "\u001b[0;31mTypeError\u001b[0m                                 Traceback (most recent call last)",
      "\u001b[0;32m<ipython-input-155-e54df1a5c5f0>\u001b[0m in \u001b[0;36m<module>\u001b[0;34m()\u001b[0m\n\u001b[0;32m----> 1\u001b[0;31m \u001b[1;33m[\u001b[0m\u001b[0mx\u001b[0m\u001b[1;33m[\u001b[0m\u001b[1;36m0\u001b[0m\u001b[1;33m]\u001b[0m \u001b[1;32mfor\u001b[0m \u001b[0mx\u001b[0m \u001b[1;32min\u001b[0m \u001b[0mdata\u001b[0m\u001b[1;33m[\u001b[0m\u001b[1;34m'RFCD.Code.1'\u001b[0m\u001b[1;33m]\u001b[0m\u001b[1;33m.\u001b[0m\u001b[0munique\u001b[0m\u001b[1;33m(\u001b[0m\u001b[1;33m)\u001b[0m\u001b[1;33m]\u001b[0m\u001b[1;33m\u001b[0m\u001b[0m\n\u001b[0m",
      "\u001b[0;32m<ipython-input-155-e54df1a5c5f0>\u001b[0m in \u001b[0;36m<listcomp>\u001b[0;34m(.0)\u001b[0m\n\u001b[0;32m----> 1\u001b[0;31m \u001b[1;33m[\u001b[0m\u001b[0mx\u001b[0m\u001b[1;33m[\u001b[0m\u001b[1;36m0\u001b[0m\u001b[1;33m]\u001b[0m \u001b[1;32mfor\u001b[0m \u001b[0mx\u001b[0m \u001b[1;32min\u001b[0m \u001b[0mdata\u001b[0m\u001b[1;33m[\u001b[0m\u001b[1;34m'RFCD.Code.1'\u001b[0m\u001b[1;33m]\u001b[0m\u001b[1;33m.\u001b[0m\u001b[0munique\u001b[0m\u001b[1;33m(\u001b[0m\u001b[1;33m)\u001b[0m\u001b[1;33m]\u001b[0m\u001b[1;33m\u001b[0m\u001b[0m\n\u001b[0m",
      "\u001b[0;31mTypeError\u001b[0m: 'float' object is not subscriptable"
     ]
    }
   ],
   "source": [
    "[x[0] for x in data['RFCD.Code.1'].unique()]"
   ]
  },
  {
   "cell_type": "code",
   "execution_count": 152,
   "metadata": {
    "collapsed": false
   },
   "outputs": [
    {
     "data": {
      "text/plain": [
       "str"
      ]
     },
     "execution_count": 152,
     "metadata": {},
     "output_type": "execute_result"
    }
   ],
   "source": [
    "type(data['RFCD.Code.1'].unique()[0])"
   ]
  },
  {
   "cell_type": "code",
   "execution_count": 173,
   "metadata": {
    "collapsed": true
   },
   "outputs": [
    {
     "data": {
      "text/plain": [
       "array(['280199', '280103', '321004', '270602', '260500', '321204',\n",
       "       '270708', '321405', '260108', '230111', '270603', '320702',\n",
       "       '291599', '280203', '321099', '300903', '300508', '380103',\n",
       "       '270103', '370107', '321021', '291801', '330305', nan, '270299',\n",
       "       '350201', '400303', '330107', '260109', '270104', '270201',\n",
       "       '300105', '321028', '321216', '320602', '420303', '260602',\n",
       "       '321003', '321402', '300403', '270402', '380107', '270403',\n",
       "       '321015', '320700', '330103', '270106', '210000', '270105',\n",
       "       '270108', '240204', '321206', '320405', '250200', '321202',\n",
       "       '360299', '320502', '279901', '320305', '321208', '290104',\n",
       "       '300204', '270804', '321006', '320202', '290801', '291104',\n",
       "       '270199', '320302', '230204', '270699', '360101', '280100',\n",
       "       '321005', '390301', '320899', '350301', '320503', '300399',\n",
       "       '290102', '270208', '340207', '260107', '270504', '320403',\n",
       "       '320705', '320207', '310101', '320701', '310103', '320703',\n",
       "       '330104', '321019', '321201', '320000', '240499', '380299',\n",
       "       '339999', '270304', '259904', '260502', '250103', '260501',\n",
       "       '270306', '440205', '240301', '270203', '280104', '321299',\n",
       "       '250105', '329903', '280210', '269901', '321016', '321025',\n",
       "       '390305', '390111', '380399', '410101', '291702', '350603',\n",
       "       '360105', '440104', '320299', '340204', '270501', '270401',\n",
       "       '320603', '240201', '321014', '321008', '430101', '240401',\n",
       "       '300199', '270802', '230107', '321013', '230119', '291501',\n",
       "       '390105', '370105', '330101', '320401', '270205', '280102',\n",
       "       '270000', '239901', '300104', '321010', '370204', '399999',\n",
       "       '330199', '270404', '380199', '320800', '370603', '280301',\n",
       "       '240302', '270101', '340101', '320804', '320204', '270702',\n",
       "       '321024', '321105', '370302', '291803', '300704', '320599',\n",
       "       '240101', '270502', '270707', '250501', '260301', '300406',\n",
       "       '420104', '320704', '290704', '390114', '300899', '300605',\n",
       "       '370602', '321012', '410202', '230101', '380208', '260399',\n",
       "       '390199', '270899', '420302', '300901', '300803', '321210',\n",
       "       '270599', '430104', '320600', '300202', '320699', '291004',\n",
       "       '250204', '270100', '420114', '321000', '321029', '270799',\n",
       "       '350101', '380106', '270102', '270704', '260102', '321017',\n",
       "       '399901', '320402', '280110', '270703', '360102', '291804',\n",
       "       '370504', '430203', '330109', '300606', '320200', '420306',\n",
       "       '380201', '350103', '321203', '321214', '320303', '280399',\n",
       "       '310102', '370499', '380102', '410301', '321027', '250301',\n",
       "       '290603', '280204', '291704', '300205', '370401', '321403',\n",
       "       '279999', '321401', '330301', '321207', '300601', '321022',\n",
       "       '280106', '320799', '230105', '321007', '321200', '270307',\n",
       "       '270303', '350299', '321023', '300304', '300799', '300501',\n",
       "       '320206', '300203', '270210', '250502', '230202', '239999',\n",
       "       '300510', '321026', '380101', '249901', '300401', '291401',\n",
       "       '270202', '290901', '270107', '349999', '380105', '340205',\n",
       "       '280108', '240100', '280211', '250199', '291103', '291799',\n",
       "       '379999', '270705', '270803', '280207', '350212', '300201',\n",
       "       '390102', '310199', '230112', '430102', '300305', '250302',\n",
       "       '280105', '309901', '321102', '250303', '321018', '330108',\n",
       "       '250104', '300801', '430108', '280304', '290699', '280401',\n",
       "       '280205', '380207', '370102', '410199', '380203', '410102',\n",
       "       '259902', '270701', '390118', '280112', '350303', '340499',\n",
       "       '291499', '330206', '300299', '360201', '390201', '280212',\n",
       "       '300405', '260601', '390116', '370402', '370201', '340403',\n",
       "       '420201', '390107', '420206', '310202', '291503', '310105',\n",
       "       '240402', '420102', '270207', '300303', '270499', '300599',\n",
       "       '320205', '321205', '320307', '250107', '329999', '321020',\n",
       "       '321209', '270503', '290501', '430111', '250201', '420199',\n",
       "       '370503', '379901', '260114', '400399', '270801', '321001',\n",
       "       '321002', '400301', '360104', '329900', '300804', '380302',\n",
       "       '350202', '350107', '410303', '250699', '300102', '290899',\n",
       "       '280109', '290302', '300503', '999999', '320203', '370301',\n",
       "       '320801', '230118', '260599', '440110', '370199', '280213',\n",
       "       '290205', '259999', '260105', '330202', '300404', '350211',\n",
       "       '300507', '340402', '390103', '370106', '230117', '330302',\n",
       "       '320501', '309999', '330399', '340299', '370299', '330201',\n",
       "       '300603', '430201', '329902', '291405', '300699', '300604',\n",
       "       '300505', '370202', '300302', '291003', '321011', '309902',\n",
       "       '300902', '250101', '310201', '419999', '360202', '299904',\n",
       "       '280101', '291005', '289999', '390401', '240503', '320803',\n",
       "       '419901', '291199', '300103', '291001', '240199', '390303',\n",
       "       '291899', '420208', '430199', '280107', '270302', '300802',\n",
       "       '410302', '420304', '340208', '250206', '440105', '380109',\n",
       "       '420103', '420202', '370101', '370601', '390112', '249902',\n",
       "       '280302', '420301', '440199', '250404', '390404', '291802',\n",
       "       '340301', '250106', '249999', '250604', '440113', '340404',\n",
       "       '430107', '291404', '290401', '410299', '420218', '291403',\n",
       "       '280201', '291402', '420101', '240203', '270301', '420305',\n",
       "       '440101', '420207', '270706', '230199', '400104', '420215',\n",
       "       '360103', '420307', '380304', '390119', '390302', '300602',\n",
       "       '380205', '380206', '370104', '420106', '291504', '280506',\n",
       "       '380108', '420399', '440109', '320304', '420308', '239903',\n",
       "       '300805', '291706', '350399', '380204', '360199', '350501',\n",
       "       '280303', '330105', '380303', '340209', '320504', '290804',\n",
       "       '270601', '250203', '250102', '390104', '230203', '390106',\n",
       "       '230201', '370502', '330203', '330307', '320201', '319999',\n",
       "       '350204', '300504', '250402', '321199', '321103', '291099',\n",
       "       '340401', '340202', '330205', '389999', '290309', '340206',\n",
       "       '330299', '379902', '350302', '300506', '270209', '320404',\n",
       "       '390405', '290101', '250503', '290105', '299902', '350604',\n",
       "       '321030', '310299', '321009', '290903', '310203', '400101',\n",
       "       '290702', '370501', '300499', '260699', '340213', '390403',\n",
       "       '290803', '259903', '310106', '321499', '321301', '321217',\n",
       "       '390399', '291101', '240501', '330106', '440103', '430109',\n",
       "       '321101', '300705', '310104', '340405', '340211', '330303',\n",
       "       '300512', '390113', '370103', '300502', '390120', '350102',\n",
       "       '260110', '400103', '280504', '230113', '240202', '350208',\n",
       "       '291707', '250399', '290805', '430103', '420216', '260112',\n",
       "       '290602', '390108', '420220', '291006', '440106', '430110',\n",
       "       '250603', '249903', '370699', '280208', '250405', '230116',\n",
       "       '410304', '350405', '321212', '320499', '321213', '430205',\n",
       "       '340201', '270206', '300511', '440204', '291102', '420205',\n",
       "       '321399', '290601', '350504', '300402', '410104', '290103',\n",
       "       '290201', '390115', '330102', '270709', '370203', '250401',\n",
       "       '290802', '440107', '420217', '349901', '340102', '440114',\n",
       "       '260499', '370399', '260101', '440203', '240502', '390204',\n",
       "       '291502', '321215', '250499', '380104', '260199', '340214',\n",
       "       '260401', '430112', '269999', '321302', '250602', '250605'], dtype=object)"
      ]
     },
     "execution_count": 173,
     "metadata": {},
     "output_type": "execute_result"
    }
   ],
   "source": [
    "data['RFCD.Code.1'].unique()"
   ]
  },
  {
   "cell_type": "code",
   "execution_count": 178,
   "metadata": {
    "collapsed": false,
    "scrolled": true
   },
   "outputs": [
    {
     "data": {
      "text/plain": [
       "['28',\n",
       " '28',\n",
       " '32',\n",
       " '27',\n",
       " '26',\n",
       " '32',\n",
       " '27',\n",
       " '32',\n",
       " '26',\n",
       " '23',\n",
       " '27',\n",
       " '32',\n",
       " '29',\n",
       " '28',\n",
       " '32',\n",
       " '30',\n",
       " '30',\n",
       " '38',\n",
       " '27',\n",
       " '37',\n",
       " '32',\n",
       " '29',\n",
       " '33',\n",
       " 'na',\n",
       " '27',\n",
       " '35',\n",
       " '40',\n",
       " '33',\n",
       " '26',\n",
       " '27',\n",
       " '27',\n",
       " '30',\n",
       " '32',\n",
       " '32',\n",
       " '32',\n",
       " '42',\n",
       " '26',\n",
       " '32',\n",
       " '32',\n",
       " '30',\n",
       " '27',\n",
       " '38',\n",
       " '27',\n",
       " '32',\n",
       " '32',\n",
       " '33',\n",
       " '27',\n",
       " '21',\n",
       " '27',\n",
       " '27',\n",
       " '24',\n",
       " '32',\n",
       " '32',\n",
       " '25',\n",
       " '32',\n",
       " '36',\n",
       " '32',\n",
       " '27',\n",
       " '32',\n",
       " '32',\n",
       " '29',\n",
       " '30',\n",
       " '27',\n",
       " '32',\n",
       " '32',\n",
       " '29',\n",
       " '29',\n",
       " '27',\n",
       " '32',\n",
       " '23',\n",
       " '27',\n",
       " '36',\n",
       " '28',\n",
       " '32',\n",
       " '39',\n",
       " '32',\n",
       " '35',\n",
       " '32',\n",
       " '30',\n",
       " '29',\n",
       " '27',\n",
       " '34',\n",
       " '26',\n",
       " '27',\n",
       " '32',\n",
       " '32',\n",
       " '32',\n",
       " '31',\n",
       " '32',\n",
       " '31',\n",
       " '32',\n",
       " '33',\n",
       " '32',\n",
       " '32',\n",
       " '32',\n",
       " '24',\n",
       " '38',\n",
       " '33',\n",
       " '27',\n",
       " '25',\n",
       " '26',\n",
       " '25',\n",
       " '26',\n",
       " '27',\n",
       " '44',\n",
       " '24',\n",
       " '27',\n",
       " '28',\n",
       " '32',\n",
       " '25',\n",
       " '32',\n",
       " '28',\n",
       " '26',\n",
       " '32',\n",
       " '32',\n",
       " '39',\n",
       " '39',\n",
       " '38',\n",
       " '41',\n",
       " '29',\n",
       " '35',\n",
       " '36',\n",
       " '44',\n",
       " '32',\n",
       " '34',\n",
       " '27',\n",
       " '27',\n",
       " '32',\n",
       " '24',\n",
       " '32',\n",
       " '32',\n",
       " '43',\n",
       " '24',\n",
       " '30',\n",
       " '27',\n",
       " '23',\n",
       " '32',\n",
       " '23',\n",
       " '29',\n",
       " '39',\n",
       " '37',\n",
       " '33',\n",
       " '32',\n",
       " '27',\n",
       " '28',\n",
       " '27',\n",
       " '23',\n",
       " '30',\n",
       " '32',\n",
       " '37',\n",
       " '39',\n",
       " '33',\n",
       " '27',\n",
       " '38',\n",
       " '32',\n",
       " '37',\n",
       " '28',\n",
       " '24',\n",
       " '27',\n",
       " '34',\n",
       " '32',\n",
       " '32',\n",
       " '27',\n",
       " '32',\n",
       " '32',\n",
       " '37',\n",
       " '29',\n",
       " '30',\n",
       " '32',\n",
       " '24',\n",
       " '27',\n",
       " '27',\n",
       " '25',\n",
       " '26',\n",
       " '30',\n",
       " '42',\n",
       " '32',\n",
       " '29',\n",
       " '39',\n",
       " '30',\n",
       " '30',\n",
       " '37',\n",
       " '32',\n",
       " '41',\n",
       " '23',\n",
       " '38',\n",
       " '26',\n",
       " '39',\n",
       " '27',\n",
       " '42',\n",
       " '30',\n",
       " '30',\n",
       " '32',\n",
       " '27',\n",
       " '43',\n",
       " '32',\n",
       " '30',\n",
       " '32',\n",
       " '29',\n",
       " '25',\n",
       " '27',\n",
       " '42',\n",
       " '32',\n",
       " '32',\n",
       " '27',\n",
       " '35',\n",
       " '38',\n",
       " '27',\n",
       " '27',\n",
       " '26',\n",
       " '32',\n",
       " '39',\n",
       " '32',\n",
       " '28',\n",
       " '27',\n",
       " '36',\n",
       " '29',\n",
       " '37',\n",
       " '43',\n",
       " '33',\n",
       " '30',\n",
       " '32',\n",
       " '42',\n",
       " '38',\n",
       " '35',\n",
       " '32',\n",
       " '32',\n",
       " '32',\n",
       " '28',\n",
       " '31',\n",
       " '37',\n",
       " '38',\n",
       " '41',\n",
       " '32',\n",
       " '25',\n",
       " '29',\n",
       " '28',\n",
       " '29',\n",
       " '30',\n",
       " '37',\n",
       " '32',\n",
       " '27',\n",
       " '32',\n",
       " '33',\n",
       " '32',\n",
       " '30',\n",
       " '32',\n",
       " '28',\n",
       " '32',\n",
       " '23',\n",
       " '32',\n",
       " '32',\n",
       " '27',\n",
       " '27',\n",
       " '35',\n",
       " '32',\n",
       " '30',\n",
       " '30',\n",
       " '30',\n",
       " '32',\n",
       " '30',\n",
       " '27',\n",
       " '25',\n",
       " '23',\n",
       " '23',\n",
       " '30',\n",
       " '32',\n",
       " '38',\n",
       " '24',\n",
       " '30',\n",
       " '29',\n",
       " '27',\n",
       " '29',\n",
       " '27',\n",
       " '34',\n",
       " '38',\n",
       " '34',\n",
       " '28',\n",
       " '24',\n",
       " '28',\n",
       " '25',\n",
       " '29',\n",
       " '29',\n",
       " '37',\n",
       " '27',\n",
       " '27',\n",
       " '28',\n",
       " '35',\n",
       " '30',\n",
       " '39',\n",
       " '31',\n",
       " '23',\n",
       " '43',\n",
       " '30',\n",
       " '25',\n",
       " '28',\n",
       " '30',\n",
       " '32',\n",
       " '25',\n",
       " '32',\n",
       " '33',\n",
       " '25',\n",
       " '30',\n",
       " '43',\n",
       " '28',\n",
       " '29',\n",
       " '28',\n",
       " '28',\n",
       " '38',\n",
       " '37',\n",
       " '41',\n",
       " '38',\n",
       " '41',\n",
       " '25',\n",
       " '27',\n",
       " '39',\n",
       " '28',\n",
       " '35',\n",
       " '34',\n",
       " '29',\n",
       " '33',\n",
       " '30',\n",
       " '36',\n",
       " '39',\n",
       " '28',\n",
       " '30',\n",
       " '26',\n",
       " '39',\n",
       " '37',\n",
       " '37',\n",
       " '34',\n",
       " '42',\n",
       " '39',\n",
       " '42',\n",
       " '31',\n",
       " '29',\n",
       " '31',\n",
       " '24',\n",
       " '42',\n",
       " '27',\n",
       " '30',\n",
       " '27',\n",
       " '30',\n",
       " '32',\n",
       " '32',\n",
       " '32',\n",
       " '25',\n",
       " '32',\n",
       " '32',\n",
       " '32',\n",
       " '27',\n",
       " '29',\n",
       " '43',\n",
       " '25',\n",
       " '42',\n",
       " '37',\n",
       " '37',\n",
       " '26',\n",
       " '40',\n",
       " '27',\n",
       " '32',\n",
       " '32',\n",
       " '40',\n",
       " '36',\n",
       " '32',\n",
       " '30',\n",
       " '38',\n",
       " '35',\n",
       " '35',\n",
       " '41',\n",
       " '25',\n",
       " '30',\n",
       " '29',\n",
       " '28',\n",
       " '29',\n",
       " '30',\n",
       " '99',\n",
       " '32',\n",
       " '37',\n",
       " '32',\n",
       " '23',\n",
       " '26',\n",
       " '44',\n",
       " '37',\n",
       " '28',\n",
       " '29',\n",
       " '25',\n",
       " '26',\n",
       " '33',\n",
       " '30',\n",
       " '35',\n",
       " '30',\n",
       " '34',\n",
       " '39',\n",
       " '37',\n",
       " '23',\n",
       " '33',\n",
       " '32',\n",
       " '30',\n",
       " '33',\n",
       " '34',\n",
       " '37',\n",
       " '33',\n",
       " '30',\n",
       " '43',\n",
       " '32',\n",
       " '29',\n",
       " '30',\n",
       " '30',\n",
       " '30',\n",
       " '37',\n",
       " '30',\n",
       " '29',\n",
       " '32',\n",
       " '30',\n",
       " '30',\n",
       " '25',\n",
       " '31',\n",
       " '41',\n",
       " '36',\n",
       " '29',\n",
       " '28',\n",
       " '29',\n",
       " '28',\n",
       " '39',\n",
       " '24',\n",
       " '32',\n",
       " '41',\n",
       " '29',\n",
       " '30',\n",
       " '29',\n",
       " '24',\n",
       " '39',\n",
       " '29',\n",
       " '42',\n",
       " '43',\n",
       " '28',\n",
       " '27',\n",
       " '30',\n",
       " '41',\n",
       " '42',\n",
       " '34',\n",
       " '25',\n",
       " '44',\n",
       " '38',\n",
       " '42',\n",
       " '42',\n",
       " '37',\n",
       " '37',\n",
       " '39',\n",
       " '24',\n",
       " '28',\n",
       " '42',\n",
       " '44',\n",
       " '25',\n",
       " '39',\n",
       " '29',\n",
       " '34',\n",
       " '25',\n",
       " '24',\n",
       " '25',\n",
       " '44',\n",
       " '34',\n",
       " '43',\n",
       " '29',\n",
       " '29',\n",
       " '41',\n",
       " '42',\n",
       " '29',\n",
       " '28',\n",
       " '29',\n",
       " '42',\n",
       " '24',\n",
       " '27',\n",
       " '42',\n",
       " '44',\n",
       " '42',\n",
       " '27',\n",
       " '23',\n",
       " '40',\n",
       " '42',\n",
       " '36',\n",
       " '42',\n",
       " '38',\n",
       " '39',\n",
       " '39',\n",
       " '30',\n",
       " '38',\n",
       " '38',\n",
       " '37',\n",
       " '42',\n",
       " '29',\n",
       " '28',\n",
       " '38',\n",
       " '42',\n",
       " '44',\n",
       " '32',\n",
       " '42',\n",
       " '23',\n",
       " '30',\n",
       " '29',\n",
       " '35',\n",
       " '38',\n",
       " '36',\n",
       " '35',\n",
       " '28',\n",
       " '33',\n",
       " '38',\n",
       " '34',\n",
       " '32',\n",
       " '29',\n",
       " '27',\n",
       " '25',\n",
       " '25',\n",
       " '39',\n",
       " '23',\n",
       " '39',\n",
       " '23',\n",
       " '37',\n",
       " '33',\n",
       " '33',\n",
       " '32',\n",
       " '31',\n",
       " '35',\n",
       " '30',\n",
       " '25',\n",
       " '32',\n",
       " '32',\n",
       " '29',\n",
       " '34',\n",
       " '34',\n",
       " '33',\n",
       " '38',\n",
       " '29',\n",
       " '34',\n",
       " '33',\n",
       " '37',\n",
       " '35',\n",
       " '30',\n",
       " '27',\n",
       " '32',\n",
       " '39',\n",
       " '29',\n",
       " '25',\n",
       " '29',\n",
       " '29',\n",
       " '35',\n",
       " '32',\n",
       " '31',\n",
       " '32',\n",
       " '29',\n",
       " '31',\n",
       " '40',\n",
       " '29',\n",
       " '37',\n",
       " '30',\n",
       " '26',\n",
       " '34',\n",
       " '39',\n",
       " '29',\n",
       " '25',\n",
       " '31',\n",
       " '32',\n",
       " '32',\n",
       " '32',\n",
       " '39',\n",
       " '29',\n",
       " '24',\n",
       " '33',\n",
       " '44',\n",
       " '43',\n",
       " '32',\n",
       " '30',\n",
       " '31',\n",
       " '34',\n",
       " '34',\n",
       " '33',\n",
       " '30',\n",
       " '39',\n",
       " '37',\n",
       " '30',\n",
       " '39',\n",
       " '35',\n",
       " '26',\n",
       " '40',\n",
       " '28',\n",
       " '23',\n",
       " '24',\n",
       " '35',\n",
       " '29',\n",
       " '25',\n",
       " '29',\n",
       " '43',\n",
       " '42',\n",
       " '26',\n",
       " '29',\n",
       " '39',\n",
       " '42',\n",
       " '29',\n",
       " '44',\n",
       " '43',\n",
       " '25',\n",
       " '24',\n",
       " '37',\n",
       " '28',\n",
       " '25',\n",
       " '23',\n",
       " '41',\n",
       " '35',\n",
       " '32',\n",
       " '32',\n",
       " '32',\n",
       " '43',\n",
       " '34',\n",
       " '27',\n",
       " '30',\n",
       " '44',\n",
       " '29',\n",
       " '42',\n",
       " '32',\n",
       " '29',\n",
       " '35',\n",
       " '30',\n",
       " '41',\n",
       " '29',\n",
       " '29',\n",
       " '39',\n",
       " '33',\n",
       " '27',\n",
       " '37',\n",
       " '25',\n",
       " '29',\n",
       " '44',\n",
       " '42',\n",
       " '34',\n",
       " '34',\n",
       " '44',\n",
       " '26',\n",
       " '37',\n",
       " '26',\n",
       " '44',\n",
       " '24',\n",
       " '39',\n",
       " '29',\n",
       " '32',\n",
       " '25',\n",
       " '38',\n",
       " '26',\n",
       " '34',\n",
       " '26',\n",
       " '43',\n",
       " '26',\n",
       " '32',\n",
       " '25',\n",
       " '25']"
      ]
     },
     "execution_count": 178,
     "metadata": {},
     "output_type": "execute_result"
    }
   ],
   "source": [
    "[str(x)[0:2] for x in data['RFCD.Code.1'].unique() if x is not 'nan']"
   ]
  },
  {
   "cell_type": "code",
   "execution_count": null,
   "metadata": {
    "collapsed": true
   },
   "outputs": [],
   "source": []
  }
 ],
 "metadata": {
  "anaconda-cloud": {},
  "kernelspec": {
   "display_name": "Python [conda root]",
   "language": "python",
   "name": "conda-root-py"
  },
  "language_info": {
   "codemirror_mode": {
    "name": "ipython",
    "version": 3
   },
   "file_extension": ".py",
   "mimetype": "text/x-python",
   "name": "python",
   "nbconvert_exporter": "python",
   "pygments_lexer": "ipython3",
   "version": "3.5.2"
  }
 },
 "nbformat": 4,
 "nbformat_minor": 0
}
