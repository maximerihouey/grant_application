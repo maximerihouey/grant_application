{
 "cells": [
  {
   "cell_type": "code",
   "execution_count": null,
   "metadata": {
    "collapsed": true
   },
   "outputs": [],
   "source": [
    "import numpy as np\n",
    "import pandas as pd\n",
    "\n",
    "#\n",
    "# Contigency for persons\n",
    "#\n",
    "# build the list of all unique values of a given spread column, as a tuple\n",
    "def process_column(data, prefix, nb_max):\n",
    "    unique_values = set([])\n",
    "    for i in range(1, nb_max+1):\n",
    "        unique_values.update(data[prefix+str(i)].unique())\n",
    "    return tuple(unique_values)\n",
    "\n",
    "# Build a dataframe with contingecy frequencies from a given spread column\n",
    "def add_contigency(prefix, nb_max, unique_values, add_cardinal, keep_nan):\n",
    "    nb_unique_values = len(unique_values)\n",
    "    has_nans = np.nan in unique_values\n",
    "    nan_index = unique_values.index(np.nan)\n",
    "    new_feature_labels = [prefix+str(value) for value in unique_values]\n",
    "    if has_nans and not keep_nan:\n",
    "        new_feature_labels.pop(nan_index)\n",
    "    if add_cardinal:\n",
    "        new_feature_labels.append(\"cardinal_\"+prefix)\n",
    "    def nested_func(x):\n",
    "        values_frequency = [0]*nb_unique_values\n",
    "        for i in range(1, nb_max+1):\n",
    "            values_frequency[unique_values.index(x[prefix+str(i)])] += 1\n",
    "        if has_nans:\n",
    "            values_frequency[nan_index] = 0\n",
    "            if not keep_nan:\n",
    "                values_frequency.pop(nan_index)\n",
    "        summe = sum(values_frequency)\n",
    "        if summe != 0:\n",
    "            values_frequency = [value/summe for value in values_frequency]\n",
    "        if add_cardinal:\n",
    "            values_frequency.append(summe)\n",
    "        return pd.Series(values_frequency, index=new_feature_labels)\n",
    "    return nested_func\n",
    "\n",
    "# Build a dataframe with contingecy frequencies from a given spread column\n",
    "def build_contigency(data, prefix, nb_max, add_cardinal=False, keep_nan=False):\n",
    "    unique_values = process_column(data, prefix, nb_max)\n",
    "    return unique_values, data.apply(add_contigency(prefix, nb_max, unique_values, add_cardinal, keep_nan), axis=1, raw=True)\n",
    "\n",
    "#\n",
    "# aggregations for person\n",
    "#\n",
    "# Build a dataframe with contingecy frequencies from a given spread column\n",
    "def add_aggregation(prefixes, nb_max):\n",
    "    feature_names_by_prefix = [[prefix+str(i) for i in range(1, nb_max+1)] for prefix in prefixes]\n",
    "    methods_to_apply = [np.mean, np.max, np.min]\n",
    "    new_feature_labels_by_prefix = [[label_prefix+prefix for label_prefix in [\"mean_\", \"max_\", \"min_\"]] for prefix in prefixes]\n",
    "    flat_new_labels = [new_feature_label for new_feature_labels in new_feature_labels_by_prefix for new_feature_label in new_feature_labels]\n",
    "    def nested_func(x):\n",
    "        values_by_prefix = [\n",
    "            [x[feature_name] for feature_name in feature_names if np.isreal(x[feature_name]) and not np.isnan(x[feature_name])]\n",
    "            for feature_names in feature_names_by_prefix\n",
    "        ]\n",
    "        aggregated_values_by_prefix = [[method(values) for method in methods_to_apply] if len(values) > 0 else [np.nan]*len(methods_to_apply) for values in values_by_prefix]\n",
    "        return pd.Series(\n",
    "            data=[aggregated_value for aggregated_values in aggregated_values_by_prefix for aggregated_value in aggregated_values], \n",
    "            index=flat_new_labels\n",
    "        )\n",
    "    return nested_func\n",
    "# Build a dataframe with contingecy frequencies from a given spread column\n",
    "def build_aggregation(data, prefix, nb_max):\n",
    "    return data.apply(add_aggregation(prefix, nb_max), axis=1, raw=True)"
   ]
  },
  {
   "cell_type": "code",
   "execution_count": 195,
   "metadata": {
    "collapsed": false,
    "scrolled": false
   },
   "outputs": [
    {
     "data": {
      "text/plain": [
       "Grant.Application.ID                        object\n",
       "Grant.Status                                object\n",
       "Sponsor.Code                                object\n",
       "Grant.Category.Code                         object\n",
       "Contract.Value.Band...see.note.A            object\n",
       "Start.date                                  object\n",
       "RFCD.Code.1                                 object\n",
       "RFCD.Percentage.1                          float64\n",
       "RFCD.Code.2                                 object\n",
       "RFCD.Percentage.2                          float64\n",
       "RFCD.Code.3                                 object\n",
       "RFCD.Percentage.3                          float64\n",
       "RFCD.Code.4                                 object\n",
       "RFCD.Percentage.4                          float64\n",
       "RFCD.Code.5                                 object\n",
       "RFCD.Percentage.5                          float64\n",
       "SEO.Code.1                                  object\n",
       "SEO.Percentage.1                           float64\n",
       "SEO.Code.2                                  object\n",
       "SEO.Percentage.2                           float64\n",
       "SEO.Code.3                                  object\n",
       "SEO.Percentage.3                           float64\n",
       "SEO.Code.4                                  object\n",
       "SEO.Percentage.4                           float64\n",
       "SEO.Code.5                                  object\n",
       "SEO.Percentage.5                           float64\n",
       "Person.ID.1                                 object\n",
       "Role.1                                      object\n",
       "Year.of.Birth.1                            float64\n",
       "Country.of.Birth.1                          object\n",
       "                                            ...   \n",
       "Year.of.Birth.14                           float64\n",
       "Country.of.Birth.14                         object\n",
       "Home.Language.14                            object\n",
       "Dept.No..14                                 object\n",
       "Faculty.No..14                              object\n",
       "With.PHD.14                                 object\n",
       "No..of.Years.in.Uni.at.Time.of.Grant.14     object\n",
       "Number.of.Successful.Grant.14              float64\n",
       "Number.of.Unsuccessful.Grant.14            float64\n",
       "A..14                                      float64\n",
       "A.14                                       float64\n",
       "B.14                                       float64\n",
       "C.14                                       float64\n",
       "Person.ID.15                                object\n",
       "Role.15                                     object\n",
       "Year.of.Birth.15                           float64\n",
       "Country.of.Birth.15                         object\n",
       "Home.Language.15                            object\n",
       "Dept.No..15                                 object\n",
       "Faculty.No..15                              object\n",
       "With.PHD.15                                 object\n",
       "No..of.Years.in.Uni.at.Time.of.Grant.15     object\n",
       "Number.of.Successful.Grant.15              float64\n",
       "Number.of.Unsuccessful.Grant.15            float64\n",
       "A..15                                      float64\n",
       "A.15                                       float64\n",
       "B.15                                       float64\n",
       "C.15                                       float64\n",
       "Year                                       float64\n",
       "Month                                      float64\n",
       "dtype: object"
      ]
     },
     "execution_count": 195,
     "metadata": {},
     "output_type": "execute_result"
    }
   ],
   "source": [
    "data = pd.read_csv(\"data/unimelb_training.csv\", header=0, dtype=\"str\")\n",
    "data = data.drop(\"Unnamed: 251\", axis=1)\n",
    "data[\"Year\"] = data[\"Start.date\"].map(lambda x: float(x.split(\"/\")[2]))\n",
    "data[\"Month\"] = data[\"Start.date\"].map(lambda x: float(x.split(\"/\")[1]))\n",
    "\n",
    "\n",
    "numerical_data_feature_category = [\n",
    "    (\"RFCD.Percentage.\", 5),\n",
    "    (\"SEO.Percentage.\", 5), \n",
    "    (\"Year.of.Birth.\", 15),\n",
    "    (\"Number.of.Successful.Grant.\", 15),\n",
    "    (\"Number.of.Unsuccessful.Grant.\", 15),\n",
    "    (\"A..\", 15),\n",
    "    (\"A.\", 15),\n",
    "    (\"B.\", 15),\n",
    "    (\"C.\", 15)\n",
    "]\n",
    "\n",
    "for feature_name, feature_range in numerical_data_feature_category:\n",
    "    numerical_data_features = [feature_name+str(i) for i in range(1, feature_range+1)]\n",
    "    for numerical_data_feature in numerical_data_features:\n",
    "        data[numerical_data_feature] = data[numerical_data_feature].astype(float)\n",
    "\n",
    "data.dtypes"
   ]
  },
  {
   "cell_type": "markdown",
   "metadata": {},
   "source": [
    "# Contigency for persons"
   ]
  },
  {
   "cell_type": "markdown",
   "metadata": {},
   "source": [
    "## Role / Number of years at uni at time of grant / Country of birth"
   ]
  },
  {
   "cell_type": "code",
   "execution_count": 197,
   "metadata": {
    "collapsed": false
   },
   "outputs": [
    {
     "name": "stdout",
     "output_type": "stream",
     "text": [
      "(nan, 'EXT_CHIEF_INVESTIGATOR', 'CHIEF_INVESTIGATOR', 'STUD_CHIEF_INVESTIGATOR', 'STUDRES', 'HONVISIT', 'EXTERNAL_ADVISOR', 'PRINCIPAL_SUPERVISOR', 'DELEGATED_RESEARCHER')\n",
      "(nan, 'Less than 0', 'more than 15', '>5 to 10', '>10 to 15', '>=0 to 5')\n",
      "(nan, 'Western Europe', 'South Africa', 'Australia', 'Asia Pacific', 'The Americas', 'New Zealand', 'Middle East and Africa', 'Great Britain', 'Eastern Europe', 'North America')\n"
     ]
    }
   ],
   "source": [
    "contigency_features_names = []\n",
    "\n",
    "# Role.\n",
    "unique_roles, role_contigency_df = build_contigency(data, \"Role.\", 15, add_cardinal=True)\n",
    "\n",
    "print(unique_roles)\n",
    "contigency_features_names.extend(list(role_contigency_df.columns))\n",
    "data = data.join(role_contigency_df)\n",
    "\n",
    "# No..of.Years.in.Uni.at.Time.of.Grant.\n",
    "unique_yearsinuni, yearsinuni_contigency_df = build_contigency(data, \"No..of.Years.in.Uni.at.Time.of.Grant.\", 15)\n",
    "\n",
    "print(unique_yearsinuni)\n",
    "contigency_features_names.extend(list(yearsinuni_contigency_df.columns))\n",
    "data = data.join(yearsinuni_contigency_df)\n",
    "\n",
    "# Country.of.Birth.\n",
    "unique_cob, cob_contigency_df = build_contigency(data, \"Country.of.Birth.\", 15)\n",
    "\n",
    "print(unique_cob)\n",
    "contigency_features_names.extend(list(cob_contigency_df.columns))\n",
    "data = data.join(cob_contigency_df)"
   ]
  },
  {
   "cell_type": "markdown",
   "metadata": {},
   "source": [
    "# aggregations for persons"
   ]
  },
  {
   "cell_type": "markdown",
   "metadata": {},
   "source": [
    "## Year of birth / Number of successful grants / Number of unsuccessfull grants / journals publications (A*, A, B, C)"
   ]
  },
  {
   "cell_type": "code",
   "execution_count": 201,
   "metadata": {
    "collapsed": false
   },
   "outputs": [
    {
     "name": "stdout",
     "output_type": "stream",
     "text": [
      "['mean_Year.of.Birth.', 'max_Year.of.Birth.', 'min_Year.of.Birth.', 'mean_Number.of.Successful.Grant.', 'max_Number.of.Successful.Grant.', 'min_Number.of.Successful.Grant.', 'mean_Number.of.Unsuccessful.Grant.', 'max_Number.of.Unsuccessful.Grant.', 'min_Number.of.Unsuccessful.Grant.', 'mean_A..', 'max_A..', 'min_A..', 'mean_A.', 'max_A.', 'min_A.', 'mean_B.', 'max_B.', 'min_B.', 'mean_C.', 'max_C.', 'min_C.']\n"
     ]
    }
   ],
   "source": [
    "# aggregation_df = build_aggregation(data, [\"Year.of.Birth.\", \"Number.of.Successful.Grant.\", \"Number.of.Unsuccessful.Grant.\", \"A..\", \"A.\", \"B.\", \"C.\", \"Ratio.Successful.Grant.\", \"Number.Publication.\"], 15)\n",
    "aggregation_df = build_aggregation(data, [\"Year.of.Birth.\", \"Number.of.Successful.Grant.\", \"Number.of.Unsuccessful.Grant.\", \"A..\", \"A.\", \"B.\", \"C.\"], 15)\n",
    "aggregation_features_names = list(aggregation_df.columns)\n",
    "\n",
    "print(aggregation_features_names)\n",
    "data = data.join(aggregation_df)"
   ]
  },
  {
   "cell_type": "markdown",
   "metadata": {},
   "source": [
    "# RFCD & SEO"
   ]
  },
  {
   "cell_type": "code",
   "execution_count": 202,
   "metadata": {
    "collapsed": true
   },
   "outputs": [],
   "source": [
    "def rfcd_codes(data, prefix, nb_max, length):\n",
    "    unique_values = set([])\n",
    "    for i in range(1, nb_max+1):\n",
    "        unique_values.update([str(code)[:length] if not np.isreal(code) else np.nan for code in data[prefix+str(i)].unique()])\n",
    "    return tuple(unique_values)\n",
    "\n",
    "# Build a dataframe with contingecy frequencies from a given spread column\n",
    "def add_rfcd_aggregation(prefix1, prefix2, nb_max, unique_values, add_cardinal, suffix, length, keep_nan):\n",
    "    nb_unique_values = len(unique_values)\n",
    "    has_nans = np.nan in unique_values\n",
    "    nan_index = unique_values.index(np.nan)\n",
    "    new_feature_labels = [prefix2+str(value)+suffix for value in unique_values]\n",
    "    if has_nans and not keep_nan:\n",
    "        new_feature_labels.pop(nan_index)\n",
    "    if add_cardinal:\n",
    "        new_feature_labels.append(\"cardinal_\"+prefix2)\n",
    "    def nested_func(x):\n",
    "        values_percentage = [0]*nb_unique_values\n",
    "        cardinal = 0\n",
    "        for i in range(1, nb_max+1):\n",
    "            considered_value = x[prefix1+str(i)]\n",
    "            current_value =  np.nan\n",
    "            if not np.isreal(considered_value) and considered_value != '0':\n",
    "                current_value = str(considered_value)[:length]\n",
    "                cardinal += 1\n",
    "            values_percentage[unique_values.index(current_value)] += x[prefix2+str(i)]/100.0\n",
    "        if has_nans:\n",
    "            values_percentage[nan_index] = 0\n",
    "            if not keep_nan:\n",
    "                values_percentage.pop(nan_index)\n",
    "        if add_cardinal:\n",
    "            values_percentage.append(cardinal)\n",
    "        return pd.Series(values_percentage, index=new_feature_labels)\n",
    "    return nested_func\n",
    "\n",
    "# Build a dataframe with contingecy frequencies from a given spread column\n",
    "def build_rfcd_aggregation(data, prefix1, prefix2, nb_max, length, add_cardinal=True, suffix=\"x\", keep_nan=False):\n",
    "    unique_values = rfcd_codes(data, prefix1, nb_max, length)\n",
    "    return unique_values, data.apply(add_rfcd_aggregation(prefix1, prefix2, nb_max, unique_values, add_cardinal, suffix, length, keep_nan), axis=1, raw=True)"
   ]
  },
  {
   "cell_type": "markdown",
   "metadata": {},
   "source": [
    "## RFCD / SEO"
   ]
  },
  {
   "cell_type": "code",
   "execution_count": 203,
   "metadata": {
    "collapsed": false
   },
   "outputs": [
    {
     "name": "stdout",
     "output_type": "stream",
     "text": [
      "['RFCD.Percentage.3x', 'RFCD.Percentage.9x', 'RFCD.Percentage.4x', 'RFCD.Percentage.2x', 'RFCD.Percentage.0x', 'cardinal_RFCD.Percentage.', 'RFCD.Percentage.32x', 'RFCD.Percentage.41x', 'RFCD.Percentage.35x', 'RFCD.Percentage.44x', 'RFCD.Percentage.28x', 'RFCD.Percentage.39x', 'RFCD.Percentage.42x', 'RFCD.Percentage.31x', 'RFCD.Percentage.37x', 'RFCD.Percentage.24x', 'RFCD.Percentage.38x', 'RFCD.Percentage.29x', 'RFCD.Percentage.21x', 'RFCD.Percentage.99x', 'RFCD.Percentage.30x', 'RFCD.Percentage.33x', 'RFCD.Percentage.27x', 'RFCD.Percentage.34x', 'RFCD.Percentage.26x', 'RFCD.Percentage.0x', 'RFCD.Percentage.40x', 'RFCD.Percentage.43x', 'RFCD.Percentage.25x', 'RFCD.Percentage.36x', 'RFCD.Percentage.23x']\n"
     ]
    },
    {
     "ename": "ValueError",
     "evalue": "columns overlap but no suffix specified: Index(['RFCD.Percentage.0x'], dtype='object')",
     "output_type": "error",
     "traceback": [
      "\u001b[1;31m---------------------------------------------------------------------------\u001b[0m",
      "\u001b[1;31mValueError\u001b[0m                                Traceback (most recent call last)",
      "\u001b[1;32m<ipython-input-203-a49ac53d325c>\u001b[0m in \u001b[0;36m<module>\u001b[1;34m()\u001b[0m\n\u001b[0;32m      5\u001b[0m \u001b[1;31m# print(rfcd_codes_unique1)\u001b[0m\u001b[1;33m\u001b[0m\u001b[1;33m\u001b[0m\u001b[0m\n\u001b[0;32m      6\u001b[0m \u001b[0mprint\u001b[0m\u001b[1;33m(\u001b[0m\u001b[0mrfcd_features_names\u001b[0m\u001b[1;33m)\u001b[0m\u001b[1;33m\u001b[0m\u001b[0m\n\u001b[1;32m----> 7\u001b[1;33m \u001b[0mdata\u001b[0m \u001b[1;33m=\u001b[0m \u001b[0mdata\u001b[0m\u001b[1;33m.\u001b[0m\u001b[0mjoin\u001b[0m\u001b[1;33m(\u001b[0m\u001b[0mrfcd_df1\u001b[0m\u001b[1;33m)\u001b[0m\u001b[1;33m.\u001b[0m\u001b[0mjoin\u001b[0m\u001b[1;33m(\u001b[0m\u001b[0mrfcd_df2\u001b[0m\u001b[1;33m)\u001b[0m\u001b[1;33m\u001b[0m\u001b[0m\n\u001b[0m\u001b[0;32m      8\u001b[0m \u001b[1;33m\u001b[0m\u001b[0m\n\u001b[0;32m      9\u001b[0m \u001b[0mseo_codes_unique1\u001b[0m\u001b[1;33m,\u001b[0m \u001b[0mseo_df1\u001b[0m \u001b[1;33m=\u001b[0m \u001b[0mbuild_rfcd_aggregation\u001b[0m\u001b[1;33m(\u001b[0m\u001b[0mdata\u001b[0m\u001b[1;33m,\u001b[0m \u001b[1;34m\"SEO.Code.\"\u001b[0m\u001b[1;33m,\u001b[0m \u001b[1;34m\"SEO.Percentage.\"\u001b[0m\u001b[1;33m,\u001b[0m \u001b[1;36m5\u001b[0m\u001b[1;33m,\u001b[0m \u001b[1;36m1\u001b[0m\u001b[1;33m)\u001b[0m\u001b[1;33m\u001b[0m\u001b[0m\n",
      "\u001b[1;32m/home/maxime/anaconda3/lib/python3.5/site-packages/pandas/core/frame.py\u001b[0m in \u001b[0;36mjoin\u001b[1;34m(self, other, on, how, lsuffix, rsuffix, sort)\u001b[0m\n\u001b[0;32m   4383\u001b[0m         \u001b[1;31m# For SparseDataFrame's benefit\u001b[0m\u001b[1;33m\u001b[0m\u001b[1;33m\u001b[0m\u001b[0m\n\u001b[0;32m   4384\u001b[0m         return self._join_compat(other, on=on, how=how, lsuffix=lsuffix,\n\u001b[1;32m-> 4385\u001b[1;33m                                  rsuffix=rsuffix, sort=sort)\n\u001b[0m\u001b[0;32m   4386\u001b[0m \u001b[1;33m\u001b[0m\u001b[0m\n\u001b[0;32m   4387\u001b[0m     def _join_compat(self, other, on=None, how='left', lsuffix='', rsuffix='',\n",
      "\u001b[1;32m/home/maxime/anaconda3/lib/python3.5/site-packages/pandas/core/frame.py\u001b[0m in \u001b[0;36m_join_compat\u001b[1;34m(self, other, on, how, lsuffix, rsuffix, sort)\u001b[0m\n\u001b[0;32m   4397\u001b[0m             return merge(self, other, left_on=on, how=how,\n\u001b[0;32m   4398\u001b[0m                          \u001b[0mleft_index\u001b[0m\u001b[1;33m=\u001b[0m\u001b[0mon\u001b[0m \u001b[1;32mis\u001b[0m \u001b[1;32mNone\u001b[0m\u001b[1;33m,\u001b[0m \u001b[0mright_index\u001b[0m\u001b[1;33m=\u001b[0m\u001b[1;32mTrue\u001b[0m\u001b[1;33m,\u001b[0m\u001b[1;33m\u001b[0m\u001b[0m\n\u001b[1;32m-> 4399\u001b[1;33m                          suffixes=(lsuffix, rsuffix), sort=sort)\n\u001b[0m\u001b[0;32m   4400\u001b[0m         \u001b[1;32melse\u001b[0m\u001b[1;33m:\u001b[0m\u001b[1;33m\u001b[0m\u001b[0m\n\u001b[0;32m   4401\u001b[0m             \u001b[1;32mif\u001b[0m \u001b[0mon\u001b[0m \u001b[1;32mis\u001b[0m \u001b[1;32mnot\u001b[0m \u001b[1;32mNone\u001b[0m\u001b[1;33m:\u001b[0m\u001b[1;33m\u001b[0m\u001b[0m\n",
      "\u001b[1;32m/home/maxime/anaconda3/lib/python3.5/site-packages/pandas/tools/merge.py\u001b[0m in \u001b[0;36mmerge\u001b[1;34m(left, right, how, on, left_on, right_on, left_index, right_index, sort, suffixes, copy, indicator)\u001b[0m\n\u001b[0;32m     37\u001b[0m                          \u001b[0mright_index\u001b[0m\u001b[1;33m=\u001b[0m\u001b[0mright_index\u001b[0m\u001b[1;33m,\u001b[0m \u001b[0msort\u001b[0m\u001b[1;33m=\u001b[0m\u001b[0msort\u001b[0m\u001b[1;33m,\u001b[0m \u001b[0msuffixes\u001b[0m\u001b[1;33m=\u001b[0m\u001b[0msuffixes\u001b[0m\u001b[1;33m,\u001b[0m\u001b[1;33m\u001b[0m\u001b[0m\n\u001b[0;32m     38\u001b[0m                          copy=copy, indicator=indicator)\n\u001b[1;32m---> 39\u001b[1;33m     \u001b[1;32mreturn\u001b[0m \u001b[0mop\u001b[0m\u001b[1;33m.\u001b[0m\u001b[0mget_result\u001b[0m\u001b[1;33m(\u001b[0m\u001b[1;33m)\u001b[0m\u001b[1;33m\u001b[0m\u001b[0m\n\u001b[0m\u001b[0;32m     40\u001b[0m \u001b[1;32mif\u001b[0m \u001b[0m__debug__\u001b[0m\u001b[1;33m:\u001b[0m\u001b[1;33m\u001b[0m\u001b[0m\n\u001b[0;32m     41\u001b[0m     \u001b[0mmerge\u001b[0m\u001b[1;33m.\u001b[0m\u001b[0m__doc__\u001b[0m \u001b[1;33m=\u001b[0m \u001b[0m_merge_doc\u001b[0m \u001b[1;33m%\u001b[0m \u001b[1;34m'\\nleft : DataFrame'\u001b[0m\u001b[1;33m\u001b[0m\u001b[0m\n",
      "\u001b[1;32m/home/maxime/anaconda3/lib/python3.5/site-packages/pandas/tools/merge.py\u001b[0m in \u001b[0;36mget_result\u001b[1;34m(self)\u001b[0m\n\u001b[0;32m    221\u001b[0m \u001b[1;33m\u001b[0m\u001b[0m\n\u001b[0;32m    222\u001b[0m         llabels, rlabels = items_overlap_with_suffix(ldata.items, lsuf,\n\u001b[1;32m--> 223\u001b[1;33m                                                      rdata.items, rsuf)\n\u001b[0m\u001b[0;32m    224\u001b[0m \u001b[1;33m\u001b[0m\u001b[0m\n\u001b[0;32m    225\u001b[0m         \u001b[0mlindexers\u001b[0m \u001b[1;33m=\u001b[0m \u001b[1;33m{\u001b[0m\u001b[1;36m1\u001b[0m\u001b[1;33m:\u001b[0m \u001b[0mleft_indexer\u001b[0m\u001b[1;33m}\u001b[0m \u001b[1;32mif\u001b[0m \u001b[0mleft_indexer\u001b[0m \u001b[1;32mis\u001b[0m \u001b[1;32mnot\u001b[0m \u001b[1;32mNone\u001b[0m \u001b[1;32melse\u001b[0m \u001b[1;33m{\u001b[0m\u001b[1;33m}\u001b[0m\u001b[1;33m\u001b[0m\u001b[0m\n",
      "\u001b[1;32m/home/maxime/anaconda3/lib/python3.5/site-packages/pandas/core/internals.py\u001b[0m in \u001b[0;36mitems_overlap_with_suffix\u001b[1;34m(left, lsuffix, right, rsuffix)\u001b[0m\n\u001b[0;32m   4443\u001b[0m         \u001b[1;32mif\u001b[0m \u001b[1;32mnot\u001b[0m \u001b[0mlsuffix\u001b[0m \u001b[1;32mand\u001b[0m \u001b[1;32mnot\u001b[0m \u001b[0mrsuffix\u001b[0m\u001b[1;33m:\u001b[0m\u001b[1;33m\u001b[0m\u001b[0m\n\u001b[0;32m   4444\u001b[0m             raise ValueError('columns overlap but no suffix specified: %s' %\n\u001b[1;32m-> 4445\u001b[1;33m                              to_rename)\n\u001b[0m\u001b[0;32m   4446\u001b[0m \u001b[1;33m\u001b[0m\u001b[0m\n\u001b[0;32m   4447\u001b[0m         \u001b[1;32mdef\u001b[0m \u001b[0mlrenamer\u001b[0m\u001b[1;33m(\u001b[0m\u001b[0mx\u001b[0m\u001b[1;33m)\u001b[0m\u001b[1;33m:\u001b[0m\u001b[1;33m\u001b[0m\u001b[0m\n",
      "\u001b[1;31mValueError\u001b[0m: columns overlap but no suffix specified: Index(['RFCD.Percentage.0x'], dtype='object')"
     ]
    }
   ],
   "source": [
    "rfcd_codes_unique, rfcd_df = build_rfcd_aggregation(data, \"RFCD.Code.\", \"RFCD.Percentage.\", 5, 2)\n",
    "\n",
    "rfcd_features_names = list(rfcd_df.columns)\n",
    "print(rfcd_codes_unique)\n",
    "print(rfcd_features_names)\n",
    "data = data.join(rfcd_df)\n",
    "\n",
    "seo_codes_unique, seo_df = build_rfcd_aggregation(data, \"SEO.Code.\", \"SEO.Percentage.\", 5, 2)\n",
    "\n",
    "seo_features_names = list(seo_df.columns)\n",
    "print(seo_codes_unique)\n",
    "print(seo_features_names)\n",
    "data = data.join(seo_df)"
   ]
  },
  {
   "cell_type": "markdown",
   "metadata": {},
   "source": [
    "# Building dataset"
   ]
  },
  {
   "cell_type": "markdown",
   "metadata": {
    "collapsed": false
   },
   "source": [
    "## Setting train and test sets"
   ]
  },
  {
   "cell_type": "code",
   "execution_count": null,
   "metadata": {
    "collapsed": false
   },
   "outputs": [],
   "source": []
  },
  {
   "cell_type": "markdown",
   "metadata": {},
   "source": [
    "## Filling NAs"
   ]
  },
  {
   "cell_type": "code",
   "execution_count": null,
   "metadata": {
    "collapsed": false
   },
   "outputs": [],
   "source": [
    "# filling NAs with mean\n",
    "for feature_name in aggregation_features_names:\n",
    "    # FROM nonmean to nanmedian !!!!\n",
    "    data[feature_name] = data[feature_name].fillna(np.nanmedian(data[feature_name]))\n",
    "\n",
    "# filling NAs with other value\n",
    "data['Sponsor.Code'] = data['Sponsor.Code'].fillna('MIA')\n",
    "data['Grant.Category.Code'] = data['Grant.Category.Code'].fillna('MIA')\n",
    "\n",
    "# Reducing number of categories\n",
    "# sponsor_reduced_codes = set(data['Sponsor.Code'].value_counts().index)\n",
    "sponsor_reduced_codes = set(data['Sponsor.Code'].value_counts().index[:10])\n",
    "data['Sponsor.Code.Reduced'] = data['Sponsor.Code'].map(lambda x: x if x in sponsor_reduced_codes else 'Other')\n",
    "    \n",
    "# grant_cat_reduced_codes = set(data['Grant.Category.Code'].value_counts().index)\n",
    "grant_cat_reduced_codes = set(data['Grant.Category.Code'].value_counts().index[:9])\n",
    "data['Grant.Category.Code.Reduced'] = data['Grant.Category.Code'].map(lambda x: x if x in grant_cat_reduced_codes else 'Other')"
   ]
  },
  {
   "cell_type": "markdown",
   "metadata": {},
   "source": [
    "# Dummy variables for categorical data"
   ]
  },
  {
   "cell_type": "code",
   "execution_count": null,
   "metadata": {
    "collapsed": true
   },
   "outputs": [],
   "source": [
    "# Sponsor.Code.Reduced\n",
    "sponsor_reduced_dummies = pd.get_dummies(data[\"Sponsor.Code.Reduced\"], prefix=\"Sponsor.Code.Reduced\")\n",
    "sponsor_reduced_dummies_features = list(sponsor_reduced_dummies.columns)\n",
    "data = data.join(sponsor_reduced_dummies)\n",
    "\n",
    "# Grant.Category.Code.Reduced\n",
    "grant_cat_reduced_dummies = pd.get_dummies(data[\"Grant.Category.Code.Reduced\"], prefix=\"Grant.Category.Code.Reduced\")\n",
    "grant_cat_reduced_dummies_features = list(grant_cat_reduced_dummies.columns)\n",
    "data = data.join(grant_cat_reduced_dummies)"
   ]
  },
  {
   "cell_type": "markdown",
   "metadata": {},
   "source": [
    "## Contract.Value.Band.Values"
   ]
  },
  {
   "cell_type": "code",
   "execution_count": null,
   "metadata": {
    "collapsed": false
   },
   "outputs": [],
   "source": [
    "data['Contract.Value.Band...see.note.A'] = data['Contract.Value.Band...see.note.A'].fillna('MIA')\n",
    "\n",
    "contract_value_band_values = {\n",
    "    \"A\": [1, 50000],\n",
    "    \"B\" : [50001, 100000],\n",
    "    \"C\" : [100001, 200000],\n",
    "    \"D\" : [200001, 300000],\n",
    "    \"E\" : [300001, 400000],\n",
    "    \"F\" : [400001, 500000],\n",
    "    \"G\" : [500001, 1000000],\n",
    "    \"H\" : [1000001, 2000000],\n",
    "    \"I\" : [2000001, 3000000],\n",
    "    \"J\" : [3000001, 4000000],\n",
    "    \"K\" : [4000001, 5000000],\n",
    "    \"L\" : [5000001, 6000000],\n",
    "    \"M\" : [6000001, 7000000],\n",
    "    \"N\" : [7000001, 8000000],\n",
    "    \"O\" : [8000001, 9000000],\n",
    "    \"P\" : [9000001, 10000000],\n",
    "    \"Q\" : [10000001, 100000000]\n",
    "}\n",
    "\n",
    "for letter, values in contract_value_band_values.items():\n",
    "    # The mean is divided by 100000.0 for avoiding de-normalization\n",
    "    values.append(np.mean(values) / 100000.0)\n",
    "\n",
    "def assign_value(x):\n",
    "    if x is not 'MIA':\n",
    "        return contract_value_band_values[x.strip()][2]\n",
    "    return np.nan\n",
    "\n",
    "data[\"Contract.Value.Band.Values\"] = data[\"Contract.Value.Band...see.note.A\"].map(assign_value)\n",
    "data[\"Contract.Value.Band.Values\"] = data[\"Contract.Value.Band.Values\"].fillna(np.nanmedian(data[\"Contract.Value.Band.Values\"]))"
   ]
  },
  {
   "cell_type": "markdown",
   "metadata": {
    "collapsed": false
   },
   "source": [
    "## Grant category Code"
   ]
  },
  {
   "cell_type": "code",
   "execution_count": null,
   "metadata": {
    "collapsed": false
   },
   "outputs": [],
   "source": [
    "data[\"Grant.Category.Code.Letter\"] = data[\"Grant.Category.Code\"].map(lambda x: x[-1] if x != 'MIA' else \"Unknown\")\n",
    "\n",
    "grant_cat_letter_dummies = pd.get_dummies(data[\"Grant.Category.Code.Letter\"], prefix=\"Grant.Category.Code.Letter\")\n",
    "grant_cat_letter_dummies_features = list(grant_cat_letter_dummies.columns)\n",
    "data = data.join(grant_cat_letter_dummies)\n",
    "\n",
    "data[\"Grant.Category.Code.Number\"] = data[\"Grant.Category.Code\"].map(lambda x: x[:-1] if x != 'MIA' else \"Unknown\")\n",
    "\n",
    "grant_cat_number_dummies = pd.get_dummies(data[\"Grant.Category.Code.Number\"], prefix=\"Grant.Category.Code.Number\")\n",
    "grant_cat_number_dummies_features = list(grant_cat_number_dummies.columns)\n",
    "data = data.join(grant_cat_number_dummies)"
   ]
  },
  {
   "cell_type": "markdown",
   "metadata": {},
   "source": [
    "## Sponsor Code"
   ]
  },
  {
   "cell_type": "code",
   "execution_count": null,
   "metadata": {
    "collapsed": true
   },
   "outputs": [],
   "source": [
    "data[\"Sponsor.Code.Letter\"] = data[\"Sponsor.Code\"].map(lambda x: x[-1] if x != 'MIA' else \"Unknown\")\n",
    "\n",
    "sponsor_code_letter_dummies = pd.get_dummies(data[\"Sponsor.Code.Letter\"], prefix=\"Sponsor.Code.Letter\")\n",
    "sponsor_code_letter_dummies_features = list(sponsor_code_letter_dummies.columns)\n",
    "data = data.join(sponsor_code_letter_dummies)"
   ]
  },
  {
   "cell_type": "markdown",
   "metadata": {},
   "source": [
    "## Trying to fill Contract.Value.Band...see.note.A NaNs"
   ]
  },
  {
   "cell_type": "code",
   "execution_count": null,
   "metadata": {
    "collapsed": true
   },
   "outputs": [],
   "source": [
    "data2 = data.copy()"
   ]
  },
  {
   "cell_type": "code",
   "execution_count": null,
   "metadata": {
    "collapsed": false
   },
   "outputs": [],
   "source": [
    "# ##################### HAS TO BE DONE BEFORE\n",
    "\n",
    "# withCVB, withoutCVB = data.loc[data['Contract.Value.Band...see.note.A'] != \"MIA\"], data.loc[data['Contract.Value.Band...see.note.A'] == \"MIA\"]\n",
    "# len(withCVB), len(withoutCVB)\n",
    "\n",
    "# feature_names_CVB = [\"Year\", \"Month\"] + list(np.concatenate([\n",
    "#             rfcd_features_names \n",
    "#             + seo_features_names\n",
    "#             + sponsor_reduced_dummies_features\n",
    "#             + grant_cat_reduced_dummies_features\n",
    "#             + grant_cat_letter_dummies_features\n",
    "#             + grant_cat_number_dummies_features\n",
    "#             + sponsor_code_letter_dummies_features\n",
    "#         ]))\n",
    "\n",
    "\n",
    "# ###########################\n",
    "# # contract_value_encoder = withCVB[\"Contract.Value.Band...see.note.A\"].astype(\"category\").cat\n",
    "\n",
    "# X_train_CVB, X_test_CVB, y_train_CVB = withCVB[feature_names_CVB], withoutCVB[feature_names_CVB], withCVB[\"Contract.Value.Band...see.note.A\"]\n",
    "# # len(X_train_CVB), len(X_test_CVB)\n",
    "\n",
    "# ###########################\n",
    "\n",
    "# from sklearn.ensemble import RandomForestClassifier\n",
    "\n",
    "# rf_CVB = RandomForestClassifier(n_estimators=1600, n_jobs = 7)\n",
    "# classifierRF_CVB = rf_CVB.fit(X_train_CVB, y_train_CVB)\n",
    "# predictionRF_CVB = classifierRF_CVB.predict(X_test_CVB)\n",
    "# prediction_probaRF_CVB = classifierRF_CVB.predict_proba(X_test_CVB)\n",
    "\n",
    "# # print(\"Accuracy: %f\" % (accuracy_score(y_test_CVB, predictionRF)))\n",
    "\n",
    "# # print(\"\\nFeatures importances:\")\n",
    "# # feature_importances = list(zip(features_without_nan, classifierRF.feature_importances_))\n",
    "# # feature_importances.sort(key=lambda x:x[1], reverse=True)\n",
    "# # for name, importance in feature_importances:\n",
    "# #     print(\"%50s: %f\" %(name, importance))\n",
    "    \n",
    "\n",
    "    \n",
    "# # print((np.max(prediction_probaRF, axis=1) > 0.5).sum())\n",
    "\n",
    "\n",
    "# # decent_values = [\"MIA\"]*len(withoutCVB)\n",
    "# # for i in range(len(withoutCVB)):\n",
    "# #     if np.max(prediction_probaRF_CVB[i, :]) > 0.9:\n",
    "# #         decent_values[i] = predictionRF_CVB[i]\n",
    "# # #         decent_values[i] = contract_value_encoder.categories[np.argmax(prediction_probaRF_CVB[i,:])]\n",
    "\n",
    "# # data.loc[data['Contract.Value.Band...see.note.A'] == \"MIA\", 'Contract.Value.Band...see.note.A'] = decent_values\n",
    "\n",
    "\n",
    "\n",
    "\n",
    "# decent_values = list(data.loc[data['Contract.Value.Band...see.note.A'] == \"MIA\", \"Contract.Value.Band.Values\"].values)\n",
    "# for i in range(len(withoutCVB)):\n",
    "#     if np.max(prediction_probaRF_CVB[i, :]) > 0.7:\n",
    "#         decent_values[i] = contract_value_band_values[predictionRF_CVB[i].strip()][2]\n",
    "\n",
    "# data.loc[data['Contract.Value.Band...see.note.A'] == \"MIA\", \"Contract.Value.Band.Values\"] = decent_values\n",
    "# ##################### HAS TO BE DONE AFTER"
   ]
  },
  {
   "cell_type": "code",
   "execution_count": null,
   "metadata": {
    "collapsed": false
   },
   "outputs": [],
   "source": [
    "# data[\"Contract.Value.Band.Values\"].values"
   ]
  },
  {
   "cell_type": "code",
   "execution_count": null,
   "metadata": {
    "collapsed": false
   },
   "outputs": [],
   "source": [
    "# from sklearn.metrics import accuracy_score\n",
    "\n",
    "# accuracy_score(y_train_CVB, classifierRF_CVB.predict(X_train_CVB))"
   ]
  },
  {
   "cell_type": "code",
   "execution_count": null,
   "metadata": {
    "collapsed": false
   },
   "outputs": [],
   "source": [
    "# data2['Contract.Value.Band...see.note.A'].value_counts()"
   ]
  },
  {
   "cell_type": "code",
   "execution_count": null,
   "metadata": {
    "collapsed": false
   },
   "outputs": [],
   "source": [
    "# data['Contract.Value.Band...see.note.A'].value_counts()"
   ]
  },
  {
   "cell_type": "code",
   "execution_count": null,
   "metadata": {
    "collapsed": false
   },
   "outputs": [],
   "source": [
    "# print((np.max(prediction_probaRF_CVB, axis=1) > 0.9).sum())"
   ]
  },
  {
   "cell_type": "code",
   "execution_count": null,
   "metadata": {
    "collapsed": false
   },
   "outputs": [],
   "source": [
    "# data.loc[data['Contract.Value.Band...see.note.A'] == \"MIA\", \"Contract.Value.Band.Values\"].values"
   ]
  },
  {
   "cell_type": "code",
   "execution_count": null,
   "metadata": {
    "collapsed": false
   },
   "outputs": [],
   "source": []
  },
  {
   "cell_type": "code",
   "execution_count": null,
   "metadata": {
    "collapsed": true
   },
   "outputs": [],
   "source": [
    "# contract_value_reduced_codes = set(data['Contract.Value.Band...see.note.A'].value_counts().index)\n",
    "contract_value_reduced_codes = set(data['Contract.Value.Band...see.note.A'].value_counts().index[:8])\n",
    "data['Contract.Value.Band...see.note.A.Reduced'] = data['Contract.Value.Band...see.note.A'].map(lambda x: x if x in contract_value_reduced_codes else 'Other')\n",
    "\n",
    "# Contract.Value.Band...see.note.A.Reduced\n",
    "contract_value_reduced_dummies = pd.get_dummies(data[\"Contract.Value.Band...see.note.A.Reduced\"], prefix=\"Contract.Value.Band...see.note.A.Reduced\")\n",
    "contract_value_reduced_dummies_features = list(contract_value_reduced_dummies.columns)\n",
    "data = data.join(contract_value_reduced_dummies)"
   ]
  },
  {
   "cell_type": "markdown",
   "metadata": {
    "collapsed": false
   },
   "source": [
    "## Choosing the features"
   ]
  },
  {
   "cell_type": "code",
   "execution_count": null,
   "metadata": {
    "collapsed": false,
    "scrolled": false
   },
   "outputs": [],
   "source": [
    "application_feature_names = [\n",
    "    \"Grant.Application.ID\", \n",
    "    \"Grant.Status\", \n",
    "    \"Sponsor.Code\", \n",
    "    \"Grant.Category.Code\", \n",
    "    \"Contract.Value.Band...see.note.A\", \n",
    "    \"Start.date\",\n",
    "    \"Year\",\n",
    "    \"Month\",\n",
    "    \"Contract.Value.Band.Values\"\n",
    "]\n",
    "\n",
    "features_without_nan = list(np.concatenate([\n",
    "            application_feature_names \n",
    "            + contigency_features_names \n",
    "            + aggregation_features_names \n",
    "            + rfcd_features_names \n",
    "            + seo_features_names\n",
    "            + sponsor_reduced_dummies_features\n",
    "            + grant_cat_reduced_dummies_features\n",
    "            + contract_value_reduced_dummies_features\n",
    "            + grant_cat_letter_dummies_features\n",
    "            + grant_cat_number_dummies_features\n",
    "            + sponsor_code_letter_dummies_features\n",
    "        ]))\n",
    "\n",
    "features_without_nan.remove(\"Sponsor.Code\")\n",
    "features_without_nan.remove(\"Grant.Category.Code\")\n",
    "features_without_nan.remove(\"Contract.Value.Band...see.note.A\")\n",
    "# features_without_nan.remove(\"mean_Year.of.Birth.\")\n",
    "# features_without_nan.remove(\"mean_Number.of.Successful.Grant.\")\n",
    "# features_without_nan.remove(\"mean_Number.of.Unsuccessful.Grant.\")\n",
    "# features_without_nan.remove(\"mean_A..\")\n",
    "# features_without_nan.remove(\"mean_A.\")\n",
    "# features_without_nan.remove(\"mean_B.\")\n",
    "# features_without_nan.remove(\"mean_C.\")\n",
    "\n",
    "# Not to be used for classification\n",
    "features_without_nan.remove(\"Grant.Application.ID\")\n",
    "features_without_nan.remove(\"Grant.Status\")\n",
    "features_without_nan.remove(\"Start.date\")\n",
    "\n",
    "# useless features\n",
    "# features_without_nan.remove(\"RFCD.Percentage.0x\")\n",
    "# features_without_nan.remove(\"SEO.Percentage.0x\")\n",
    "# features_without_nan.remove(\"Grant.Category.Code.Letter_G\")\n",
    "# features_without_nan.remove(\"RFCD.Percentage.35x\")\n",
    "# features_without_nan.remove(\"SEO.Percentage.61x\")\n",
    "# features_without_nan.remove(\"RFCD.Percentage.44x\")\n",
    "# features_without_nan.remove(\"SEO.Percentage.71x\")\n",
    "# features_without_nan.remove(\"SEO.Percentage.64x\")\n",
    "# features_without_nan.remove(\"Grant.Category.Code.Number_40\")\n",
    "# features_without_nan.remove(\"SEO.Percentage.69x\")\n",
    "# features_without_nan.remove(\"Grant.Category.Code.Letter_E\")\n",
    "# features_without_nan.remove(\"SEO.Percentage.99x\")\n",
    "# features_without_nan.remove(\"Role.HONVISIT\")\n",
    "# features_without_nan.remove(\"RFCD.Percentage.99x\")\n",
    "# features_without_nan.remove(\"Role.EXTERNAL_ADVISOR\")\n",
    "# features_without_nan.remove(\"Grant.Category.Code.Letter_F\")\n",
    "\n",
    "data[features_without_nan].isnull().sum()"
   ]
  },
  {
   "cell_type": "markdown",
   "metadata": {},
   "source": [
    "## Splitting into train and test"
   ]
  },
  {
   "cell_type": "code",
   "execution_count": null,
   "metadata": {
    "collapsed": true
   },
   "outputs": [],
   "source": [
    "# Fetching ids from files\n",
    "testing_ids = pd.read_csv(\"data/testing_ids.csv\")[\"ids\"].values\n",
    "training2_ids = pd.read_csv(\"data/training2_ids.csv\")[\"ids\"].values\n",
    "\n",
    "# Setting index\n",
    "data_ids = data[\"Grant.Application.ID\"].astype(int).values\n",
    "training_ids = np.setdiff1d(data_ids, testing_ids)\n",
    "training1_ids = np.setdiff1d(training_ids, training2_ids)\n",
    "\n",
    "train_df = data.loc[training_ids-1]\n",
    "train1_df = data.loc[training1_ids-1]\n",
    "train2_df = data.loc[training2_ids-1]\n",
    "test_df = data.loc[testing_ids-1]\n",
    "\n",
    "# Exporting files\n",
    "# train_df.to_csv(\"data/train.csv\")\n",
    "# train1_df.to_csv(\"data/train1.csv\")\n",
    "# train2_df.to_csv(\"data/train2.csv\")\n",
    "# test_df.to_csv(\"data/test.csv\")"
   ]
  },
  {
   "cell_type": "markdown",
   "metadata": {
    "collapsed": false
   },
   "source": [
    "## X_train, X_test, y_train, y_test"
   ]
  },
  {
   "cell_type": "code",
   "execution_count": null,
   "metadata": {
    "collapsed": false
   },
   "outputs": [],
   "source": [
    "X_train, X_test = train_df[features_without_nan], test_df[features_without_nan]\n",
    "y_train, y_test = train_df[\"Grant.Status\"].astype(int), test_df[\"Grant.Status\"].astype(int)"
   ]
  },
  {
   "cell_type": "markdown",
   "metadata": {},
   "source": [
    "## Logistic Regression"
   ]
  },
  {
   "cell_type": "code",
   "execution_count": 184,
   "metadata": {
    "collapsed": false
   },
   "outputs": [
    {
     "name": "stdout",
     "output_type": "stream",
     "text": [
      "Accuracy: 0.845560 | AUC: 0.907158\n"
     ]
    }
   ],
   "source": [
    "from sklearn.linear_model import LogisticRegression\n",
    "from sklearn.metrics import accuracy_score, roc_auc_score\n",
    "\n",
    "# Predictions\n",
    "classifier_log = LogisticRegression().fit(X_train, y_train)\n",
    "prediction_log = classifier_log.predict(X_test)\n",
    "prediction_proba_log = classifier_log.predict_proba(X_test)\n",
    "\n",
    "print(\"Accuracy: %f | AUC: %f\" % (accuracy_score(y_test, prediction_log), roc_auc_score(np.array(y_test.values), prediction_proba_log[:, 1])))\n",
    "\n",
    "# print(\"\\nFeatures coefficients:\")\n",
    "# features_coef = list(zip(features_without_nan, classifier_log.coef_[0,:]))\n",
    "# features_coef.sort(key=lambda x:x[1], reverse=True)\n",
    "# for name, coef in features_coef:\n",
    "#     print(\"%50s: %f\" %(name, coef))"
   ]
  },
  {
   "cell_type": "markdown",
   "metadata": {
    "collapsed": false
   },
   "source": [
    "## Random Forest"
   ]
  },
  {
   "cell_type": "code",
   "execution_count": 185,
   "metadata": {
    "collapsed": false,
    "scrolled": false
   },
   "outputs": [
    {
     "name": "stdout",
     "output_type": "stream",
     "text": [
      "Accuracy: 0.889961 | AUC: 0.960020\n",
      "\n",
      "Features importances:\n",
      "      Contract.Value.Band...see.note.A.Reduced_MIA: 0.085631\n",
      "                mean_Number.of.Unsuccessful.Grant.: 0.079672\n",
      "                 max_Number.of.Unsuccessful.Grant.: 0.074206\n",
      "                        Contract.Value.Band.Values: 0.046095\n",
      "                  mean_Number.of.Successful.Grant.: 0.040044\n",
      "                 min_Number.of.Unsuccessful.Grant.: 0.038531\n",
      "                                             Month: 0.037349\n",
      "                   max_Number.of.Successful.Grant.: 0.033832\n",
      "                   min_Number.of.Successful.Grant.: 0.025059\n",
      "                                              Year: 0.023637\n",
      "       Contract.Value.Band...see.note.A.Reduced_A : 0.016001\n",
      "                                           mean_A.: 0.013516\n",
      "                                           mean_B.: 0.013159\n",
      "                                            max_A.: 0.012770\n",
      "                                            max_B.: 0.012281\n",
      "                                          mean_A..: 0.012279\n",
      "                                           max_A..: 0.011761\n",
      "                               mean_Year.of.Birth.: 0.011640\n",
      "                                    cardinal_Role.: 0.011109\n",
      "                Grant.Category.Code.Letter_Unknown: 0.011083\n",
      "                          cardinal_SEO.Percentage.: 0.010917\n",
      "                         cardinal_RFCD.Percentage.: 0.010884\n",
      "                       Sponsor.Code.Letter_Unknown: 0.010636\n",
      "                Grant.Category.Code.Number_Unknown: 0.010505\n",
      "                          Sponsor.Code.Reduced_MIA: 0.010455\n",
      "                                min_Year.of.Birth.: 0.010206\n",
      "                   Grant.Category.Code.Reduced_MIA: 0.010031\n",
      "                           Role.CHIEF_INVESTIGATOR: 0.010027\n",
      "                                           mean_C.: 0.009896\n",
      "                                max_Year.of.Birth.: 0.009504\n",
      "                        Sponsor.Code.Reduced_Other: 0.009355\n",
      "                                            max_C.: 0.009207\n",
      "                                            min_A.: 0.009206\n",
      "                                            min_B.: 0.008810\n",
      "                       Role.EXT_CHIEF_INVESTIGATOR: 0.007855\n",
      "                                           min_A..: 0.007770\n",
      "                                SEO.Percentage.73x: 0.007761\n",
      "                   Grant.Category.Code.Reduced_10A: 0.007682\n",
      "                               RFCD.Percentage.32x: 0.007244\n",
      "                      Grant.Category.Code.Letter_A: 0.006961\n",
      "                      Role.STUD_CHIEF_INVESTIGATOR: 0.006600\n",
      "                      Grant.Category.Code.Letter_B: 0.006447\n",
      "                     Grant.Category.Code.Number_10: 0.006352\n",
      "                                            min_C.: 0.006284\n",
      "                               RFCD.Percentage.27x: 0.005830\n",
      "                   Grant.Category.Code.Reduced_30B: 0.005690\n",
      "                     Grant.Category.Code.Number_30: 0.005430\n",
      "                        Country.of.Birth.Australia: 0.005354\n",
      "     No..of.Years.in.Uni.at.Time.of.Grant.>=0 to 5: 0.005089\n",
      "       Contract.Value.Band...see.note.A.Reduced_D : 0.004821\n",
      "       Contract.Value.Band...see.note.A.Reduced_G : 0.004645\n",
      "                             Sponsor.Code.Letter_D: 0.004643\n",
      "     No..of.Years.in.Uni.at.Time.of.Grant.>5 to 10: 0.004619\n",
      "       Contract.Value.Band...see.note.A.Reduced_B : 0.004480\n",
      "                             Sponsor.Code.Letter_A: 0.004479\n",
      "                     Grant.Category.Code.Number_50: 0.004364\n",
      "                   Grant.Category.Code.Reduced_50A: 0.004219\n",
      "       Contract.Value.Band...see.note.A.Reduced_E : 0.004208\n",
      "                             Sponsor.Code.Letter_B: 0.004125\n",
      "       Contract.Value.Band...see.note.A.Reduced_F : 0.004115\n",
      "                          Sponsor.Code.Reduced_21A: 0.004086\n",
      "  No..of.Years.in.Uni.at.Time.of.Grant.Less than 0: 0.003995\n",
      "                           Sponsor.Code.Reduced_4D: 0.003785\n",
      "                                SEO.Percentage.78x: 0.003715\n",
      "                             Sponsor.Code.Letter_C: 0.003673\n",
      "    No..of.Years.in.Uni.at.Time.of.Grant.>10 to 15: 0.003612\n",
      " No..of.Years.in.Uni.at.Time.of.Grant.more than 15: 0.003206\n",
      "                           Sponsor.Code.Reduced_2B: 0.003102\n",
      "                         Role.PRINCIPAL_SUPERVISOR: 0.003086\n",
      "                    Country.of.Birth.Great Britain: 0.002835\n",
      "                      Grant.Category.Code.Letter_C: 0.002744\n",
      "                               RFCD.Percentage.30x: 0.002582\n",
      "                          Sponsor.Code.Reduced_24D: 0.002566\n",
      "       Contract.Value.Band...see.note.A.Reduced_C : 0.002565\n",
      "                                SEO.Percentage.77x: 0.002379\n",
      "                                SEO.Percentage.67x: 0.002195\n",
      "                         Role.DELEGATED_RESEARCHER: 0.002171\n",
      "                     Grant.Category.Code.Number_20: 0.001920\n",
      "                   Grant.Category.Code.Reduced_10B: 0.001915\n",
      "                                SEO.Percentage.75x: 0.001905\n",
      "    Contract.Value.Band...see.note.A.Reduced_Other: 0.001879\n",
      "                   Grant.Category.Code.Reduced_20C: 0.001624\n",
      "                   Country.of.Birth.Western Europe: 0.001610\n",
      "                    Country.of.Birth.North America: 0.001579\n",
      "                   Grant.Category.Code.Reduced_30C: 0.001548\n",
      "                     Country.of.Birth.Asia Pacific: 0.001507\n",
      "                          Sponsor.Code.Reduced_34B: 0.001485\n",
      "                                      Role.STUDRES: 0.001480\n",
      "                               RFCD.Percentage.28x: 0.001476\n",
      "                               RFCD.Percentage.29x: 0.001458\n",
      "                   Country.of.Birth.Eastern Europe: 0.001247\n",
      "                               RFCD.Percentage.25x: 0.001229\n",
      "                          Sponsor.Code.Reduced_40D: 0.001196\n",
      "                                SEO.Percentage.70x: 0.001183\n",
      "                                SEO.Percentage.62x: 0.001170\n",
      "                                SEO.Percentage.63x: 0.001092\n",
      "                               RFCD.Percentage.38x: 0.001085\n",
      "                               RFCD.Percentage.26x: 0.001052\n",
      "                                SEO.Percentage.74x: 0.000975\n",
      "                               RFCD.Percentage.33x: 0.000938\n",
      "                   Grant.Category.Code.Reduced_20A: 0.000898\n",
      "                               RFCD.Percentage.37x: 0.000887\n",
      "                               RFCD.Percentage.23x: 0.000875\n",
      "                               RFCD.Percentage.24x: 0.000862\n",
      "                          Sponsor.Code.Reduced_32D: 0.000794\n",
      "                               RFCD.Percentage.41x: 0.000792\n",
      "                                SEO.Percentage.76x: 0.000762\n",
      "                   Grant.Category.Code.Reduced_30D: 0.000746\n",
      "                      Grant.Category.Code.Letter_D: 0.000710\n",
      "                               RFCD.Percentage.21x: 0.000671\n",
      "                               RFCD.Percentage.31x: 0.000664\n",
      "                      Country.of.Birth.New Zealand: 0.000659\n",
      "                                SEO.Percentage.68x: 0.000638\n",
      "                          Sponsor.Code.Reduced_29A: 0.000633\n",
      "                           Sponsor.Code.Reduced_5A: 0.000616\n",
      "                               RFCD.Percentage.43x: 0.000604\n",
      "                               RFCD.Percentage.42x: 0.000577\n",
      "           Country.of.Birth.Middle East and Africa: 0.000547\n",
      "                     Country.of.Birth.The Americas: 0.000528\n",
      "                                SEO.Percentage.72x: 0.000469\n",
      "                 Grant.Category.Code.Reduced_Other: 0.000429\n",
      "                                SEO.Percentage.65x: 0.000384\n",
      "                     Country.of.Birth.South Africa: 0.000380\n",
      "                               RFCD.Percentage.36x: 0.000357\n",
      "                               RFCD.Percentage.40x: 0.000356\n",
      "                               RFCD.Percentage.34x: 0.000356\n",
      "                                SEO.Percentage.66x: 0.000352\n",
      "                               RFCD.Percentage.39x: 0.000341\n",
      "                      Grant.Category.Code.Letter_G: 0.000336\n",
      "                               RFCD.Percentage.35x: 0.000310\n",
      "                                SEO.Percentage.61x: 0.000234\n",
      "                               RFCD.Percentage.44x: 0.000196\n",
      "                                SEO.Percentage.71x: 0.000184\n",
      "                     Grant.Category.Code.Number_40: 0.000162\n",
      "                                SEO.Percentage.64x: 0.000151\n",
      "                                SEO.Percentage.69x: 0.000105\n",
      "                      Grant.Category.Code.Letter_E: 0.000064\n",
      "                               RFCD.Percentage.99x: 0.000057\n",
      "                                     Role.HONVISIT: 0.000052\n",
      "                                SEO.Percentage.99x: 0.000040\n",
      "                             Role.EXTERNAL_ADVISOR: 0.000006\n",
      "                      Grant.Category.Code.Letter_F: 0.000005\n",
      "                                RFCD.Percentage.0x: 0.000000\n",
      "                                 SEO.Percentage.0x: 0.000000\n"
     ]
    }
   ],
   "source": [
    "from sklearn.ensemble import RandomForestClassifier\n",
    "\n",
    "rf = RandomForestClassifier(n_estimators=1600, n_jobs = 7)\n",
    "classifierRF = rf.fit(X_train, y_train)\n",
    "predictionRF = classifierRF.predict(X_test)\n",
    "prediction_probaRF = classifierRF.predict_proba(X_test)\n",
    "\n",
    "print(\"Accuracy: %f | AUC: %f\" % (accuracy_score(y_test, predictionRF), roc_auc_score(np.array(y_test.values), prediction_probaRF[:, 1])))\n",
    "\n",
    "print(\"\\nFeatures importances:\")\n",
    "feature_importances = list(zip(features_without_nan, classifierRF.feature_importances_))\n",
    "feature_importances.sort(key=lambda x:x[1], reverse=True)\n",
    "for name, importance in feature_importances:\n",
    "    print(\"%50s: %f\" %(name, importance))"
   ]
  },
  {
   "cell_type": "markdown",
   "metadata": {},
   "source": [
    "## Gradient boosted Trees"
   ]
  },
  {
   "cell_type": "code",
   "execution_count": 98,
   "metadata": {
    "collapsed": false
   },
   "outputs": [
    {
     "name": "stdout",
     "output_type": "stream",
     "text": [
      "Accuracy: 0.891892 | AUC: 0.951754\n",
      "\n",
      "Features importances:\n",
      "                                             Month: 0.049856\n",
      "                                              Year: 0.032432\n",
      "                mean_Number.of.Unsuccessful.Grant.: 0.031364\n",
      "                                           mean_B.: 0.023830\n",
      "                       Role.EXT_CHIEF_INVESTIGATOR: 0.022963\n",
      "                        Contract.Value.Band.Values: 0.022715\n",
      "                      Role.STUD_CHIEF_INVESTIGATOR: 0.021111\n",
      "                  mean_Number.of.Successful.Grant.: 0.020404\n",
      "                               mean_Year.of.Birth.: 0.019745\n",
      "                                            max_B.: 0.019157\n",
      "                         cardinal_RFCD.Percentage.: 0.018780\n",
      "                                    cardinal_Role.: 0.016967\n",
      "                 max_Number.of.Unsuccessful.Grant.: 0.016885\n",
      "      Contract.Value.Band...see.note.A.Reduced_MIA: 0.016749\n",
      "                         Role.DELEGATED_RESEARCHER: 0.016037\n",
      "                                           mean_A.: 0.014845\n",
      "                                            max_A.: 0.013819\n",
      "                   min_Number.of.Successful.Grant.: 0.013324\n",
      "                           Role.CHIEF_INVESTIGATOR: 0.012958\n",
      "                          cardinal_SEO.Percentage.: 0.012935\n",
      "                   max_Number.of.Successful.Grant.: 0.012819\n",
      "                                          mean_A..: 0.012292\n",
      "                                           max_A..: 0.011742\n",
      "                                           mean_C.: 0.011573\n",
      "                                            min_C.: 0.011566\n",
      "                   Grant.Category.Code.Reduced_10B: 0.011551\n",
      "                             Sponsor.Code.Letter_C: 0.011067\n",
      "                                SEO.Percentage.63x: 0.010659\n",
      "                                           min_A..: 0.010487\n",
      "       Contract.Value.Band...see.note.A.Reduced_B : 0.010485\n",
      "                               RFCD.Percentage.27x: 0.010443\n",
      "                 min_Number.of.Unsuccessful.Grant.: 0.010057\n",
      "                         Role.PRINCIPAL_SUPERVISOR: 0.009994\n",
      "                                            min_B.: 0.009873\n",
      "                                max_Year.of.Birth.: 0.009764\n",
      "                        Sponsor.Code.Reduced_Other: 0.009756\n",
      "                                            min_A.: 0.009699\n",
      "                               RFCD.Percentage.26x: 0.009643\n",
      "                   Grant.Category.Code.Reduced_20A: 0.009602\n",
      "                               RFCD.Percentage.32x: 0.009520\n",
      "                             Sponsor.Code.Letter_D: 0.009298\n",
      "                                            max_C.: 0.009130\n",
      "       Contract.Value.Band...see.note.A.Reduced_C : 0.008560\n",
      "                   Grant.Category.Code.Reduced_30B: 0.008430\n",
      "                                SEO.Percentage.78x: 0.007941\n",
      "                Grant.Category.Code.Number_Unknown: 0.007728\n",
      "     No..of.Years.in.Uni.at.Time.of.Grant.>5 to 10: 0.007722\n",
      "                                min_Year.of.Birth.: 0.007502\n",
      "                     Country.of.Birth.Asia Pacific: 0.007199\n",
      "  No..of.Years.in.Uni.at.Time.of.Grant.Less than 0: 0.007198\n",
      "                               RFCD.Percentage.33x: 0.007108\n",
      "                               RFCD.Percentage.30x: 0.006758\n",
      "                             Sponsor.Code.Letter_A: 0.006597\n",
      "                               RFCD.Percentage.21x: 0.006596\n",
      "                   Grant.Category.Code.Reduced_20C: 0.006553\n",
      "       Contract.Value.Band...see.note.A.Reduced_D : 0.006174\n",
      "                    Country.of.Birth.North America: 0.006145\n",
      "                                SEO.Percentage.77x: 0.006138\n",
      "                      Grant.Category.Code.Letter_B: 0.005870\n",
      "                    Country.of.Birth.Great Britain: 0.005800\n",
      "                   Grant.Category.Code.Reduced_MIA: 0.005668\n",
      "                               RFCD.Percentage.28x: 0.005591\n",
      "                          Sponsor.Code.Reduced_29A: 0.005211\n",
      "                                SEO.Percentage.65x: 0.005125\n",
      "                   Country.of.Birth.Eastern Europe: 0.005081\n",
      "                      Grant.Category.Code.Letter_A: 0.005037\n",
      "                                      Role.STUDRES: 0.004830\n",
      "                                SEO.Percentage.73x: 0.004790\n",
      "                          Sponsor.Code.Reduced_MIA: 0.004733\n",
      "                                SEO.Percentage.67x: 0.004631\n",
      "                               RFCD.Percentage.38x: 0.004627\n",
      "                               RFCD.Percentage.25x: 0.004621\n",
      "                             Sponsor.Code.Letter_B: 0.004619\n",
      "                           Sponsor.Code.Reduced_4D: 0.004609\n",
      "                       Sponsor.Code.Letter_Unknown: 0.004482\n",
      "                               RFCD.Percentage.31x: 0.004309\n",
      "                   Grant.Category.Code.Reduced_10A: 0.004217\n",
      "                                SEO.Percentage.68x: 0.004215\n",
      "                                SEO.Percentage.76x: 0.004207\n",
      "                          Sponsor.Code.Reduced_40D: 0.004123\n",
      "                          Sponsor.Code.Reduced_24D: 0.004047\n",
      "                                SEO.Percentage.70x: 0.004045\n",
      "                Grant.Category.Code.Letter_Unknown: 0.003954\n",
      "                               RFCD.Percentage.36x: 0.003934\n",
      "                          Sponsor.Code.Reduced_32D: 0.003710\n",
      "                               RFCD.Percentage.43x: 0.003501\n",
      "                               RFCD.Percentage.24x: 0.003442\n",
      "                     Country.of.Birth.The Americas: 0.003253\n",
      "                        Country.of.Birth.Australia: 0.003218\n",
      "                     Grant.Category.Code.Number_20: 0.003199\n",
      "                           Sponsor.Code.Reduced_2B: 0.003150\n",
      "                               RFCD.Percentage.35x: 0.003033\n",
      "    No..of.Years.in.Uni.at.Time.of.Grant.>10 to 15: 0.003025\n",
      "                               RFCD.Percentage.40x: 0.003004\n",
      "                   Grant.Category.Code.Reduced_30D: 0.002922\n",
      "                               RFCD.Percentage.41x: 0.002879\n",
      " No..of.Years.in.Uni.at.Time.of.Grant.more than 15: 0.002863\n",
      "                               RFCD.Percentage.29x: 0.002855\n",
      "                           Sponsor.Code.Reduced_5A: 0.002836\n",
      "       Contract.Value.Band...see.note.A.Reduced_A : 0.002827\n",
      "           Country.of.Birth.Middle East and Africa: 0.002814\n",
      "                          Sponsor.Code.Reduced_34B: 0.002763\n",
      "                               RFCD.Percentage.23x: 0.002735\n",
      "     No..of.Years.in.Uni.at.Time.of.Grant.>=0 to 5: 0.002733\n",
      "       Contract.Value.Band...see.note.A.Reduced_E : 0.002652\n",
      "                               RFCD.Percentage.34x: 0.002639\n",
      "                   Grant.Category.Code.Reduced_50A: 0.002638\n",
      "                                SEO.Percentage.74x: 0.002604\n",
      "       Contract.Value.Band...see.note.A.Reduced_F : 0.002467\n",
      "                               RFCD.Percentage.42x: 0.002420\n",
      "                      Grant.Category.Code.Letter_G: 0.002411\n",
      "                     Country.of.Birth.South Africa: 0.002398\n",
      "                     Grant.Category.Code.Number_30: 0.002369\n",
      "                   Country.of.Birth.Western Europe: 0.002194\n",
      "                     Grant.Category.Code.Number_10: 0.002051\n",
      "                               RFCD.Percentage.39x: 0.001983\n",
      "                                SEO.Percentage.62x: 0.001883\n",
      "                                SEO.Percentage.72x: 0.001865\n",
      "                   Grant.Category.Code.Reduced_30C: 0.001857\n",
      "                                SEO.Percentage.75x: 0.001785\n",
      "                               RFCD.Percentage.37x: 0.001755\n",
      "                                SEO.Percentage.61x: 0.001633\n",
      "                     Grant.Category.Code.Number_50: 0.001575\n",
      "                                SEO.Percentage.66x: 0.001519\n",
      "                      Country.of.Birth.New Zealand: 0.001484\n",
      "                                SEO.Percentage.64x: 0.001421\n",
      "       Contract.Value.Band...see.note.A.Reduced_G : 0.001169\n",
      "                          Sponsor.Code.Reduced_21A: 0.001166\n",
      "                      Grant.Category.Code.Letter_D: 0.001153\n",
      "                                SEO.Percentage.71x: 0.000902\n",
      "                     Grant.Category.Code.Number_40: 0.000799\n",
      "    Contract.Value.Band...see.note.A.Reduced_Other: 0.000692\n",
      "                      Grant.Category.Code.Letter_E: 0.000662\n",
      "                 Grant.Category.Code.Reduced_Other: 0.000621\n",
      "                      Grant.Category.Code.Letter_F: 0.000537\n",
      "                                SEO.Percentage.69x: 0.000456\n",
      "                      Grant.Category.Code.Letter_C: 0.000447\n",
      "                               RFCD.Percentage.99x: 0.000362\n",
      "                                     Role.HONVISIT: 0.000047\n",
      "                             Role.EXTERNAL_ADVISOR: 0.000000\n",
      "                               RFCD.Percentage.44x: 0.000000\n",
      "                                RFCD.Percentage.0x: 0.000000\n",
      "                                 SEO.Percentage.0x: 0.000000\n",
      "                                SEO.Percentage.99x: 0.000000\n"
     ]
    }
   ],
   "source": [
    "# from sklearn.ensemble import GradientBoostingClassifier\n",
    "\n",
    "# rf = GradientBoostingClassifier(n_estimators=1000)\n",
    "# classifierRF = rf.fit(X_train, y_train)\n",
    "# predictionRF = classifierRF.predict(X_test)\n",
    "# prediction_probaRF = classifierRF.predict_proba(X_test)\n",
    "\n",
    "# print(\"Accuracy: %f | AUC: %f\" % (accuracy_score(y_test, predictionRF), roc_auc_score(np.array(y_test.values), prediction_probaRF[:, 1])))\n",
    "\n",
    "# print(\"\\nFeatures importances:\")\n",
    "# feature_importances = list(zip(features_without_nan, classifierRF.feature_importances_))\n",
    "# feature_importances.sort(key=lambda x:x[1], reverse=True)\n",
    "# for name, importance in feature_importances:\n",
    "#     print(\"%50s: %f\" %(name, importance))"
   ]
  },
  {
   "cell_type": "code",
   "execution_count": 129,
   "metadata": {
    "collapsed": false
   },
   "outputs": [
    {
     "data": {
      "text/plain": [
       "0.007042253521126761"
      ]
     },
     "execution_count": 129,
     "metadata": {},
     "output_type": "execute_result"
    }
   ],
   "source": [
    "1/142"
   ]
  },
  {
   "cell_type": "markdown",
   "metadata": {},
   "source": [
    "## ROC curves"
   ]
  },
  {
   "cell_type": "code",
   "execution_count": 247,
   "metadata": {
    "collapsed": false,
    "scrolled": false
   },
   "outputs": [
    {
     "data": {
      "image/png": "[encoded data removed]",
      "text/plain": [
       "<matplotlib.figure.Figure at 0x7f96d87576d8>"
      ]
     },
     "metadata": {},
     "output_type": "display_data"
    }
   ],
   "source": [
    "%matplotlib inline\n",
    "import matplotlib.pyplot as plt\n",
    "from sklearn.metrics import roc_curve\n",
    "\n",
    "fpr_log, tpr_log, thresholds_log = roc_curve(np.array(y_test.values), prediction_proba_log[:, 1])\n",
    "fpr_rf, tpr_rf, thresholds_rf = roc_curve(np.array(y_test.values), prediction_probaRF[:, 1])\n",
    "\n",
    "plt.figure(figsize=(10,6))\n",
    "plt.plot(fpr_log, tpr_log, 'b', label='Logistic')\n",
    "plt.plot(fpr_rf, tpr_rf, 'g', label='Random forest')\n",
    "plt.legend(loc=0)\n",
    "plt.show()"
   ]
  },
  {
   "cell_type": "markdown",
   "metadata": {
    "collapsed": false
   },
   "source": [
    "# Parameters tuning (Grid Search)"
   ]
  },
  {
   "cell_type": "code",
   "execution_count": null,
   "metadata": {
    "collapsed": false,
    "scrolled": true
   },
   "outputs": [],
   "source": [
    "from sklearn.grid_search import GridSearchCV\n",
    "\n",
    "parameters = {'n_estimators': [i for i in range(500, 1300, 100)], 'max_features': [i for i in range(1, 10)]}\n",
    "GridsearchSVM = GridSearchCV(RandomForestClassifier(), parameters, cv=3, verbose=10, scoring='roc_auc', n_jobs=7)\n",
    "GridsearchSVM.fit(X_train, y_train)\n",
    "\n",
    "print(GridsearchSVM.best_params_, GridsearchSVM.best_score_)\n",
    "\n",
    "# roc_auc_score(np.array(y_test.values), GridsearchSVM.best_estimator_.predict_proba(X_test)[:, 1])\n",
    "# roc_auc_score(np.array(y_test.values), GridsearchSVM.best_estimator_.fit(X_train, y_train).predict_proba(X_test)[:, 1])"
   ]
  },
  {
   "cell_type": "code",
   "execution_count": 52,
   "metadata": {
    "collapsed": false
   },
   "outputs": [],
   "source": [
    "from sklearn.grid_search import ParameterGrid\n",
    "\n",
    "def grid_search_no_cv(parameters, X_train, X_test, y_train, y_test):\n",
    "\n",
    "    grid_search = ParameterGrid(parameters)\n",
    "    best_score = 0\n",
    "    best_params = {}\n",
    "\n",
    "    nb_gridsearch_folds = len(grid_search)\n",
    "    for index, param in enumerate(grid_search):\n",
    "        prediction_proba = RandomForestClassifier(**param, n_jobs=7).fit(X_train, y_train).predict_proba(X_test)\n",
    "        current_score = roc_auc_score(np.array(y_test.values), prediction_proba[:, 1])\n",
    "        flag_best = \" \"\n",
    "        if current_score > best_score:\n",
    "            best_score = current_score\n",
    "            best_params = param\n",
    "            flag_best = \"*\"\n",
    "        print(flag_best+\" %2d/%d | %f | %s\" %(index+1, nb_gridsearch_folds, current_score, str(param)))\n",
    "    return best_score, best_params"
   ]
  },
  {
   "cell_type": "code",
   "execution_count": 251,
   "metadata": {
    "collapsed": false
   },
   "outputs": [
    {
     "name": "stdout",
     "output_type": "stream",
     "text": [
      "*  1/15 | 0.945713 | {'max_features': 12, 'n_estimators': 1500}\n",
      "*  2/15 | 0.945777 | {'max_features': 12, 'n_estimators': 1600}\n",
      "   3/15 | 0.945526 | {'max_features': 12, 'n_estimators': 1700}\n",
      "*  4/15 | 0.945945 | {'max_features': 12, 'n_estimators': 1800}\n",
      "   5/15 | 0.945752 | {'max_features': 12, 'n_estimators': 1900}\n",
      "*  6/15 | 0.946039 | {'max_features': 13, 'n_estimators': 1500}\n",
      "*  7/15 | 0.946721 | {'max_features': 13, 'n_estimators': 1600}\n",
      "*  8/15 | 0.947099 | {'max_features': 13, 'n_estimators': 1700}\n",
      "   9/15 | 0.946157 | {'max_features': 13, 'n_estimators': 1800}\n",
      "  10/15 | 0.945675 | {'max_features': 13, 'n_estimators': 1900}\n",
      "  11/15 | 0.946034 | {'max_features': 14, 'n_estimators': 1500}\n",
      "  12/15 | 0.945564 | {'max_features': 14, 'n_estimators': 1600}\n",
      "  13/15 | 0.946109 | {'max_features': 14, 'n_estimators': 1700}\n",
      "  14/15 | 0.946351 | {'max_features': 14, 'n_estimators': 1800}\n",
      "  15/15 | 0.946235 | {'max_features': 14, 'n_estimators': 1900}\n"
     ]
    },
    {
     "data": {
      "text/plain": [
       "(0.94709913080573771, {'max_features': 13, 'n_estimators': 1700})"
      ]
     },
     "execution_count": 251,
     "metadata": {},
     "output_type": "execute_result"
    }
   ],
   "source": [
    "X_train1, X_train2 = train1_df[features_without_nan], train2_df[features_without_nan]\n",
    "y_train1, y_train2 = train1_df[\"Grant.Status\"].astype(int), train2_df[\"Grant.Status\"].astype(int)\n",
    "\n",
    "parameters = {'n_estimators': [i for i in range(1500, 2000, 100)], 'max_features': [i for i in range(12, 15)]}\n",
    "\n",
    "best_score, best_params = grid_search_no_cv(parameters, X_train1, X_train2, y_train1, y_train2)\n",
    "best_score, best_params"
   ]
  },
  {
   "cell_type": "code",
   "execution_count": null,
   "metadata": {
    "collapsed": true
   },
   "outputs": [],
   "source": []
  },
  {
   "cell_type": "code",
   "execution_count": 250,
   "metadata": {
    "collapsed": false
   },
   "outputs": [
    {
     "name": "stdout",
     "output_type": "stream",
     "text": [
      "*  1/15 | 0.960695 | {'max_features': 12, 'n_estimators': 1500}\n",
      "*  2/15 | 0.960985 | {'max_features': 12, 'n_estimators': 1600}\n",
      "   3/15 | 0.960189 | {'max_features': 12, 'n_estimators': 1700}\n",
      "   4/15 | 0.960486 | {'max_features': 12, 'n_estimators': 1800}\n",
      "*  5/15 | 0.961202 | {'max_features': 12, 'n_estimators': 1900}\n",
      "*  6/15 | 0.961250 | {'max_features': 13, 'n_estimators': 1500}\n",
      "*  7/15 | 0.961266 | {'max_features': 13, 'n_estimators': 1600}\n",
      "*  8/15 | 0.961676 | {'max_features': 13, 'n_estimators': 1700}\n",
      "   9/15 | 0.960655 | {'max_features': 13, 'n_estimators': 1800}\n",
      "  10/15 | 0.960551 | {'max_features': 13, 'n_estimators': 1900}\n",
      "  11/15 | 0.961451 | {'max_features': 14, 'n_estimators': 1500}\n",
      "  12/15 | 0.960888 | {'max_features': 14, 'n_estimators': 1600}\n",
      "  13/15 | 0.960736 | {'max_features': 14, 'n_estimators': 1700}\n",
      "  14/15 | 0.960953 | {'max_features': 14, 'n_estimators': 1800}\n",
      "  15/15 | 0.960856 | {'max_features': 14, 'n_estimators': 1900}\n"
     ]
    }
   ],
   "source": [
    "parameters = {'n_estimators': [i for i in range(1500, 2000, 100)], 'max_features': [i for i in range(12, 15)]}\n",
    "\n",
    "best_score, best_params = grid_search_no_cv(parameters, X_train, X_test, y_train, y_test)"
   ]
  },
  {
   "cell_type": "code",
   "execution_count": null,
   "metadata": {
    "collapsed": false
   },
   "outputs": [],
   "source": []
  },
  {
   "cell_type": "code",
   "execution_count": null,
   "metadata": {
    "collapsed": false
   },
   "outputs": [],
   "source": []
  },
  {
   "cell_type": "code",
   "execution_count": null,
   "metadata": {
    "collapsed": true
   },
   "outputs": [],
   "source": []
  }
 ],
 "metadata": {
  "anaconda-cloud": {},
  "kernelspec": {
   "display_name": "Python [Root]",
   "language": "python",
   "name": "Python [Root]"
  },
  "language_info": {
   "codemirror_mode": {
    "name": "ipython",
    "version": 3
   },
   "file_extension": ".py",
   "mimetype": "text/x-python",
   "name": "python",
   "nbconvert_exporter": "python",
   "pygments_lexer": "ipython3",
   "version": "3.5.2"
  }
 },
 "nbformat": 4,
 "nbformat_minor": 0
}
