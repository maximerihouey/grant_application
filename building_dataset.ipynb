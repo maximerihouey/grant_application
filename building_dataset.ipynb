{
 "cells": [
  {
   "cell_type": "markdown",
   "metadata": {},
   "source": [
    "# Prediction of grant application (Ali, Maxime)"
   ]
  },
  {
   "cell_type": "markdown",
   "metadata": {},
   "source": [
    "## Data processing functions"
   ]
  },
  {
   "cell_type": "code",
   "execution_count": 1,
   "metadata": {
    "collapsed": true
   },
   "outputs": [],
   "source": [
    "import numpy as np\n",
    "import pandas as pd\n",
    "\n",
    "#\n",
    "# Contigency for persons\n",
    "#\n",
    "# build the list of all unique values of a given spread column, as a tuple\n",
    "def process_column(data, prefix, nb_max):\n",
    "    unique_values = set([])\n",
    "    for i in range(1, nb_max+1):\n",
    "        unique_values.update(data[prefix+str(i)].unique())\n",
    "    return tuple(unique_values)\n",
    "\n",
    "# Build a dataframe with contingecy frequencies from a given spread column\n",
    "def add_contigency(prefix, nb_max, unique_values, add_cardinal, keep_nan):\n",
    "    nb_unique_values = len(unique_values)\n",
    "    has_nans = np.nan in unique_values\n",
    "    nan_index = unique_values.index(np.nan)\n",
    "    new_feature_labels = [prefix+str(value) for value in unique_values]\n",
    "    if has_nans and not keep_nan:\n",
    "        new_feature_labels.pop(nan_index)\n",
    "    if add_cardinal:\n",
    "        new_feature_labels.append(\"cardinal_\"+prefix)\n",
    "    def nested_func(x):\n",
    "        values_frequency = [0]*nb_unique_values\n",
    "        for i in range(1, nb_max+1):\n",
    "            values_frequency[unique_values.index(x[prefix+str(i)])] += 1\n",
    "        if has_nans:\n",
    "            values_frequency[nan_index] = 0\n",
    "            if not keep_nan:\n",
    "                values_frequency.pop(nan_index)\n",
    "        summe = sum(values_frequency)\n",
    "        if summe != 0:\n",
    "            values_frequency = [value/summe for value in values_frequency]\n",
    "        if add_cardinal:\n",
    "            values_frequency.append(summe)\n",
    "        return pd.Series(values_frequency, index=new_feature_labels)\n",
    "    return nested_func\n",
    "\n",
    "# Build a dataframe with contingecy frequencies from a given spread column\n",
    "def build_contigency(data, prefix, nb_max, add_cardinal=False, keep_nan=False):\n",
    "    unique_values = process_column(data, prefix, nb_max)\n",
    "    return unique_values, data.apply(add_contigency(prefix, nb_max, unique_values, add_cardinal, keep_nan), axis=1, raw=True)\n",
    "\n",
    "#\n",
    "# aggregations for person\n",
    "#\n",
    "# Build a dataframe with contingecy frequencies from a given spread column\n",
    "def add_aggregation(prefixes, nb_max, methods_to_apply, methods_to_apply_labels):\n",
    "    feature_names_by_prefix = [[prefix+str(i) for i in range(1, nb_max+1)] for prefix in prefixes]\n",
    "    new_feature_labels_by_prefix = [[label_prefix+prefix for label_prefix in methods_to_apply_labels] for prefix in prefixes]\n",
    "    flat_new_labels = [new_feature_label for new_feature_labels in new_feature_labels_by_prefix for new_feature_label in new_feature_labels]\n",
    "    def nested_func(x):\n",
    "        values_by_prefix = [\n",
    "            [x[feature_name] for feature_name in feature_names if np.isreal(x[feature_name]) and not np.isnan(x[feature_name])]\n",
    "            for feature_names in feature_names_by_prefix\n",
    "        ]\n",
    "        aggregated_values_by_prefix = [[method(values) for method in methods_to_apply] if len(values) > 0 else [np.nan]*len(methods_to_apply) for values in values_by_prefix]\n",
    "        return pd.Series(\n",
    "            data=[aggregated_value for aggregated_values in aggregated_values_by_prefix for aggregated_value in aggregated_values], \n",
    "            index=flat_new_labels\n",
    "        )\n",
    "    return nested_func\n",
    "# Build a dataframe with contingecy frequencies from a given spread column\n",
    "def build_aggregation(data, prefix, nb_max, methods_to_apply=[np.mean, np.max, np.min], methods_to_apply_labels=[\"mean_\", \"max_\", \"min_\"]):\n",
    "    return data.apply(add_aggregation(prefix, nb_max, methods_to_apply, methods_to_apply_labels), axis=1, raw=True)\n",
    "\n",
    "#\n",
    "# RFCD & SEO\n",
    "#\n",
    "def rfcd_codes(data, prefix, nb_max, length):\n",
    "    unique_values = set([])\n",
    "    for i in range(1, nb_max+1):\n",
    "        unique_values.update([str(code)[:length] if not np.isreal(code) and code != \"0\" else np.nan for code in data[prefix+str(i)].unique()])\n",
    "    return tuple(unique_values)\n",
    "\n",
    "# Build a dataframe with contingecy frequencies from a given spread column\n",
    "def add_rfcd_aggregation(prefix1, prefix2, nb_max, unique_values, add_cardinal, suffix, length, keep_nan):\n",
    "    nb_unique_values = len(unique_values)\n",
    "    has_nans = np.nan in unique_values\n",
    "    nan_index = unique_values.index(np.nan)\n",
    "    new_feature_labels = [prefix2+str(value)+suffix for value in unique_values]\n",
    "    if has_nans and not keep_nan:\n",
    "        new_feature_labels.pop(nan_index)\n",
    "    if add_cardinal:\n",
    "        new_feature_labels.append(\"cardinal_\"+prefix2)\n",
    "    def nested_func(x):\n",
    "        values_percentage = [0]*nb_unique_values\n",
    "        cardinal = 0\n",
    "        for i in range(1, nb_max+1):\n",
    "            considered_value = x[prefix1+str(i)]\n",
    "            current_value =  np.nan\n",
    "            if not np.isreal(considered_value) and considered_value != '0':\n",
    "                current_value = str(considered_value)[:length]\n",
    "                cardinal += 1\n",
    "            values_percentage[unique_values.index(current_value)] += x[prefix2+str(i)]/100.0\n",
    "        if has_nans:\n",
    "            values_percentage[nan_index] = 0\n",
    "            if not keep_nan:\n",
    "                values_percentage.pop(nan_index)\n",
    "        if add_cardinal:\n",
    "            values_percentage.append(cardinal)\n",
    "        return pd.Series(values_percentage, index=new_feature_labels)\n",
    "    return nested_func\n",
    "\n",
    "# Build a dataframe with contingecy frequencies from a given spread column\n",
    "def build_rfcd_aggregation(data, prefix1, prefix2, nb_max, length, add_cardinal=True, suffix=\"x\", keep_nan=False):\n",
    "    unique_values = rfcd_codes(data, prefix1, nb_max, length)\n",
    "    return unique_values, data.apply(add_rfcd_aggregation(prefix1, prefix2, nb_max, unique_values, add_cardinal, suffix, length, keep_nan), axis=1, raw=True)\n",
    "\n",
    "#\n",
    "# Parameters Search\n",
    "#\n",
    "from sklearn.grid_search import ParameterGrid\n",
    "\n",
    "def grid_search_no_cv(parameters, X_train, X_test, y_train, y_test, classifier, parallel=True):\n",
    "\n",
    "    grid_search = ParameterGrid(parameters)\n",
    "    best_score = 0\n",
    "    best_params = {}\n",
    "\n",
    "    nb_gridsearch_folds = len(grid_search)\n",
    "    for index, param in enumerate(grid_search):\n",
    "        if parallel:\n",
    "            current_classifier = classifier(**param, n_jobs=7)\n",
    "        else:\n",
    "            current_classifier = classifier(**param)\n",
    "        prediction_proba = current_classifier.fit(X_train, y_train).predict_proba(X_test)\n",
    "        current_score = roc_auc_score(np.array(y_test.values), prediction_proba[:, 1])\n",
    "        flag_best = \" \"\n",
    "        if current_score > best_score:\n",
    "            best_score = current_score\n",
    "            best_params = param\n",
    "            flag_best = \"*\"\n",
    "        print(flag_best+\" %2d/%d | %f | %s\" %(index+1, nb_gridsearch_folds, current_score, str(param)))\n",
    "    return best_score, best_params"
   ]
  },
  {
   "cell_type": "markdown",
   "metadata": {},
   "source": [
    "# Importing data"
   ]
  },
  {
   "cell_type": "code",
   "execution_count": 2,
   "metadata": {
    "collapsed": false,
    "scrolled": true
   },
   "outputs": [
    {
     "data": {
      "text/plain": [
       "Grant.Application.ID                        object\n",
       "Grant.Status                                object\n",
       "Sponsor.Code                                object\n",
       "Grant.Category.Code                         object\n",
       "Contract.Value.Band...see.note.A            object\n",
       "Start.date                                  object\n",
       "RFCD.Code.1                                 object\n",
       "RFCD.Percentage.1                          float64\n",
       "RFCD.Code.2                                 object\n",
       "RFCD.Percentage.2                          float64\n",
       "RFCD.Code.3                                 object\n",
       "RFCD.Percentage.3                          float64\n",
       "RFCD.Code.4                                 object\n",
       "RFCD.Percentage.4                          float64\n",
       "RFCD.Code.5                                 object\n",
       "RFCD.Percentage.5                          float64\n",
       "SEO.Code.1                                  object\n",
       "SEO.Percentage.1                           float64\n",
       "SEO.Code.2                                  object\n",
       "SEO.Percentage.2                           float64\n",
       "SEO.Code.3                                  object\n",
       "SEO.Percentage.3                           float64\n",
       "SEO.Code.4                                  object\n",
       "SEO.Percentage.4                           float64\n",
       "SEO.Code.5                                  object\n",
       "SEO.Percentage.5                           float64\n",
       "Person.ID.1                                 object\n",
       "Role.1                                      object\n",
       "Year.of.Birth.1                            float64\n",
       "Country.of.Birth.1                          object\n",
       "                                            ...   \n",
       "Year.of.Birth.14                           float64\n",
       "Country.of.Birth.14                         object\n",
       "Home.Language.14                            object\n",
       "Dept.No..14                                 object\n",
       "Faculty.No..14                              object\n",
       "With.PHD.14                                 object\n",
       "No..of.Years.in.Uni.at.Time.of.Grant.14     object\n",
       "Number.of.Successful.Grant.14              float64\n",
       "Number.of.Unsuccessful.Grant.14            float64\n",
       "A..14                                      float64\n",
       "A.14                                       float64\n",
       "B.14                                       float64\n",
       "C.14                                       float64\n",
       "Person.ID.15                                object\n",
       "Role.15                                     object\n",
       "Year.of.Birth.15                           float64\n",
       "Country.of.Birth.15                         object\n",
       "Home.Language.15                            object\n",
       "Dept.No..15                                 object\n",
       "Faculty.No..15                              object\n",
       "With.PHD.15                                 object\n",
       "No..of.Years.in.Uni.at.Time.of.Grant.15     object\n",
       "Number.of.Successful.Grant.15              float64\n",
       "Number.of.Unsuccessful.Grant.15            float64\n",
       "A..15                                      float64\n",
       "A.15                                       float64\n",
       "B.15                                       float64\n",
       "C.15                                       float64\n",
       "Year                                       float64\n",
       "Month                                      float64\n",
       "dtype: object"
      ]
     },
     "execution_count": 2,
     "metadata": {},
     "output_type": "execute_result"
    }
   ],
   "source": [
    "data = pd.read_csv(\"data/unimelb_training.csv\", header=0, dtype=\"str\")\n",
    "data = data.drop(\"Unnamed: 251\", axis=1)\n",
    "data[\"Year\"] = data[\"Start.date\"].map(lambda x: float(x.split(\"/\")[2]))\n",
    "data[\"Month\"] = data[\"Start.date\"].map(lambda x: float(x.split(\"/\")[1]))\n",
    "\n",
    "\n",
    "numerical_data_feature_category = [\n",
    "    (\"RFCD.Percentage.\", 5),\n",
    "    (\"SEO.Percentage.\", 5), \n",
    "    (\"Year.of.Birth.\", 15),\n",
    "    (\"Number.of.Successful.Grant.\", 15),\n",
    "    (\"Number.of.Unsuccessful.Grant.\", 15),\n",
    "    (\"A..\", 15),\n",
    "    (\"A.\", 15),\n",
    "    (\"B.\", 15),\n",
    "    (\"C.\", 15)\n",
    "]\n",
    "\n",
    "for feature_name, feature_range in numerical_data_feature_category:\n",
    "    numerical_data_features = [feature_name+str(i) for i in range(1, feature_range+1)]\n",
    "    for numerical_data_feature in numerical_data_features:\n",
    "        data[numerical_data_feature] = data[numerical_data_feature].astype(float)\n",
    "\n",
    "data.dtypes"
   ]
  },
  {
   "cell_type": "markdown",
   "metadata": {},
   "source": [
    "## Adding new feature: with.phd.value"
   ]
  },
  {
   "cell_type": "code",
   "execution_count": 3,
   "metadata": {
    "collapsed": false
   },
   "outputs": [],
   "source": [
    "# New feature for each person: Ratio of successfull grants\n",
    "\n",
    "def add_phd_value():\n",
    "    roles_features_label = [\"Role.\" + str(index) for index in range(1, 16)]\n",
    "    features_labels = [\"With.PHD.\" + str(index) for index in range(1, 16)]\n",
    "    new_features_labels = [\"With.PHD.Sum.\", \"With.PHD.Ratio.\"]\n",
    "    def nested(x):\n",
    "        values = []\n",
    "        for index, feature in enumerate(features_labels):\n",
    "            if x[feature] == 'Yes ':\n",
    "                values.append(1)\n",
    "            elif not np.isreal(x[roles_features_label[index]]):\n",
    "                values.append(0)\n",
    "            if len(values) == 0:\n",
    "                values.append(0)\n",
    "        return pd.Series([sum(values), np.mean(values)], index=new_features_labels)\n",
    "    return nested\n",
    "            \n",
    "\n",
    "data = data.join(data.apply(add_phd_value(), axis=1, raw=True))"
   ]
  },
  {
   "cell_type": "markdown",
   "metadata": {},
   "source": [
    "# Contigency for persons: Role / Number of years at uni at time of grant / Country of birth"
   ]
  },
  {
   "cell_type": "code",
   "execution_count": 4,
   "metadata": {
    "collapsed": false
   },
   "outputs": [
    {
     "name": "stdout",
     "output_type": "stream",
     "text": [
      "(nan, 'STUDRES', 'EXT_CHIEF_INVESTIGATOR', 'CHIEF_INVESTIGATOR', 'STUD_CHIEF_INVESTIGATOR', 'PRINCIPAL_SUPERVISOR', 'DELEGATED_RESEARCHER', 'EXTERNAL_ADVISOR', 'HONVISIT')\n",
      "(nan, '>5 to 10', '>10 to 15', 'Less than 0', 'more than 15', '>=0 to 5')\n",
      "(nan, 'South Africa', 'Asia Pacific', 'Great Britain', 'Western Europe', 'The Americas', 'New Zealand', 'Middle East and Africa', 'Australia', 'Eastern Europe', 'North America')\n"
     ]
    }
   ],
   "source": [
    "contigency_features_names = []\n",
    "\n",
    "# Role.\n",
    "unique_roles, role_contigency_df = build_contigency(data, \"Role.\", 15, add_cardinal=True)\n",
    "\n",
    "print(unique_roles)\n",
    "contigency_features_names.extend(list(role_contigency_df.columns))\n",
    "data = data.join(role_contigency_df)\n",
    "\n",
    "# No..of.Years.in.Uni.at.Time.of.Grant.\n",
    "unique_yearsinuni, yearsinuni_contigency_df = build_contigency(data, \"No..of.Years.in.Uni.at.Time.of.Grant.\", 15)\n",
    "\n",
    "print(unique_yearsinuni)\n",
    "contigency_features_names.extend(list(yearsinuni_contigency_df.columns))\n",
    "data = data.join(yearsinuni_contigency_df)\n",
    "\n",
    "# Country.of.Birth.\n",
    "unique_cob, cob_contigency_df = build_contigency(data, \"Country.of.Birth.\", 15)\n",
    "\n",
    "print(unique_cob)\n",
    "contigency_features_names.extend(list(cob_contigency_df.columns))\n",
    "data = data.join(cob_contigency_df)"
   ]
  },
  {
   "cell_type": "markdown",
   "metadata": {},
   "source": [
    "# Aggregations for persons: Year of birth / Number of successful grants / Number of unsuccessfull grants / journals publications (A*, A, B, C)"
   ]
  },
  {
   "cell_type": "code",
   "execution_count": 5,
   "metadata": {
    "collapsed": false
   },
   "outputs": [
    {
     "name": "stdout",
     "output_type": "stream",
     "text": [
      "['mean_Year.of.Birth.', 'max_Year.of.Birth.', 'min_Year.of.Birth.', 'mean_Number.of.Successful.Grant.', 'max_Number.of.Successful.Grant.', 'min_Number.of.Successful.Grant.', 'mean_Number.of.Unsuccessful.Grant.', 'max_Number.of.Unsuccessful.Grant.', 'min_Number.of.Unsuccessful.Grant.', 'mean_A..', 'mean_A.', 'mean_B.', 'mean_C.']\n"
     ]
    }
   ],
   "source": [
    "aggregation_df1 = build_aggregation(data, [\"Year.of.Birth.\", \"Number.of.Successful.Grant.\", \"Number.of.Unsuccessful.Grant.\"], 15)\n",
    "aggregation_df2 = build_aggregation(data, [\"A..\", \"A.\", \"B.\", \"C.\"], 15, methods_to_apply=[np.mean], methods_to_apply_labels=[\"mean_\"])\n",
    "\n",
    "aggregation_features_names = list(aggregation_df1.columns) + list(aggregation_df2.columns)\n",
    "\n",
    "print(aggregation_features_names)\n",
    "data = data.join(aggregation_df1)\n",
    "data = data.join(aggregation_df2)"
   ]
  },
  {
   "cell_type": "markdown",
   "metadata": {},
   "source": [
    "# RFCD & SEO"
   ]
  },
  {
   "cell_type": "code",
   "execution_count": 6,
   "metadata": {
    "collapsed": false
   },
   "outputs": [],
   "source": [
    "## RFCD\n",
    "rfcd_codes_unique1, rfcd_df1 = build_rfcd_aggregation(data, \"RFCD.Code.\", \"RFCD.Percentage.\", 5, 1)\n",
    "rfcd_codes_unique2, rfcd_df2 = build_rfcd_aggregation(data, \"RFCD.Code.\", \"RFCD.Percentage.\", 5, 2, add_cardinal=False)\n",
    "\n",
    "rfcd_features1_names = list(rfcd_df1.columns)\n",
    "rfcd_features2_names = list(rfcd_df2.columns)\n",
    "# rfcd_features_names = rfcd_features1_names + rfcd_features2_names\n",
    "rfcd_features_names = rfcd_features2_names\n",
    "# rfcd_features_names = rfcd_features1_names\n",
    "data = data.join(rfcd_df1)\n",
    "data = data.join(rfcd_df2)\n",
    "\n",
    "### SEO\n",
    "seo_codes_unique1, seo_df1 = build_rfcd_aggregation(data, \"SEO.Code.\", \"SEO.Percentage.\", 5, 1)\n",
    "seo_codes_unique2, seo_df2 = build_rfcd_aggregation(data, \"SEO.Code.\", \"SEO.Percentage.\", 5, 2, add_cardinal=False)\n",
    "\n",
    "seo_features1_names = list(seo_df1.columns)\n",
    "seo_features2_names = list(seo_df2.columns)\n",
    "# seo_features_names = seo_features1_names + seo_features2_names\n",
    "seo_features_names = seo_features2_names\n",
    "# seo_features_names = seo_features1_names\n",
    "data = data.join(seo_df1)\n",
    "data = data.join(seo_df2)"
   ]
  },
  {
   "cell_type": "markdown",
   "metadata": {},
   "source": [
    "# Building datasets"
   ]
  },
  {
   "cell_type": "code",
   "execution_count": 7,
   "metadata": {
    "collapsed": true
   },
   "outputs": [],
   "source": [
    "# Fetching ids from files\n",
    "testing_ids = pd.read_csv(\"data/testing_ids.csv\")[\"ids\"].values\n",
    "training2_ids = pd.read_csv(\"data/training2_ids.csv\")[\"ids\"].values\n",
    "\n",
    "# Setting index\n",
    "data_ids = data[\"Grant.Application.ID\"].astype(int).values\n",
    "training_ids = np.setdiff1d(data_ids, testing_ids)\n",
    "training1_ids = np.setdiff1d(training_ids, training2_ids)"
   ]
  },
  {
   "cell_type": "markdown",
   "metadata": {},
   "source": [
    "## Filling NAs"
   ]
  },
  {
   "cell_type": "code",
   "execution_count": 8,
   "metadata": {
    "collapsed": false
   },
   "outputs": [],
   "source": [
    "# filling NAs with mean\n",
    "for feature_name in aggregation_features_names:\n",
    "    # FROM nonmean to nanmedian !!!!\n",
    "    data[feature_name] = data[feature_name].fillna(np.nanmedian(data[feature_name]))\n",
    "    data[feature_name] = data[feature_name].fillna(np.nanmedian(data.loc[training_ids-1, feature_name]))\n",
    "\n",
    "# filling NAs with other value\n",
    "data['Sponsor.Code'] = data['Sponsor.Code'].fillna('MIA')\n",
    "data['Grant.Category.Code'] = data['Grant.Category.Code'].fillna('MIA')\n",
    "data['Contract.Value.Band...see.note.A'] = data['Contract.Value.Band...see.note.A'].fillna('MIA')\n",
    "\n",
    "# Reducing number of categories\n",
    "sponsor_reduced_codes = set(data['Sponsor.Code'].value_counts().index[:12])\n",
    "data['Sponsor.Code.Reduced'] = data['Sponsor.Code'].map(lambda x: x if x in sponsor_reduced_codes else 'Other')\n",
    "\n",
    "grant_cat_reduced_codes = set(data['Grant.Category.Code'].value_counts().index[:9])\n",
    "data['Grant.Category.Code.Reduced'] = data['Grant.Category.Code'].map(lambda x: x if x in grant_cat_reduced_codes else 'Other')\n",
    "\n",
    "contract_value_reduced_codes = set(data['Contract.Value.Band...see.note.A'].value_counts().index[:9])\n",
    "data['Contract.Value.Band...see.note.A.Reduced'] = data['Contract.Value.Band...see.note.A'].map(lambda x: x if x in contract_value_reduced_codes else 'Other')"
   ]
  },
  {
   "cell_type": "markdown",
   "metadata": {},
   "source": [
    "# Dummy variables for categorical data"
   ]
  },
  {
   "cell_type": "code",
   "execution_count": 9,
   "metadata": {
    "collapsed": true
   },
   "outputs": [],
   "source": [
    "# Sponsor.Code.Reduced\n",
    "sponsor_reduced_dummies = pd.get_dummies(data[\"Sponsor.Code.Reduced\"], prefix=\"Sponsor.Code.Reduced\")\n",
    "sponsor_reduced_dummies_features = list(sponsor_reduced_dummies.columns)\n",
    "data = data.join(sponsor_reduced_dummies)\n",
    "\n",
    "# Grant.Category.Code.Reduced\n",
    "grant_cat_reduced_dummies = pd.get_dummies(data[\"Grant.Category.Code.Reduced\"], prefix=\"Grant.Category.Code.Reduced\")\n",
    "grant_cat_reduced_dummies_features = list(grant_cat_reduced_dummies.columns)\n",
    "data = data.join(grant_cat_reduced_dummies)\n",
    "\n",
    "# Contract.Value.Band...see.note.A.Reduced\n",
    "contract_value_reduced_dummies = pd.get_dummies(data[\"Contract.Value.Band...see.note.A.Reduced\"], prefix=\"Contract.Value.Band...see.note.A.Reduced\")\n",
    "contract_value_reduced_dummies_features = list(contract_value_reduced_dummies.columns)\n",
    "data = data.join(contract_value_reduced_dummies)"
   ]
  },
  {
   "cell_type": "markdown",
   "metadata": {},
   "source": [
    "## Contract.Value.Band.Values"
   ]
  },
  {
   "cell_type": "code",
   "execution_count": 10,
   "metadata": {
    "collapsed": false
   },
   "outputs": [],
   "source": [
    "contract_value_band_values = {\n",
    "    \"A\": [1, 50000],\n",
    "    \"B\" : [50001, 100000],\n",
    "    \"C\" : [100001, 200000],\n",
    "    \"D\" : [200001, 300000],\n",
    "    \"E\" : [300001, 400000],\n",
    "    \"F\" : [400001, 500000],\n",
    "    \"G\" : [500001, 1000000],\n",
    "    \"H\" : [1000001, 2000000],\n",
    "    \"I\" : [2000001, 3000000],\n",
    "    \"J\" : [3000001, 4000000],\n",
    "    \"K\" : [4000001, 5000000],\n",
    "    \"L\" : [5000001, 6000000],\n",
    "    \"M\" : [6000001, 7000000],\n",
    "    \"N\" : [7000001, 8000000],\n",
    "    \"O\" : [8000001, 9000000],\n",
    "    \"P\" : [9000001, 10000000],\n",
    "    \"Q\" : [10000001, 100000000]\n",
    "}\n",
    "\n",
    "for letter, values in contract_value_band_values.items():\n",
    "    # The mean is divided by 100000.0 for avoiding de-normalization\n",
    "    values.append(np.mean(values) / 100000.0)\n",
    "\n",
    "def assign_value(x):\n",
    "    if x is not 'MIA':\n",
    "        return contract_value_band_values[x.strip()][2]\n",
    "    return np.nan\n",
    "\n",
    "data[\"Contract.Value.Band.Values\"] = data[\"Contract.Value.Band...see.note.A\"].map(assign_value)\n",
    "data[\"Contract.Value.Band.Values\"] = data[\"Contract.Value.Band.Values\"].fillna(np.nanmedian(data[\"Contract.Value.Band.Values\"]))"
   ]
  },
  {
   "cell_type": "markdown",
   "metadata": {
    "collapsed": false
   },
   "source": [
    "## Sponsor Code letter / Grant category Code (Letter/Number)"
   ]
  },
  {
   "cell_type": "code",
   "execution_count": 11,
   "metadata": {
    "collapsed": false
   },
   "outputs": [],
   "source": [
    "data[\"Sponsor.Code.Letter\"] = data[\"Sponsor.Code\"].map(lambda x: x[-1] if x != 'MIA' else \"Unknown\")\n",
    "sponsor_code_letter_dummies = pd.get_dummies(data[\"Sponsor.Code.Letter\"], prefix=\"Sponsor.Code.Letter\")\n",
    "sponsor_code_letter_dummies_features = list(sponsor_code_letter_dummies.columns)\n",
    "data = data.join(sponsor_code_letter_dummies)\n",
    "\n",
    "data[\"Grant.Category.Code.Letter\"] = data[\"Grant.Category.Code\"].map(lambda x: x[-1] if x != 'MIA' else \"Unknown\")\n",
    "grant_cat_letter_dummies = pd.get_dummies(data[\"Grant.Category.Code.Letter\"], prefix=\"Grant.Category.Code.Letter\")\n",
    "grant_cat_letter_dummies_features = list(grant_cat_letter_dummies.columns)\n",
    "data = data.join(grant_cat_letter_dummies)\n",
    "\n",
    "data[\"Grant.Category.Code.Number\"] = data[\"Grant.Category.Code\"].map(lambda x: x[:-1] if x != 'MIA' else \"Unknown\")\n",
    "grant_cat_number_dummies = pd.get_dummies(data[\"Grant.Category.Code.Number\"], prefix=\"Grant.Category.Code.Number\")\n",
    "grant_cat_number_dummies_features = list(grant_cat_number_dummies.columns)\n",
    "data = data.join(grant_cat_number_dummies)"
   ]
  },
  {
   "cell_type": "markdown",
   "metadata": {
    "collapsed": false
   },
   "source": [
    "## Choosing the features"
   ]
  },
  {
   "cell_type": "code",
   "execution_count": 12,
   "metadata": {
    "collapsed": false,
    "scrolled": true
   },
   "outputs": [
    {
     "data": {
      "text/plain": [
       "['Year',\n",
       " 'Month',\n",
       " 'Contract.Value.Band.Values',\n",
       " 'With.PHD.Sum.',\n",
       " 'With.PHD.Ratio.',\n",
       " 'Role.STUDRES',\n",
       " 'Role.EXT_CHIEF_INVESTIGATOR',\n",
       " 'Role.CHIEF_INVESTIGATOR',\n",
       " 'Role.STUD_CHIEF_INVESTIGATOR',\n",
       " 'Role.PRINCIPAL_SUPERVISOR',\n",
       " 'Role.DELEGATED_RESEARCHER',\n",
       " 'Role.EXTERNAL_ADVISOR',\n",
       " 'Role.HONVISIT',\n",
       " 'cardinal_Role.',\n",
       " 'No..of.Years.in.Uni.at.Time.of.Grant.>5 to 10',\n",
       " 'No..of.Years.in.Uni.at.Time.of.Grant.>10 to 15',\n",
       " 'No..of.Years.in.Uni.at.Time.of.Grant.Less than 0',\n",
       " 'No..of.Years.in.Uni.at.Time.of.Grant.more than 15',\n",
       " 'No..of.Years.in.Uni.at.Time.of.Grant.>=0 to 5',\n",
       " 'Country.of.Birth.South Africa',\n",
       " 'Country.of.Birth.Asia Pacific',\n",
       " 'Country.of.Birth.Great Britain',\n",
       " 'Country.of.Birth.Western Europe',\n",
       " 'Country.of.Birth.The Americas',\n",
       " 'Country.of.Birth.New Zealand',\n",
       " 'Country.of.Birth.Middle East and Africa',\n",
       " 'Country.of.Birth.Australia',\n",
       " 'Country.of.Birth.Eastern Europe',\n",
       " 'Country.of.Birth.North America',\n",
       " 'mean_Year.of.Birth.',\n",
       " 'max_Year.of.Birth.',\n",
       " 'min_Year.of.Birth.',\n",
       " 'mean_Number.of.Successful.Grant.',\n",
       " 'max_Number.of.Successful.Grant.',\n",
       " 'min_Number.of.Successful.Grant.',\n",
       " 'mean_Number.of.Unsuccessful.Grant.',\n",
       " 'max_Number.of.Unsuccessful.Grant.',\n",
       " 'min_Number.of.Unsuccessful.Grant.',\n",
       " 'mean_A..',\n",
       " 'mean_A.',\n",
       " 'mean_B.',\n",
       " 'mean_C.',\n",
       " 'RFCD.Percentage.30x',\n",
       " 'RFCD.Percentage.34x',\n",
       " 'RFCD.Percentage.28x',\n",
       " 'RFCD.Percentage.99x',\n",
       " 'RFCD.Percentage.40x',\n",
       " 'RFCD.Percentage.38x',\n",
       " 'RFCD.Percentage.37x',\n",
       " 'RFCD.Percentage.33x',\n",
       " 'RFCD.Percentage.23x',\n",
       " 'RFCD.Percentage.39x',\n",
       " 'RFCD.Percentage.27x',\n",
       " 'RFCD.Percentage.35x',\n",
       " 'RFCD.Percentage.21x',\n",
       " 'RFCD.Percentage.26x',\n",
       " 'RFCD.Percentage.43x',\n",
       " 'RFCD.Percentage.44x',\n",
       " 'RFCD.Percentage.41x',\n",
       " 'RFCD.Percentage.32x',\n",
       " 'RFCD.Percentage.29x',\n",
       " 'RFCD.Percentage.24x',\n",
       " 'RFCD.Percentage.36x',\n",
       " 'RFCD.Percentage.31x',\n",
       " 'RFCD.Percentage.42x',\n",
       " 'RFCD.Percentage.25x',\n",
       " 'SEO.Percentage.77x',\n",
       " 'SEO.Percentage.69x',\n",
       " 'SEO.Percentage.68x',\n",
       " 'SEO.Percentage.67x',\n",
       " 'SEO.Percentage.65x',\n",
       " 'SEO.Percentage.75x',\n",
       " 'SEO.Percentage.63x',\n",
       " 'SEO.Percentage.61x',\n",
       " 'SEO.Percentage.99x',\n",
       " 'SEO.Percentage.66x',\n",
       " 'SEO.Percentage.76x',\n",
       " 'SEO.Percentage.74x',\n",
       " 'SEO.Percentage.73x',\n",
       " 'SEO.Percentage.72x',\n",
       " 'SEO.Percentage.62x',\n",
       " 'SEO.Percentage.71x',\n",
       " 'SEO.Percentage.78x',\n",
       " 'SEO.Percentage.64x',\n",
       " 'SEO.Percentage.70x',\n",
       " 'Sponsor.Code.Reduced_21A',\n",
       " 'Sponsor.Code.Reduced_24D',\n",
       " 'Sponsor.Code.Reduced_29A',\n",
       " 'Sponsor.Code.Reduced_2B',\n",
       " 'Sponsor.Code.Reduced_32D',\n",
       " 'Sponsor.Code.Reduced_34B',\n",
       " 'Sponsor.Code.Reduced_40D',\n",
       " 'Sponsor.Code.Reduced_4D',\n",
       " 'Sponsor.Code.Reduced_59C',\n",
       " 'Sponsor.Code.Reduced_5A',\n",
       " 'Sponsor.Code.Reduced_97A',\n",
       " 'Sponsor.Code.Reduced_MIA',\n",
       " 'Sponsor.Code.Reduced_Other',\n",
       " 'Grant.Category.Code.Reduced_10A',\n",
       " 'Grant.Category.Code.Reduced_10B',\n",
       " 'Grant.Category.Code.Reduced_20A',\n",
       " 'Grant.Category.Code.Reduced_20C',\n",
       " 'Grant.Category.Code.Reduced_30B',\n",
       " 'Grant.Category.Code.Reduced_30C',\n",
       " 'Grant.Category.Code.Reduced_30D',\n",
       " 'Grant.Category.Code.Reduced_50A',\n",
       " 'Grant.Category.Code.Reduced_MIA',\n",
       " 'Grant.Category.Code.Reduced_Other',\n",
       " 'Contract.Value.Band...see.note.A.Reduced_A ',\n",
       " 'Contract.Value.Band...see.note.A.Reduced_B ',\n",
       " 'Contract.Value.Band...see.note.A.Reduced_C ',\n",
       " 'Contract.Value.Band...see.note.A.Reduced_D ',\n",
       " 'Contract.Value.Band...see.note.A.Reduced_E ',\n",
       " 'Contract.Value.Band...see.note.A.Reduced_F ',\n",
       " 'Contract.Value.Band...see.note.A.Reduced_G ',\n",
       " 'Contract.Value.Band...see.note.A.Reduced_H ',\n",
       " 'Contract.Value.Band...see.note.A.Reduced_MIA',\n",
       " 'Contract.Value.Band...see.note.A.Reduced_Other']"
      ]
     },
     "execution_count": 12,
     "metadata": {},
     "output_type": "execute_result"
    }
   ],
   "source": [
    "all_application_feature_names = [\n",
    "    \"Grant.Application.ID\", \n",
    "    \"Grant.Status\", \n",
    "    \"Sponsor.Code\", \n",
    "    \"Grant.Category.Code\", \n",
    "    \"Contract.Value.Band...see.note.A\", \n",
    "    \"Start.date\",\n",
    "    \"Year\",\n",
    "    \"Month\",\n",
    "    \"Contract.Value.Band.Values\",\n",
    "    \"With.PHD.Sum.\",\n",
    "    \"With.PHD.Ratio.\"\n",
    "]\n",
    "\n",
    "application_feature_names = [\n",
    "    \"Year\",\n",
    "    \"Month\",\n",
    "    \"Contract.Value.Band.Values\",\n",
    "    \"With.PHD.Sum.\",\n",
    "    \"With.PHD.Ratio.\"\n",
    "]\n",
    "\n",
    "features_without_nan = list(np.concatenate([\n",
    "            application_feature_names \n",
    "            + contigency_features_names \n",
    "            + aggregation_features_names \n",
    "            + rfcd_features_names \n",
    "            + seo_features_names\n",
    "            + sponsor_reduced_dummies_features\n",
    "            + grant_cat_reduced_dummies_features\n",
    "            + contract_value_reduced_dummies_features\n",
    "#             + grant_cat_letter_dummies_features\n",
    "#             + grant_cat_number_dummies_features\n",
    "#             + sponsor_code_letter_dummies_features\n",
    "        ]))\n",
    "\n",
    "\n",
    "data[features_without_nan].isnull().sum()\n",
    "features_without_nan"
   ]
  },
  {
   "cell_type": "markdown",
   "metadata": {},
   "source": [
    "## Splitting into train and test"
   ]
  },
  {
   "cell_type": "code",
   "execution_count": 13,
   "metadata": {
    "collapsed": true
   },
   "outputs": [],
   "source": [
    "train_df = data.loc[training_ids-1]\n",
    "train1_df = data.loc[training1_ids-1]\n",
    "train2_df = data.loc[training2_ids-1]\n",
    "test_df = data.loc[testing_ids-1]\n",
    "\n",
    "# Exporting files\n",
    "# train_df.to_csv(\"data/train.csv\")\n",
    "# train1_df.to_csv(\"data/train1.csv\")\n",
    "# train2_df.to_csv(\"data/train2.csv\")\n",
    "# test_df.to_csv(\"data/test.csv\")"
   ]
  },
  {
   "cell_type": "markdown",
   "metadata": {
    "collapsed": false
   },
   "source": [
    "## X_train, X_test, y_train, y_test"
   ]
  },
  {
   "cell_type": "code",
   "execution_count": 14,
   "metadata": {
    "collapsed": false
   },
   "outputs": [],
   "source": [
    "X_train, X_test = train_df[features_without_nan], test_df[features_without_nan]\n",
    "y_train, y_test = train_df[\"Grant.Status\"].astype(int), test_df[\"Grant.Status\"].astype(int)"
   ]
  },
  {
   "cell_type": "markdown",
   "metadata": {},
   "source": [
    "## Logistic Regression"
   ]
  },
  {
   "cell_type": "code",
   "execution_count": 15,
   "metadata": {
    "collapsed": false,
    "scrolled": true
   },
   "outputs": [
    {
     "name": "stdout",
     "output_type": "stream",
     "text": [
      "Accuracy: 0.853282 | AUC: 0.910616\n"
     ]
    },
    {
     "data": {
      "text/plain": [
       "(0.89888410053344692, 0.91061578295620849)"
      ]
     },
     "execution_count": 15,
     "metadata": {},
     "output_type": "execute_result"
    }
   ],
   "source": [
    "from sklearn.linear_model import LogisticRegression\n",
    "from sklearn.metrics import accuracy_score, roc_auc_score\n",
    "\n",
    "########### Features\n",
    "features_logistic = list(np.concatenate([\n",
    "            application_feature_names \n",
    "            + contigency_features_names \n",
    "            + aggregation_features_names \n",
    "            + rfcd_features1_names \n",
    "            + seo_features1_names\n",
    "            + sponsor_reduced_dummies_features\n",
    "            + grant_cat_reduced_dummies_features\n",
    "            + contract_value_reduced_dummies_features\n",
    "            + grant_cat_letter_dummies_features\n",
    "            + grant_cat_number_dummies_features\n",
    "            + sponsor_code_letter_dummies_features\n",
    "        ]))\n",
    "features_logistic.remove(\"Contract.Value.Band.Values\")\n",
    "\n",
    "# Datasets\n",
    "X_train_log, X_test_log = train_df[features_logistic], test_df[features_logistic]\n",
    "\n",
    "# Predictions\n",
    "classifier_log = LogisticRegression(C=0.5).fit(X_train_log, y_train)\n",
    "prediction_log = classifier_log.predict(X_test_log)\n",
    "prediction_proba_log = classifier_log.predict_proba(X_test_log)\n",
    "\n",
    "roc_score_log = roc_auc_score(np.array(y_test.values), prediction_proba_log[:, 1])\n",
    "roc_score_log_train = roc_auc_score(np.array(y_train.values), classifier_log.predict_proba(X_train_log)[:, 1])\n",
    "\n",
    "print(\"Accuracy: %f | AUC: %f\" % (accuracy_score(y_test, prediction_log), roc_score_log))\n",
    "# print(\"\\nFeatures coefficients:\")\n",
    "# features_coef = list(zip(features_without_nan, classifier_log.coef_[0,:]))\n",
    "# features_coef.sort(key=lambda x:x[1], reverse=True)\n",
    "# for name, coef in features_coef:\n",
    "#     print(\"%50s: %f\" %(name, coef))\n",
    "# features_logistic\n",
    "\n",
    "roc_score_log_train, roc_score_log"
   ]
  },
  {
   "cell_type": "markdown",
   "metadata": {
    "collapsed": false
   },
   "source": [
    "## Random Forest"
   ]
  },
  {
   "cell_type": "code",
   "execution_count": 16,
   "metadata": {
    "collapsed": false,
    "scrolled": true
   },
   "outputs": [
    {
     "name": "stdout",
     "output_type": "stream",
     "text": [
      "Accuracy: 0.893822 | AUC: 0.963510\n",
      "\n",
      "Features importances:\n",
      "                mean_Number.of.Unsuccessful.Grant.: 0.091990\n",
      "      Contract.Value.Band...see.note.A.Reduced_MIA: 0.085144\n",
      "                 max_Number.of.Unsuccessful.Grant.: 0.082684\n",
      "                        Contract.Value.Band.Values: 0.047034\n",
      "                                             Month: 0.041849\n",
      "                  mean_Number.of.Successful.Grant.: 0.041269\n",
      "                 min_Number.of.Unsuccessful.Grant.: 0.040515\n",
      "                   max_Number.of.Successful.Grant.: 0.035208\n",
      "                   min_Number.of.Successful.Grant.: 0.027080\n",
      "                                              Year: 0.025604\n",
      "                          Sponsor.Code.Reduced_MIA: 0.022276\n",
      "                   Grant.Category.Code.Reduced_MIA: 0.021807\n",
      "                                           mean_A.: 0.020632\n",
      "                                           mean_B.: 0.019928\n",
      "                                          mean_A..: 0.018800\n",
      "       Contract.Value.Band...see.note.A.Reduced_A : 0.017983\n",
      "                                           mean_C.: 0.015289\n",
      "                               mean_Year.of.Birth.: 0.015096\n",
      "                   Grant.Category.Code.Reduced_10A: 0.013115\n",
      "                                min_Year.of.Birth.: 0.013037\n",
      "                                    cardinal_Role.: 0.012799\n",
      "                                max_Year.of.Birth.: 0.012694\n",
      "                           Role.CHIEF_INVESTIGATOR: 0.011995\n",
      "                        Sponsor.Code.Reduced_Other: 0.010789\n",
      "                   Grant.Category.Code.Reduced_30B: 0.010613\n",
      "                                   With.PHD.Ratio.: 0.010325\n",
      "                                SEO.Percentage.73x: 0.009760\n",
      "                               RFCD.Percentage.32x: 0.009643\n",
      "                       Role.EXT_CHIEF_INVESTIGATOR: 0.009101\n",
      "                      Role.STUD_CHIEF_INVESTIGATOR: 0.007971\n",
      "                               RFCD.Percentage.27x: 0.007296\n",
      "                                     With.PHD.Sum.: 0.007206\n",
      "                           Sponsor.Code.Reduced_4D: 0.007050\n",
      "     No..of.Years.in.Uni.at.Time.of.Grant.>=0 to 5: 0.006788\n",
      "                        Country.of.Birth.Australia: 0.006735\n",
      "                   Grant.Category.Code.Reduced_50A: 0.006695\n",
      "                          Sponsor.Code.Reduced_21A: 0.006688\n",
      "     No..of.Years.in.Uni.at.Time.of.Grant.>5 to 10: 0.005947\n",
      "                           Sponsor.Code.Reduced_2B: 0.005510\n",
      "       Contract.Value.Band...see.note.A.Reduced_D : 0.005266\n",
      "       Contract.Value.Band...see.note.A.Reduced_B : 0.005108\n",
      "       Contract.Value.Band...see.note.A.Reduced_G : 0.005008\n",
      "  No..of.Years.in.Uni.at.Time.of.Grant.Less than 0: 0.004985\n",
      "    No..of.Years.in.Uni.at.Time.of.Grant.>10 to 15: 0.004773\n",
      "                                SEO.Percentage.78x: 0.004751\n",
      "       Contract.Value.Band...see.note.A.Reduced_E : 0.004571\n",
      " No..of.Years.in.Uni.at.Time.of.Grant.more than 15: 0.004524\n",
      "       Contract.Value.Band...see.note.A.Reduced_F : 0.004317\n",
      "                         Role.PRINCIPAL_SUPERVISOR: 0.003878\n",
      "                          Sponsor.Code.Reduced_24D: 0.003768\n",
      "                    Country.of.Birth.Great Britain: 0.003508\n",
      "                   Grant.Category.Code.Reduced_10B: 0.003284\n",
      "                               RFCD.Percentage.30x: 0.003250\n",
      "                   Grant.Category.Code.Reduced_20C: 0.003153\n",
      "                                SEO.Percentage.77x: 0.003007\n",
      "                         Role.DELEGATED_RESEARCHER: 0.002912\n",
      "       Contract.Value.Band...see.note.A.Reduced_C : 0.002801\n",
      "                                SEO.Percentage.67x: 0.002772\n",
      "                                SEO.Percentage.75x: 0.002569\n",
      "                   Grant.Category.Code.Reduced_30C: 0.002359\n",
      "                          Sponsor.Code.Reduced_34B: 0.002134\n",
      "                   Country.of.Birth.Western Europe: 0.002054\n",
      "                                      Role.STUDRES: 0.002014\n",
      "                     Country.of.Birth.Asia Pacific: 0.001982\n",
      "                               RFCD.Percentage.29x: 0.001884\n",
      "                    Country.of.Birth.North America: 0.001837\n",
      "                               RFCD.Percentage.28x: 0.001833\n",
      "                          Sponsor.Code.Reduced_40D: 0.001811\n",
      "                          Sponsor.Code.Reduced_59C: 0.001724\n",
      "                   Country.of.Birth.Eastern Europe: 0.001594\n",
      "                                SEO.Percentage.62x: 0.001581\n",
      "    Contract.Value.Band...see.note.A.Reduced_Other: 0.001575\n",
      "                               RFCD.Percentage.25x: 0.001557\n",
      "                   Grant.Category.Code.Reduced_20A: 0.001536\n",
      "                               RFCD.Percentage.38x: 0.001504\n",
      "                                SEO.Percentage.70x: 0.001499\n",
      "                               RFCD.Percentage.26x: 0.001454\n",
      "                                SEO.Percentage.63x: 0.001390\n",
      "                   Grant.Category.Code.Reduced_30D: 0.001296\n",
      "                               RFCD.Percentage.37x: 0.001220\n",
      "                                SEO.Percentage.74x: 0.001217\n",
      "                               RFCD.Percentage.33x: 0.001188\n",
      "                               RFCD.Percentage.24x: 0.001129\n",
      "                               RFCD.Percentage.23x: 0.001064\n",
      "                          Sponsor.Code.Reduced_29A: 0.001046\n",
      "                          Sponsor.Code.Reduced_32D: 0.001032\n",
      "                                SEO.Percentage.76x: 0.000960\n",
      "                      Country.of.Birth.New Zealand: 0.000920\n",
      "                          Sponsor.Code.Reduced_97A: 0.000919\n",
      "                               RFCD.Percentage.41x: 0.000899\n",
      "                 Grant.Category.Code.Reduced_Other: 0.000852\n",
      "                           Sponsor.Code.Reduced_5A: 0.000839\n",
      "                                SEO.Percentage.68x: 0.000801\n",
      "                               RFCD.Percentage.31x: 0.000794\n",
      "                               RFCD.Percentage.21x: 0.000770\n",
      "       Contract.Value.Band...see.note.A.Reduced_H : 0.000714\n",
      "                               RFCD.Percentage.43x: 0.000714\n",
      "                               RFCD.Percentage.42x: 0.000680\n",
      "           Country.of.Birth.Middle East and Africa: 0.000674\n",
      "                                SEO.Percentage.72x: 0.000664\n",
      "                     Country.of.Birth.The Americas: 0.000660\n",
      "                     Country.of.Birth.South Africa: 0.000547\n",
      "                               RFCD.Percentage.34x: 0.000532\n",
      "                                SEO.Percentage.65x: 0.000502\n",
      "                               RFCD.Percentage.39x: 0.000492\n",
      "                               RFCD.Percentage.36x: 0.000475\n",
      "                               RFCD.Percentage.40x: 0.000434\n",
      "                                SEO.Percentage.61x: 0.000418\n",
      "                                SEO.Percentage.66x: 0.000407\n",
      "                               RFCD.Percentage.35x: 0.000396\n",
      "                                SEO.Percentage.71x: 0.000263\n",
      "                               RFCD.Percentage.44x: 0.000258\n",
      "                                SEO.Percentage.99x: 0.000187\n",
      "                                SEO.Percentage.64x: 0.000178\n",
      "                               RFCD.Percentage.99x: 0.000168\n",
      "                                SEO.Percentage.69x: 0.000130\n",
      "                                     Role.HONVISIT: 0.000076\n",
      "                             Role.EXTERNAL_ADVISOR: 0.000011\n"
     ]
    }
   ],
   "source": [
    "from sklearn.ensemble import RandomForestClassifier\n",
    "\n",
    "parameters_rf = {'max_features': 14, 'n_estimators': 1700}\n",
    "parameters_rf = {'max_features': 13, 'n_estimators': 1500}\n",
    "parameters_rf = {'n_estimators': 1600}\n",
    "# parameters_rf = {'n_estimators': 10000}\n",
    "# parameters_rf = {'n_estimators': 1800}\n",
    "rf = RandomForestClassifier(**parameters_rf, n_jobs = 7)\n",
    "classifierRF = rf.fit(X_train, y_train)\n",
    "predictionRF = classifierRF.predict(X_test)\n",
    "prediction_probaRF = classifierRF.predict_proba(X_test)\n",
    "prediction_probaRF_train = classifierRF.predict_proba(X_train)\n",
    "\n",
    "roc_scoreRF = roc_auc_score(np.array(y_test.values), prediction_probaRF[:, 1])\n",
    "roc_scoreRF_train = roc_auc_score(np.array(y_train.values), prediction_probaRF_train[:, 1])\n",
    "\n",
    "print(\"Accuracy: %f | AUC: %f\" % (accuracy_score(y_test, predictionRF), roc_scoreRF))\n",
    "\n",
    "print(\"\\nFeatures importances:\")\n",
    "feature_importances_rf = list(zip(features_without_nan, classifierRF.feature_importances_))\n",
    "feature_importances_rf.sort(key=lambda x:x[1], reverse=True)\n",
    "for name, importance in feature_importances_rf:\n",
    "    print(\"%50s: %f\" %(name, importance))"
   ]
  },
  {
   "cell_type": "markdown",
   "metadata": {},
   "source": [
    "## Gradient boosted Trees"
   ]
  },
  {
   "cell_type": "code",
   "execution_count": 18,
   "metadata": {
    "collapsed": false,
    "scrolled": true
   },
   "outputs": [
    {
     "name": "stdout",
     "output_type": "stream",
     "text": [
      "Accuracy: 0.876448 | AUC: 0.957045\n",
      "\n",
      "Features importances:\n",
      "                                             Month: 0.070455\n",
      "                mean_Number.of.Unsuccessful.Grant.: 0.065546\n",
      "                                              Year: 0.047157\n",
      "                  mean_Number.of.Successful.Grant.: 0.047073\n",
      "      Contract.Value.Band...see.note.A.Reduced_MIA: 0.041911\n",
      "                                           mean_B.: 0.041347\n",
      "                        Contract.Value.Band.Values: 0.031617\n",
      "                 max_Number.of.Unsuccessful.Grant.: 0.029238\n",
      "                      Role.STUD_CHIEF_INVESTIGATOR: 0.028497\n",
      "                                           mean_A.: 0.023466\n",
      "                                           mean_C.: 0.023211\n",
      "                        Sponsor.Code.Reduced_Other: 0.023022\n",
      "                   min_Number.of.Successful.Grant.: 0.021477\n",
      "                   Grant.Category.Code.Reduced_30B: 0.021334\n",
      "                                          mean_A..: 0.017074\n",
      "                   Grant.Category.Code.Reduced_10B: 0.015820\n",
      "                       Role.EXT_CHIEF_INVESTIGATOR: 0.015650\n",
      "                   max_Number.of.Successful.Grant.: 0.014208\n",
      "                                    cardinal_Role.: 0.014170\n",
      "                   Grant.Category.Code.Reduced_10A: 0.013789\n",
      "                          Sponsor.Code.Reduced_59C: 0.013226\n",
      "                         Role.DELEGATED_RESEARCHER: 0.013169\n",
      "                          Sponsor.Code.Reduced_MIA: 0.012986\n",
      "                 min_Number.of.Unsuccessful.Grant.: 0.011683\n",
      "                   Grant.Category.Code.Reduced_20A: 0.011417\n",
      "                               RFCD.Percentage.32x: 0.010795\n",
      "                   Grant.Category.Code.Reduced_MIA: 0.010679\n",
      "       Contract.Value.Band...see.note.A.Reduced_B : 0.010431\n",
      "                          Sponsor.Code.Reduced_24D: 0.010092\n",
      "                                SEO.Percentage.65x: 0.009692\n",
      "                   Grant.Category.Code.Reduced_50A: 0.009440\n",
      "                           Sponsor.Code.Reduced_4D: 0.009141\n",
      "                   Grant.Category.Code.Reduced_20C: 0.008272\n",
      "                                      Role.STUDRES: 0.008061\n",
      "                                max_Year.of.Birth.: 0.007868\n",
      "                                min_Year.of.Birth.: 0.007200\n",
      "                   Country.of.Birth.Eastern Europe: 0.007099\n",
      "    Contract.Value.Band...see.note.A.Reduced_Other: 0.006814\n",
      "                                SEO.Percentage.77x: 0.006733\n",
      "                                SEO.Percentage.76x: 0.006627\n",
      "                                SEO.Percentage.73x: 0.006517\n",
      "                           Sponsor.Code.Reduced_2B: 0.006423\n",
      "                          Sponsor.Code.Reduced_40D: 0.006381\n",
      "                    Country.of.Birth.Great Britain: 0.006237\n",
      "                               RFCD.Percentage.28x: 0.006201\n",
      "                                SEO.Percentage.63x: 0.005580\n",
      "                               RFCD.Percentage.27x: 0.005517\n",
      "                                   With.PHD.Ratio.: 0.005495\n",
      "                               RFCD.Percentage.21x: 0.005338\n",
      "                                SEO.Percentage.70x: 0.005277\n",
      "                           Role.CHIEF_INVESTIGATOR: 0.005247\n",
      "       Contract.Value.Band...see.note.A.Reduced_A : 0.005041\n",
      "                         Role.PRINCIPAL_SUPERVISOR: 0.004960\n",
      "                          Sponsor.Code.Reduced_97A: 0.004960\n",
      "                 Grant.Category.Code.Reduced_Other: 0.004684\n",
      "                               mean_Year.of.Birth.: 0.004586\n",
      "                                SEO.Percentage.62x: 0.004573\n",
      "                   Country.of.Birth.Western Europe: 0.004461\n",
      "                                SEO.Percentage.78x: 0.004460\n",
      "                          Sponsor.Code.Reduced_21A: 0.004272\n",
      "                          Sponsor.Code.Reduced_32D: 0.003984\n",
      "                                SEO.Percentage.61x: 0.003956\n",
      "                          Sponsor.Code.Reduced_29A: 0.003627\n",
      " No..of.Years.in.Uni.at.Time.of.Grant.more than 15: 0.003570\n",
      "                   Grant.Category.Code.Reduced_30C: 0.003504\n",
      "                               RFCD.Percentage.42x: 0.003498\n",
      "                                SEO.Percentage.68x: 0.003491\n",
      "                               RFCD.Percentage.25x: 0.003232\n",
      "                               RFCD.Percentage.34x: 0.003229\n",
      "                        Country.of.Birth.Australia: 0.003212\n",
      "                               RFCD.Percentage.30x: 0.003107\n",
      "                      Country.of.Birth.New Zealand: 0.003029\n",
      "                               RFCD.Percentage.35x: 0.003020\n",
      "                                SEO.Percentage.72x: 0.002838\n",
      "       Contract.Value.Band...see.note.A.Reduced_C : 0.002819\n",
      "                                SEO.Percentage.67x: 0.002570\n",
      "                               RFCD.Percentage.41x: 0.002558\n",
      "                    Country.of.Birth.North America: 0.002551\n",
      "       Contract.Value.Band...see.note.A.Reduced_E : 0.002484\n",
      "                               RFCD.Percentage.26x: 0.002253\n",
      "                           Sponsor.Code.Reduced_5A: 0.002227\n",
      "                               RFCD.Percentage.29x: 0.002219\n",
      "                                     With.PHD.Sum.: 0.002108\n",
      "                          Sponsor.Code.Reduced_34B: 0.002091\n",
      "                     Country.of.Birth.Asia Pacific: 0.001999\n",
      "                                SEO.Percentage.64x: 0.001879\n",
      "                     Country.of.Birth.The Americas: 0.001837\n",
      "       Contract.Value.Band...see.note.A.Reduced_F : 0.001720\n",
      "     No..of.Years.in.Uni.at.Time.of.Grant.>=0 to 5: 0.001671\n",
      "                   Grant.Category.Code.Reduced_30D: 0.001649\n",
      "                     Country.of.Birth.South Africa: 0.001621\n",
      "       Contract.Value.Band...see.note.A.Reduced_G : 0.001605\n",
      "     No..of.Years.in.Uni.at.Time.of.Grant.>5 to 10: 0.001602\n",
      "                                SEO.Percentage.66x: 0.001380\n",
      "                               RFCD.Percentage.33x: 0.001175\n",
      "                               RFCD.Percentage.31x: 0.000982\n",
      "       Contract.Value.Band...see.note.A.Reduced_D : 0.000928\n",
      "                               RFCD.Percentage.23x: 0.000928\n",
      "                                SEO.Percentage.75x: 0.000888\n",
      "  No..of.Years.in.Uni.at.Time.of.Grant.Less than 0: 0.000819\n",
      "                               RFCD.Percentage.36x: 0.000687\n",
      "                               RFCD.Percentage.37x: 0.000563\n",
      "                               RFCD.Percentage.40x: 0.000516\n",
      "                               RFCD.Percentage.39x: 0.000349\n",
      "                               RFCD.Percentage.38x: 0.000273\n",
      "    No..of.Years.in.Uni.at.Time.of.Grant.>10 to 15: 0.000028\n",
      "                               RFCD.Percentage.24x: 0.000026\n",
      "                             Role.EXTERNAL_ADVISOR: 0.000000\n",
      "                                     Role.HONVISIT: 0.000000\n",
      "           Country.of.Birth.Middle East and Africa: 0.000000\n",
      "                               RFCD.Percentage.99x: 0.000000\n",
      "                               RFCD.Percentage.43x: 0.000000\n",
      "                               RFCD.Percentage.44x: 0.000000\n",
      "                                SEO.Percentage.69x: 0.000000\n",
      "                                SEO.Percentage.99x: 0.000000\n",
      "                                SEO.Percentage.74x: 0.000000\n",
      "                                SEO.Percentage.71x: 0.000000\n",
      "       Contract.Value.Band...see.note.A.Reduced_H : 0.000000\n"
     ]
    }
   ],
   "source": [
    "from sklearn.ensemble import GradientBoostingClassifier\n",
    "\n",
    "paramerers_gbt = {'n_estimators': 250}\n",
    "# paramerers_gbt = {'n_estimators': 100}\n",
    "gbt = GradientBoostingClassifier(**paramerers_gbt)\n",
    "classifier_gbt = gbt.fit(X_train, y_train)\n",
    "prediction_gbt = classifier_gbt.predict(X_test)\n",
    "prediction_proba_gbt = classifier_gbt.predict_proba(X_test)\n",
    "prediction_proba_gbt_train = classifier_gbt.predict_proba(X_train)\n",
    "\n",
    "roc_score_gbt = roc_auc_score(np.array(y_test.values), prediction_proba_gbt[:, 1])\n",
    "roc_score_gbt_train = roc_auc_score(np.array(y_train.values), prediction_proba_gbt_train[:, 1])\n",
    "\n",
    "print(\"Accuracy: %f | AUC: %f\" % (accuracy_score(y_test, prediction_gbt), roc_score_gbt))\n",
    "\n",
    "print(\"\\nFeatures importances:\")\n",
    "feature_importances_gbt = list(zip(features_without_nan, classifier_gbt.feature_importances_))\n",
    "feature_importances_gbt.sort(key=lambda x:x[1], reverse=True)\n",
    "for name, importance in feature_importances_gbt:\n",
    "    print(\"%50s: %f\" %(name, importance))"
   ]
  },
  {
   "cell_type": "markdown",
   "metadata": {},
   "source": [
    "## Combined model"
   ]
  },
  {
   "cell_type": "code",
   "execution_count": 19,
   "metadata": {
    "collapsed": false
   },
   "outputs": [
    {
     "data": {
      "text/plain": [
       "(0.9981422654040657, 0.96397613418890016)"
      ]
     },
     "execution_count": 19,
     "metadata": {},
     "output_type": "execute_result"
    }
   ],
   "source": [
    "probability_combined = np.mean((prediction_probaRF[:, 1], prediction_proba_gbt[:, 1]), axis=0)\n",
    "combined_score = roc_auc_score(np.array(y_test.values), probability_combined)\n",
    "\n",
    "probability_combined_train = np.mean((prediction_probaRF_train[:, 1], prediction_proba_gbt_train[:, 1]), axis=0)\n",
    "combined_score_train = roc_auc_score(np.array(y_train.values), probability_combined_train)\n",
    "\n",
    "combined_score_train, combined_score\n",
    "\n",
    "############## Other type of combinaisons\n",
    "# probability_combined1 = np.mean((prediction_probaRF[:, 1], prediction_proba_gbt[:, 1]), axis=0)\n",
    "# probability_combined2 = (roc_scoreRF * prediction_probaRF[:, 1] + roc_score_gbt * prediction_proba_gbt[:, 1]) / (roc_scoreRF + roc_score_gbt)\n",
    "\n",
    "# probability_combined3 = np.mean((prediction_probaRF[:, 1], prediction_proba_gbt[:, 1], prediction_proba_log[:, 1]), axis=0)\n",
    "# probability_combined4 = (roc_scoreRF * prediction_probaRF[:, 1] + roc_score_gbt * prediction_proba_gbt[:, 1] + roc_score_log * prediction_proba_log[:, 1]) / (roc_scoreRF + roc_score_gbt + roc_score_log)\n",
    "\n",
    "# print(roc_auc_score(np.array(y_test.values), probability_combined1))\n",
    "# print(roc_auc_score(np.array(y_test.values), probability_combined2))\n",
    "# print(roc_auc_score(np.array(y_test.values), probability_combined3))\n",
    "# print(roc_auc_score(np.array(y_test.values), probability_combined4))"
   ]
  },
  {
   "cell_type": "markdown",
   "metadata": {},
   "source": [
    "## ROC curves"
   ]
  },
  {
   "cell_type": "code",
   "execution_count": 20,
   "metadata": {
    "collapsed": false,
    "scrolled": false
   },
   "outputs": [
    {
     "data": {
      "image/png": "[encoded data removed]",
      "text/plain": [
       "<matplotlib.figure.Figure at 0x7f52240208d0>"
      ]
     },
     "metadata": {},
     "output_type": "display_data"
    }
   ],
   "source": [
    "%matplotlib inline\n",
    "import matplotlib.pyplot as plt\n",
    "from sklearn.metrics import roc_curve\n",
    "\n",
    "fpr_log, tpr_log, _ = roc_curve(np.array(y_test.values), prediction_proba_log[:, 1])\n",
    "fpr_rf, tpr_rf, _ = roc_curve(np.array(y_test.values), prediction_probaRF[:, 1])\n",
    "fpr_gbt, tpr_gbt, _ = roc_curve(np.array(y_test.values), prediction_proba_gbt[:, 1])\n",
    "fpr_combined, tpr_combined, _ = roc_curve(np.array(y_test.values), probability_combined)\n",
    "\n",
    "plt.figure(figsize=(14,10))\n",
    "plt.plot(fpr_log, tpr_log, 'b', label='Logistic')\n",
    "plt.plot(fpr_rf, tpr_rf, 'g', label='Random forest')\n",
    "plt.plot(fpr_gbt, tpr_gbt, 'r', label='GBT')\n",
    "plt.plot(fpr_combined, tpr_combined, 'm', label='Combined')\n",
    "plt.legend(loc=0)\n",
    "plt.show()"
   ]
  },
  {
   "cell_type": "markdown",
   "metadata": {},
   "source": [
    "# ROC curve and performances comparisons"
   ]
  },
  {
   "cell_type": "code",
   "execution_count": 23,
   "metadata": {
    "collapsed": false
   },
   "outputs": [
    {
     "data": {
      "image/png": "[encoded data removed]",
      "text/plain": [
       "<matplotlib.figure.Figure at 0x7f5223cf9048>"
      ]
     },
     "metadata": {},
     "output_type": "display_data"
    }
   ],
   "source": [
    "plt.figure(figsize=(24,8))\n",
    "\n",
    "plt.subplot(121)\n",
    "fpr_log, tpr_log, _ = roc_curve(np.array(y_test.values), prediction_proba_log[:, 1])\n",
    "fpr_rf, tpr_rf, _ = roc_curve(np.array(y_test.values), prediction_probaRF[:, 1])\n",
    "fpr_gbt, tpr_gbt, _ = roc_curve(np.array(y_test.values), prediction_proba_gbt[:, 1])\n",
    "fpr_combined, tpr_combined, _ = roc_curve(np.array(y_test.values), probability_combined)\n",
    "plt.plot(fpr_log, tpr_log, 'b', label='Logistic')\n",
    "plt.plot(fpr_rf, tpr_rf, 'g', label='Random forest')\n",
    "plt.plot(fpr_gbt, tpr_gbt, 'r', label='GBT')\n",
    "plt.plot(fpr_combined, tpr_combined, 'm', label='Combined')\n",
    "plt.legend(loc=0)\n",
    "\n",
    "plt.subplot(122)\n",
    "plt.scatter(roc_score_log_train, roc_score_log, label=\"Logistic\", c=\"b\", s=100)\n",
    "plt.scatter(roc_scoreRF_train, roc_scoreRF, label=\"RF\", c=\"g\", s=100)\n",
    "plt.scatter(roc_score_gbt_train, roc_score_gbt, label=\"GBT\", c=\"r\", s=100)\n",
    "plt.scatter(combined_score_train, combined_score, label=\"Combined\", c=\"m\", s=100)\n",
    "plt.plot([0, 1.01], [0,1.01], \"k\")\n",
    "plt.xlim((0.88,1.01))\n",
    "plt.ylim((0.88,1.01))\n",
    "plt.legend(loc=2)\n",
    "\n",
    "plt.show()"
   ]
  },
  {
   "cell_type": "markdown",
   "metadata": {},
   "source": [
    "# Similarity in top features for RF & GBT"
   ]
  },
  {
   "cell_type": "code",
   "execution_count": 27,
   "metadata": {
    "collapsed": false
   },
   "outputs": [
    {
     "name": "stdout",
     "output_type": "stream",
     "text": [
      "                                     Random Forest |                             Gradient Boosted Trees\n",
      "-------------------------------------------------------------------------------------------------------\n",
      "                mean_Number.of.Unsuccessful.Grant. |                                              Month\n",
      "      Contract.Value.Band...see.note.A.Reduced_MIA |                 mean_Number.of.Unsuccessful.Grant.\n",
      "                 max_Number.of.Unsuccessful.Grant. |                                               Year\n",
      "                        Contract.Value.Band.Values |                   mean_Number.of.Successful.Grant.\n",
      "                                             Month |       Contract.Value.Band...see.note.A.Reduced_MIA\n",
      "                  mean_Number.of.Successful.Grant. |                                            mean_B.\n",
      "                 min_Number.of.Unsuccessful.Grant. |                         Contract.Value.Band.Values\n",
      "                   max_Number.of.Successful.Grant. |                  max_Number.of.Unsuccessful.Grant.\n",
      "                   min_Number.of.Successful.Grant. |                       Role.STUD_CHIEF_INVESTIGATOR\n",
      "                                              Year |                                            mean_A.\n",
      "                          Sponsor.Code.Reduced_MIA |                                            mean_C.\n",
      "                   Grant.Category.Code.Reduced_MIA |                         Sponsor.Code.Reduced_Other\n",
      "                                           mean_A. |                    min_Number.of.Successful.Grant.\n",
      "                                           mean_B. |                    Grant.Category.Code.Reduced_30B\n",
      "                                          mean_A.. |                                           mean_A..\n",
      "\n",
      "Similarity: 0.733333333333\n"
     ]
    }
   ],
   "source": [
    "top_nb = 15\n",
    "top_features_rf = [feature for feature, importance in feature_importances_rf[:top_nb]]\n",
    "top_features_gbt = [feature for feature, importance in feature_importances_gbt[:top_nb]]\n",
    "\n",
    "print(\"%50s | %50s\" % (\"Random Forest\", \"Gradient Boosted Trees\"))\n",
    "print(\"-\"*103)\n",
    "for feature_rf, feature_gbt in zip(top_features_rf, top_features_gbt):\n",
    "    print(\"%50s | %50s\" % (feature_rf, feature_gbt))\n",
    "\n",
    "similarity = [1 if feature in top_features_gbt else 0 for feature in top_features_rf]\n",
    "print(\"\\nSimilarity: \"+str(np.mean(similarity)))"
   ]
  },
  {
   "cell_type": "markdown",
   "metadata": {
    "collapsed": false
   },
   "source": [
    "# Parameters tuning (Grid Search)"
   ]
  },
  {
   "cell_type": "code",
   "execution_count": null,
   "metadata": {
    "collapsed": false,
    "scrolled": true
   },
   "outputs": [],
   "source": [
    "from sklearn.grid_search import GridSearchCV\n",
    "\n",
    "parameters = {'n_estimators': [i for i in range(500, 1300, 100)], 'max_features': [i for i in range(1, 10)]}\n",
    "GridsearchSVM = GridSearchCV(RandomForestClassifier(), parameters, cv=3, verbose=10, scoring='roc_auc', n_jobs=7)\n",
    "GridsearchSVM.fit(X_train, y_train)\n",
    "\n",
    "print(GridsearchSVM.best_params_, GridsearchSVM.best_score_)\n",
    "\n",
    "# roc_auc_score(np.array(y_test.values), GridsearchSVM.best_estimator_.predict_proba(X_test)[:, 1])\n",
    "# roc_auc_score(np.array(y_test.values), GridsearchSVM.best_estimator_.fit(X_train, y_train).predict_proba(X_test)[:, 1])"
   ]
  },
  {
   "cell_type": "code",
   "execution_count": null,
   "metadata": {
    "collapsed": false
   },
   "outputs": [],
   "source": [
    "X_train1, X_train2 = train1_df[features_without_nan], train2_df[features_without_nan]\n",
    "y_train1, y_train2 = train1_df[\"Grant.Status\"].astype(int), train2_df[\"Grant.Status\"].astype(int)"
   ]
  },
  {
   "cell_type": "code",
   "execution_count": null,
   "metadata": {
    "collapsed": false
   },
   "outputs": [],
   "source": [
    "parameters = {'n_estimators': [i for i in range(1500, 2000, 100)], 'max_features': [i for i in range(12, 15)]}\n",
    "\n",
    "best_score, best_params = grid_search_no_cv(parameters, X_train1, X_train2, y_train1, y_train2, RandomForestClassifier)\n",
    "best_score, best_params"
   ]
  },
  {
   "cell_type": "code",
   "execution_count": 85,
   "metadata": {
    "collapsed": false
   },
   "outputs": [
    {
     "name": "stdout",
     "output_type": "stream",
     "text": [
      "*  1/15 | 0.963735 | {'n_estimators': 1500, 'max_features': 12}\n",
      "   2/15 | 0.962947 | {'n_estimators': 1600, 'max_features': 12}\n",
      "*  3/15 | 0.963815 | {'n_estimators': 1700, 'max_features': 12}\n",
      "   4/15 | 0.963260 | {'n_estimators': 1800, 'max_features': 12}\n",
      "   5/15 | 0.963011 | {'n_estimators': 1900, 'max_features': 12}\n",
      "   6/15 | 0.962866 | {'n_estimators': 1500, 'max_features': 13}\n",
      "   7/15 | 0.963695 | {'n_estimators': 1600, 'max_features': 13}\n",
      "   8/15 | 0.963027 | {'n_estimators': 1700, 'max_features': 13}\n",
      "   9/15 | 0.963148 | {'n_estimators': 1800, 'max_features': 13}\n",
      "  10/15 | 0.962754 | {'n_estimators': 1900, 'max_features': 13}\n",
      "  11/15 | 0.962866 | {'n_estimators': 1500, 'max_features': 14}\n",
      "  12/15 | 0.962762 | {'n_estimators': 1600, 'max_features': 14}\n",
      "  13/15 | 0.963244 | {'n_estimators': 1700, 'max_features': 14}\n",
      "  14/15 | 0.963003 | {'n_estimators': 1800, 'max_features': 14}\n",
      "  15/15 | 0.962706 | {'n_estimators': 1900, 'max_features': 14}\n"
     ]
    }
   ],
   "source": [
    "parameters = {'n_estimators': [i for i in range(1500, 2000, 100)], 'max_features': [i for i in range(12, 15)]}\n",
    "\n",
    "best_score, best_params = grid_search_no_cv(parameters, X_train, X_test, y_train, y_test, RandomForestClassifier)"
   ]
  },
  {
   "cell_type": "code",
   "execution_count": 84,
   "metadata": {
    "collapsed": false
   },
   "outputs": [
    {
     "name": "stdout",
     "output_type": "stream",
     "text": [
      "*  1/10 | 0.949695 | {'n_estimators': 50}\n",
      "*  2/10 | 0.955179 | {'n_estimators': 100}\n",
      "*  3/10 | 0.955678 | {'n_estimators': 150}\n",
      "*  4/10 | 0.956771 | {'n_estimators': 200}\n",
      "*  5/10 | 0.956948 | {'n_estimators': 250}\n",
      "*  6/10 | 0.957704 | {'n_estimators': 300}\n",
      "*  7/10 | 0.957833 | {'n_estimators': 350}\n",
      "*  8/10 | 0.958926 | {'n_estimators': 400}\n",
      "*  9/10 | 0.959007 | {'n_estimators': 450}\n",
      "* 10/10 | 0.959152 | {'n_estimators': 500}\n"
     ]
    }
   ],
   "source": [
    "parameters = {'n_estimators': [i for i in range(50, 550, 50)]}\n",
    "\n",
    "best_score, best_params = grid_search_no_cv(parameters, X_train, X_test, y_train, y_test, GradientBoostingClassifier, parallel=False)"
   ]
  },
  {
   "cell_type": "code",
   "execution_count": null,
   "metadata": {
    "collapsed": false
   },
   "outputs": [],
   "source": [
    "best_score, best_params = grid_search_no_cv(parameters, X_train1, X_train2, y_train1, y_train2, GradientBoostingClassifier, parallel=False)"
   ]
  }
 ],
 "metadata": {
  "anaconda-cloud": {},
  "kernelspec": {
   "display_name": "Python [Root]",
   "language": "python",
   "name": "Python [Root]"
  },
  "language_info": {
   "codemirror_mode": {
    "name": "ipython",
    "version": 3
   },
   "file_extension": ".py",
   "mimetype": "text/x-python",
   "name": "python",
   "nbconvert_exporter": "python",
   "pygments_lexer": "ipython3",
   "version": "3.5.2"
  }
 },
 "nbformat": 4,
 "nbformat_minor": 0
}
