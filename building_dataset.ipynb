{
 "cells": [
  {
   "cell_type": "code",
   "execution_count": 182,
   "metadata": {
    "collapsed": false,
    "scrolled": false
   },
   "outputs": [
    {
     "data": {
      "text/plain": [
       "Grant.Application.ID                        object\n",
       "Grant.Status                                object\n",
       "Sponsor.Code                                object\n",
       "Grant.Category.Code                         object\n",
       "Contract.Value.Band...see.note.A            object\n",
       "Start.date                                  object\n",
       "RFCD.Code.1                                 object\n",
       "RFCD.Percentage.1                          float64\n",
       "RFCD.Code.2                                 object\n",
       "RFCD.Percentage.2                          float64\n",
       "RFCD.Code.3                                 object\n",
       "RFCD.Percentage.3                          float64\n",
       "RFCD.Code.4                                 object\n",
       "RFCD.Percentage.4                          float64\n",
       "RFCD.Code.5                                 object\n",
       "RFCD.Percentage.5                          float64\n",
       "SEO.Code.1                                  object\n",
       "SEO.Percentage.1                           float64\n",
       "SEO.Code.2                                  object\n",
       "SEO.Percentage.2                           float64\n",
       "SEO.Code.3                                  object\n",
       "SEO.Percentage.3                           float64\n",
       "SEO.Code.4                                  object\n",
       "SEO.Percentage.4                           float64\n",
       "SEO.Code.5                                  object\n",
       "SEO.Percentage.5                           float64\n",
       "Person.ID.1                                 object\n",
       "Role.1                                      object\n",
       "Year.of.Birth.1                            float64\n",
       "Country.of.Birth.1                          object\n",
       "                                            ...   \n",
       "Year.of.Birth.14                           float64\n",
       "Country.of.Birth.14                         object\n",
       "Home.Language.14                            object\n",
       "Dept.No..14                                 object\n",
       "Faculty.No..14                              object\n",
       "With.PHD.14                                 object\n",
       "No..of.Years.in.Uni.at.Time.of.Grant.14     object\n",
       "Number.of.Successful.Grant.14              float64\n",
       "Number.of.Unsuccessful.Grant.14            float64\n",
       "A..14                                      float64\n",
       "A.14                                       float64\n",
       "B.14                                       float64\n",
       "C.14                                       float64\n",
       "Person.ID.15                                object\n",
       "Role.15                                     object\n",
       "Year.of.Birth.15                           float64\n",
       "Country.of.Birth.15                         object\n",
       "Home.Language.15                            object\n",
       "Dept.No..15                                 object\n",
       "Faculty.No..15                              object\n",
       "With.PHD.15                                 object\n",
       "No..of.Years.in.Uni.at.Time.of.Grant.15     object\n",
       "Number.of.Successful.Grant.15              float64\n",
       "Number.of.Unsuccessful.Grant.15            float64\n",
       "A..15                                      float64\n",
       "A.15                                       float64\n",
       "B.15                                       float64\n",
       "C.15                                       float64\n",
       "Year                                       float64\n",
       "Month                                      float64\n",
       "dtype: object"
      ]
     },
     "execution_count": 182,
     "metadata": {},
     "output_type": "execute_result"
    }
   ],
   "source": [
    "import numpy as np\n",
    "import pandas as pd\n",
    "\n",
    "data = pd.read_csv(\"data/unimelb_training.csv\", header=0, dtype=\"str\")\n",
    "data = data.drop(\"Unnamed: 251\", axis=1)\n",
    "data[\"Year\"] = data[\"Start.date\"].map(lambda x: float(x.split(\"/\")[2]))\n",
    "data[\"Month\"] = data[\"Start.date\"].map(lambda x: float(x.split(\"/\")[1]))\n",
    "\n",
    "\n",
    "numerical_data_feature_category = [\n",
    "    (\"RFCD.Percentage.\", 5),\n",
    "    (\"SEO.Percentage.\", 5), \n",
    "    (\"Year.of.Birth.\", 15),\n",
    "    (\"Number.of.Successful.Grant.\", 15),\n",
    "    (\"Number.of.Unsuccessful.Grant.\", 15),\n",
    "    (\"A..\", 15),\n",
    "    (\"A.\", 15),\n",
    "    (\"B.\", 15),\n",
    "    (\"C.\", 15)\n",
    "]\n",
    "\n",
    "for feature_name, feature_range in numerical_data_feature_category:\n",
    "    numerical_data_features = [feature_name+str(i) for i in range(1, feature_range+1)]\n",
    "    for numerical_data_feature in numerical_data_features:\n",
    "        data[numerical_data_feature] = data[numerical_data_feature].astype(float)\n",
    "\n",
    "data.dtypes"
   ]
  },
  {
   "cell_type": "markdown",
   "metadata": {},
   "source": [
    "# Contigency for persons"
   ]
  },
  {
   "cell_type": "code",
   "execution_count": 183,
   "metadata": {
    "collapsed": true
   },
   "outputs": [],
   "source": [
    "# build the list of all unique values of a given spread column, as a tuple\n",
    "def process_column(data, prefix, nb_max):\n",
    "    unique_values = set([])\n",
    "    for i in range(1, nb_max+1):\n",
    "        unique_values.update(data[prefix+str(i)].unique())\n",
    "    return tuple(unique_values)\n",
    "\n",
    "# Build a dataframe with contingecy frequencies from a given spread column\n",
    "def add_contigency(prefix, nb_max, unique_values, add_cardinal, keep_nan):\n",
    "    nb_unique_values = len(unique_values)\n",
    "    has_nans = np.nan in unique_values\n",
    "    nan_index = unique_values.index(np.nan)\n",
    "    new_feature_labels = [prefix+str(value) for value in unique_values]\n",
    "    if has_nans and not keep_nan:\n",
    "        new_feature_labels.pop(nan_index)\n",
    "    if add_cardinal:\n",
    "        new_feature_labels.append(\"cardinal_\"+prefix)\n",
    "    def nested_func(x):\n",
    "        values_frequency = [0]*nb_unique_values\n",
    "        for i in range(1, nb_max+1):\n",
    "            values_frequency[unique_values.index(x[prefix+str(i)])] += 1\n",
    "        if has_nans:\n",
    "            values_frequency[nan_index] = 0\n",
    "            if not keep_nan:\n",
    "                values_frequency.pop(nan_index)\n",
    "        summe = sum(values_frequency)\n",
    "        if summe != 0:\n",
    "            values_frequency = [value/summe for value in values_frequency]\n",
    "        if add_cardinal:\n",
    "            values_frequency.append(summe)\n",
    "        return pd.Series(values_frequency, index=new_feature_labels)\n",
    "    return nested_func\n",
    "\n",
    "# Build a dataframe with contingecy frequencies from a given spread column\n",
    "def build_contigency(data, prefix, nb_max, add_cardinal=False, keep_nan=False):\n",
    "    unique_values = process_column(data, prefix, nb_max)\n",
    "    return unique_values, data.apply(add_contigency(prefix, nb_max, unique_values, add_cardinal, keep_nan), axis=1, raw=True)"
   ]
  },
  {
   "cell_type": "markdown",
   "metadata": {},
   "source": [
    "## Role / Number of years at uni at time of grant / Country of birth"
   ]
  },
  {
   "cell_type": "code",
   "execution_count": 184,
   "metadata": {
    "collapsed": false
   },
   "outputs": [
    {
     "name": "stdout",
     "output_type": "stream",
     "text": [
      "(nan, 'EXTERNAL_ADVISOR', 'HONVISIT', 'STUD_CHIEF_INVESTIGATOR', 'DELEGATED_RESEARCHER', 'CHIEF_INVESTIGATOR', 'STUDRES', 'EXT_CHIEF_INVESTIGATOR', 'PRINCIPAL_SUPERVISOR')\n",
      "('>=0 to 5', '>10 to 15', '>5 to 10', nan, 'more than 15', 'Less than 0')\n",
      "(nan, 'The Americas', 'Middle East and Africa', 'Asia Pacific', 'Australia', 'Eastern Europe', 'Great Britain', 'New Zealand', 'Western Europe', 'South Africa', 'North America')\n"
     ]
    }
   ],
   "source": [
    "contigency_features_names = []\n",
    "\n",
    "# Role.\n",
    "unique_roles, role_contigency_df = build_contigency(data, \"Role.\", 15, add_cardinal=True)\n",
    "\n",
    "print(unique_roles)\n",
    "contigency_features_names.extend(list(role_contigency_df.columns))\n",
    "data = data.join(role_contigency_df)\n",
    "\n",
    "# No..of.Years.in.Uni.at.Time.of.Grant.\n",
    "unique_yearsinuni, yearsinuni_contigency_df = build_contigency(data, \"No..of.Years.in.Uni.at.Time.of.Grant.\", 15)\n",
    "\n",
    "print(unique_yearsinuni)\n",
    "contigency_features_names.extend(list(yearsinuni_contigency_df.columns))\n",
    "data = data.join(yearsinuni_contigency_df)\n",
    "\n",
    "# Country.of.Birth.\n",
    "unique_cob, cob_contigency_df = build_contigency(data, \"Country.of.Birth.\", 15)\n",
    "\n",
    "print(unique_cob)\n",
    "contigency_features_names.extend(list(cob_contigency_df.columns))\n",
    "data = data.join(cob_contigency_df)"
   ]
  },
  {
   "cell_type": "markdown",
   "metadata": {},
   "source": [
    "# aggregations for persons"
   ]
  },
  {
   "cell_type": "code",
   "execution_count": 185,
   "metadata": {
    "collapsed": false
   },
   "outputs": [],
   "source": [
    "# Build a dataframe with contingecy frequencies from a given spread column\n",
    "def add_aggregation(prefixes, nb_max):\n",
    "    feature_names_by_prefix = [[prefix+str(i) for i in range(1, nb_max+1)] for prefix in prefixes]\n",
    "    methods_to_apply = [np.mean, np.max, np.min]\n",
    "    new_feature_labels_by_prefix = [[label_prefix+prefix for label_prefix in [\"mean_\", \"max_\", \"min_\"]] for prefix in prefixes]\n",
    "    flat_new_labels = [new_feature_label for new_feature_labels in new_feature_labels_by_prefix for new_feature_label in new_feature_labels]\n",
    "    def nested_func(x):\n",
    "        values_by_prefix = [\n",
    "            [x[feature_name] for feature_name in feature_names if np.isreal(x[feature_name]) and not np.isnan(x[feature_name])]\n",
    "            for feature_names in feature_names_by_prefix\n",
    "        ]\n",
    "        aggregated_values_by_prefix = [[method(values) for method in methods_to_apply] if len(values) > 0 else [np.nan]*len(methods_to_apply) for values in values_by_prefix]\n",
    "        return pd.Series(\n",
    "            data=[aggregated_value for aggregated_values in aggregated_values_by_prefix for aggregated_value in aggregated_values], \n",
    "            index=flat_new_labels\n",
    "        )\n",
    "    return nested_func\n",
    "# Build a dataframe with contingecy frequencies from a given spread column\n",
    "def build_aggregation(data, prefix, nb_max):\n",
    "    return data.apply(add_aggregation(prefix, nb_max), axis=1, raw=True)"
   ]
  },
  {
   "cell_type": "markdown",
   "metadata": {},
   "source": [
    "## Year of birth / Number of successful grants / Number of unsuccessfull grants / journals publications (A*, A, B, C)"
   ]
  },
  {
   "cell_type": "code",
   "execution_count": 186,
   "metadata": {
    "collapsed": false
   },
   "outputs": [
    {
     "name": "stdout",
     "output_type": "stream",
     "text": [
      "['mean_Year.of.Birth.', 'max_Year.of.Birth.', 'min_Year.of.Birth.', 'mean_Number.of.Successful.Grant.', 'max_Number.of.Successful.Grant.', 'min_Number.of.Successful.Grant.', 'mean_Number.of.Unsuccessful.Grant.', 'max_Number.of.Unsuccessful.Grant.', 'min_Number.of.Unsuccessful.Grant.', 'mean_A..', 'max_A..', 'min_A..', 'mean_A.', 'max_A.', 'min_A.', 'mean_B.', 'max_B.', 'min_B.', 'mean_C.', 'max_C.', 'min_C.']\n"
     ]
    }
   ],
   "source": [
    "aggregation_df = build_aggregation(data, [\"Year.of.Birth.\", \"Number.of.Successful.Grant.\", \"Number.of.Unsuccessful.Grant.\", \"A..\", \"A.\", \"B.\", \"C.\"], 15)\n",
    "aggregation_features_names = list(aggregation_df.columns)\n",
    "\n",
    "print(aggregation_features_names)\n",
    "data = data.join(aggregation_df)"
   ]
  },
  {
   "cell_type": "markdown",
   "metadata": {},
   "source": [
    "# RFCD & SEO"
   ]
  },
  {
   "cell_type": "code",
   "execution_count": 187,
   "metadata": {
    "collapsed": true
   },
   "outputs": [],
   "source": [
    "def rfcd_codes(data, prefix, nb_max, length):\n",
    "    unique_values = set([])\n",
    "    for i in range(1, nb_max+1):\n",
    "        unique_values.update([str(code)[:length] if not np.isreal(code) else np.nan for code in data[prefix+str(i)].unique()])\n",
    "    return tuple(unique_values)\n",
    "\n",
    "# Build a dataframe with contingecy frequencies from a given spread column\n",
    "def add_rfcd_aggregation(prefix1, prefix2, nb_max, unique_values, add_cardinal, suffix, length, keep_nan):\n",
    "    nb_unique_values = len(unique_values)\n",
    "    has_nans = np.nan in unique_values\n",
    "    nan_index = unique_values.index(np.nan)\n",
    "    new_feature_labels = [prefix2+str(value)+suffix for value in unique_values]\n",
    "    if has_nans and not keep_nan:\n",
    "        new_feature_labels.pop(nan_index)\n",
    "    if add_cardinal:\n",
    "        new_feature_labels.append(\"cardinal_\"+prefix2)\n",
    "    def nested_func(x):\n",
    "        values_percentage = [0]*nb_unique_values\n",
    "        cardinal = 0\n",
    "        for i in range(1, nb_max+1):\n",
    "            considered_value = x[prefix1+str(i)]\n",
    "            current_value =  np.nan\n",
    "            if not np.isreal(considered_value) and considered_value != '0':\n",
    "                current_value = str(considered_value)[:length]\n",
    "                cardinal += 1\n",
    "            values_percentage[unique_values.index(current_value)] += x[prefix2+str(i)]/100.0\n",
    "        if has_nans:\n",
    "            values_percentage[nan_index] = 0\n",
    "            if not keep_nan:\n",
    "                values_percentage.pop(nan_index)\n",
    "        if add_cardinal:\n",
    "            values_percentage.append(cardinal)\n",
    "        return pd.Series(values_percentage, index=new_feature_labels)\n",
    "    return nested_func\n",
    "\n",
    "# Build a dataframe with contingecy frequencies from a given spread column\n",
    "def build_rfcd_aggregation(data, prefix1, prefix2, nb_max, length, add_cardinal=True, suffix=\"x\", keep_nan=False):\n",
    "    unique_values = rfcd_codes(data, prefix1, nb_max, length)\n",
    "    return unique_values, data.apply(add_rfcd_aggregation(prefix1, prefix2, nb_max, unique_values, add_cardinal, suffix, length, keep_nan), axis=1, raw=True)"
   ]
  },
  {
   "cell_type": "markdown",
   "metadata": {},
   "source": [
    "## RFCD / SEO"
   ]
  },
  {
   "cell_type": "code",
   "execution_count": 188,
   "metadata": {
    "collapsed": false
   },
   "outputs": [
    {
     "name": "stdout",
     "output_type": "stream",
     "text": [
      "(nan, '39', '33', '30', '26', '31', '36', '41', '32', '28', '23', '25', '44', '21', '99', '35', '29', '34', '0', '24', '43', '42', '37', '27', '38', '40')\n",
      "['RFCD.Percentage.39x', 'RFCD.Percentage.33x', 'RFCD.Percentage.30x', 'RFCD.Percentage.26x', 'RFCD.Percentage.31x', 'RFCD.Percentage.36x', 'RFCD.Percentage.41x', 'RFCD.Percentage.32x', 'RFCD.Percentage.28x', 'RFCD.Percentage.23x', 'RFCD.Percentage.25x', 'RFCD.Percentage.44x', 'RFCD.Percentage.21x', 'RFCD.Percentage.99x', 'RFCD.Percentage.35x', 'RFCD.Percentage.29x', 'RFCD.Percentage.34x', 'RFCD.Percentage.0x', 'RFCD.Percentage.24x', 'RFCD.Percentage.43x', 'RFCD.Percentage.42x', 'RFCD.Percentage.37x', 'RFCD.Percentage.27x', 'RFCD.Percentage.38x', 'RFCD.Percentage.40x', 'cardinal_RFCD.Percentage.']\n",
      "(nan, '76', '66', '73', '70', '0', '72', '77', '64', '78', '63', '71', '69', '65', '61', '67', '99', '74', '68', '62', '75')\n",
      "['SEO.Percentage.76x', 'SEO.Percentage.66x', 'SEO.Percentage.73x', 'SEO.Percentage.70x', 'SEO.Percentage.0x', 'SEO.Percentage.72x', 'SEO.Percentage.77x', 'SEO.Percentage.64x', 'SEO.Percentage.78x', 'SEO.Percentage.63x', 'SEO.Percentage.71x', 'SEO.Percentage.69x', 'SEO.Percentage.65x', 'SEO.Percentage.61x', 'SEO.Percentage.67x', 'SEO.Percentage.99x', 'SEO.Percentage.74x', 'SEO.Percentage.68x', 'SEO.Percentage.62x', 'SEO.Percentage.75x', 'cardinal_SEO.Percentage.']\n"
     ]
    }
   ],
   "source": [
    "rfcd_codes_unique, rfcd_df = build_rfcd_aggregation(data, \"RFCD.Code.\", \"RFCD.Percentage.\", 5, 2)\n",
    "\n",
    "rfcd_features_names = list(rfcd_df.columns)\n",
    "print(rfcd_codes_unique)\n",
    "print(rfcd_features_names)\n",
    "data = data.join(rfcd_df)\n",
    "\n",
    "seo_codes_unique, seo_df = build_rfcd_aggregation(data, \"SEO.Code.\", \"SEO.Percentage.\", 5, 2)\n",
    "\n",
    "seo_features_names = list(seo_df.columns)\n",
    "print(seo_codes_unique)\n",
    "print(seo_features_names)\n",
    "data = data.join(seo_df)"
   ]
  },
  {
   "cell_type": "markdown",
   "metadata": {},
   "source": [
    "# Building dataset"
   ]
  },
  {
   "cell_type": "markdown",
   "metadata": {
    "collapsed": false
   },
   "source": [
    "## Setting train and test sets"
   ]
  },
  {
   "cell_type": "code",
   "execution_count": null,
   "metadata": {
    "collapsed": false
   },
   "outputs": [],
   "source": []
  },
  {
   "cell_type": "markdown",
   "metadata": {},
   "source": [
    "## Filling NAs"
   ]
  },
  {
   "cell_type": "code",
   "execution_count": 189,
   "metadata": {
    "collapsed": false
   },
   "outputs": [],
   "source": [
    "# filling NAs with mean\n",
    "for feature_name in aggregation_features_names:\n",
    "    # FROM nonmean to nanmedian !!!!\n",
    "    data[feature_name] = data[feature_name].fillna(np.nanmedian(data[feature_name]))\n",
    "\n",
    "# filling NAs with other value\n",
    "data['Sponsor.Code'] = data['Sponsor.Code'].fillna('MIA')\n",
    "data['Grant.Category.Code'] = data['Grant.Category.Code'].fillna('MIA')\n",
    "\n",
    "# Reducing number of categories\n",
    "sponsor_reduced_codes = set(data['Sponsor.Code'].value_counts().index[:10])\n",
    "data['Sponsor.Code.Reduced'] = data['Sponsor.Code'].map(lambda x: x if x in sponsor_reduced_codes else 'Other')\n",
    "    \n",
    "grant_cat_reduced_codes = set(data['Grant.Category.Code'].value_counts().index[:9])\n",
    "data['Grant.Category.Code.Reduced'] = data['Grant.Category.Code'].map(lambda x: x if x in grant_cat_reduced_codes else 'Other')"
   ]
  },
  {
   "cell_type": "markdown",
   "metadata": {},
   "source": [
    "# Dummy variables for categorical data"
   ]
  },
  {
   "cell_type": "code",
   "execution_count": 190,
   "metadata": {
    "collapsed": true
   },
   "outputs": [],
   "source": [
    "# Sponsor.Code.Reduced\n",
    "sponsor_reduced_dummies = pd.get_dummies(data[\"Sponsor.Code.Reduced\"], prefix=\"Sponsor.Code.Reduced\")\n",
    "sponsor_reduced_dummies_features = list(sponsor_reduced_dummies.columns)\n",
    "data = data.join(sponsor_reduced_dummies)\n",
    "\n",
    "# Grant.Category.Code.Reduced\n",
    "grant_cat_reduced_dummies = pd.get_dummies(data[\"Grant.Category.Code.Reduced\"], prefix=\"Grant.Category.Code.Reduced\")\n",
    "grant_cat_reduced_dummies_features = list(grant_cat_reduced_dummies.columns)\n",
    "data = data.join(grant_cat_reduced_dummies)"
   ]
  },
  {
   "cell_type": "markdown",
   "metadata": {},
   "source": [
    "## Trying to fill Contract.Value.Band...see.note.A NaNs"
   ]
  },
  {
   "cell_type": "code",
   "execution_count": null,
   "metadata": {
    "collapsed": true
   },
   "outputs": [],
   "source": [
    "data['Contract.Value.Band...see.note.A'] = data['Contract.Value.Band...see.note.A'].fillna('MIA')\n",
    "\n",
    "withCVB, withoutCVB = data.loc[data['Contract.Value.Band...see.note.A'] != \"MIA\"], data.loc[data['Contract.Value.Band...see.note.A'] == \"MIA\"]\n",
    "len(withCVB), len(withoutCVB)\n",
    "\n",
    "\n",
    "\n",
    "application_feature_names = [\n",
    "    \"Grant.Application.ID\", \n",
    "    \"Grant.Status\", \n",
    "    \"Sponsor.Code\", \n",
    "    \"Grant.Category.Code\", \n",
    "    \"Contract.Value.Band...see.note.A\", \n",
    "    \"Start.date\",\n",
    "    \"Year\",\n",
    "    \"Month\"\n",
    "]\n",
    "\n",
    "features_without_nan = list(np.concatenate([\n",
    "            application_feature_names \n",
    "            + contigency_features_names \n",
    "            + aggregation_features_names \n",
    "            + rfcd_features_names \n",
    "            + seo_features_names\n",
    "            + sponsor_reduced_dummies_features\n",
    "            + grant_cat_reduced_dummies_features\n",
    "            + grant_cat_letter_dummies_features\n",
    "            + grant_cat_number_dummies_features\n",
    "            + sponsor_code_letter_dummies_features\n",
    "        ]))\n",
    "\n",
    "features_without_nan.remove(\"Sponsor.Code\")\n",
    "features_without_nan.remove(\"Grant.Category.Code\")\n",
    "features_without_nan.remove(\"Contract.Value.Band...see.note.A\")\n",
    "\n",
    "# Not to be used for classification\n",
    "features_without_nan.remove(\"Grant.Application.ID\")\n",
    "features_without_nan.remove(\"Grant.Status\")\n",
    "features_without_nan.remove(\"Start.date\")\n",
    "\n",
    "\n",
    "\n",
    "\n",
    "from sklearn.cross_validation import train_test_split\n",
    "\n",
    "X_train_CVB, X_test_CVB, y_train_CVB, y_test_CVB = train_test_split(withCVB[features_without_nan], withCVB[\"Contract.Value.Band...see.note.A\"].astype(\"category\").cat.codes, test_size=0.3, random_state=0)\n",
    "len(X_train_CVB), len(X_test_CVB)\n",
    "\n",
    "\n",
    "\n",
    "from sklearn.ensemble import RandomForestClassifier\n",
    "\n",
    "rf = RandomForestClassifier(n_estimators=1600, n_jobs = 7)\n",
    "classifierRF = rf.fit(X_train_CVB, y_train_CVB)\n",
    "predictionRF = classifierRF.predict(X_test_CVB)\n",
    "prediction_probaRF = classifierRF.predict_proba(X_test_CVB)\n",
    "\n",
    "print(\"Accuracy: %f\" % (accuracy_score(y_test_CVB, predictionRF)))\n",
    "\n",
    "print(\"\\nFeatures importances:\")\n",
    "feature_importances = list(zip(features_without_nan, classifierRF.feature_importances_))\n",
    "feature_importances.sort(key=lambda x:x[1], reverse=True)\n",
    "for name, importance in feature_importances:\n",
    "    print(\"%50s: %f\" %(name, importance))\n",
    "    \n",
    "    \n",
    "    \n",
    "(np.max(prediction_probaRF, axis=1) > 0.5).sum()"
   ]
  },
  {
   "cell_type": "code",
   "execution_count": null,
   "metadata": {
    "collapsed": false
   },
   "outputs": [],
   "source": [
    "contract_value_reduced_codes = set(data['Contract.Value.Band...see.note.A'].value_counts().index[:8])\n",
    "data['Contract.Value.Band...see.note.A.Reduced'] = data['Contract.Value.Band...see.note.A'].map(lambda x: x if x in contract_value_reduced_codes else 'Other')\n",
    "\n",
    "# Contract.Value.Band...see.note.A.Reduced\n",
    "contract_value_reduced_dummies = pd.get_dummies(data[\"Contract.Value.Band...see.note.A.Reduced\"], prefix=\"Contract.Value.Band...see.note.A.Reduced\")\n",
    "contract_value_reduced_dummies_features = list(contract_value_reduced_dummies.columns)\n",
    "data = data.join(contract_value_reduced_dummies)"
   ]
  },
  {
   "cell_type": "code",
   "execution_count": null,
   "metadata": {
    "collapsed": false
   },
   "outputs": [],
   "source": []
  },
  {
   "cell_type": "code",
   "execution_count": null,
   "metadata": {
    "collapsed": false,
    "scrolled": true
   },
   "outputs": [],
   "source": []
  },
  {
   "cell_type": "code",
   "execution_count": null,
   "metadata": {
    "collapsed": false
   },
   "outputs": [],
   "source": []
  },
  {
   "cell_type": "code",
   "execution_count": null,
   "metadata": {
    "collapsed": false
   },
   "outputs": [],
   "source": []
  },
  {
   "cell_type": "code",
   "execution_count": null,
   "metadata": {
    "collapsed": false
   },
   "outputs": [],
   "source": []
  },
  {
   "cell_type": "code",
   "execution_count": null,
   "metadata": {
    "collapsed": false
   },
   "outputs": [],
   "source": []
  },
  {
   "cell_type": "code",
   "execution_count": null,
   "metadata": {
    "collapsed": true
   },
   "outputs": [],
   "source": []
  },
  {
   "cell_type": "code",
   "execution_count": null,
   "metadata": {
    "collapsed": true
   },
   "outputs": [],
   "source": []
  },
  {
   "cell_type": "markdown",
   "metadata": {},
   "source": [
    "## Contract.Value.Band.Values"
   ]
  },
  {
   "cell_type": "code",
   "execution_count": 191,
   "metadata": {
    "collapsed": false
   },
   "outputs": [],
   "source": [
    "# contract_value_band_values = {\n",
    "#     \"A\": [1, 50000],\n",
    "#     \"B\" : [50001, 100000],\n",
    "#     \"C\" : [100001, 200000],\n",
    "#     \"D\" : [200001, 300000],\n",
    "#     \"E\" : [300001, 400000],\n",
    "#     \"F\" : [400001, 500000],\n",
    "#     \"G\" : [500001, 1000000],\n",
    "#     \"H\" : [1000001, 2000000],\n",
    "#     \"I\" : [2000001, 3000000],\n",
    "#     \"J\" : [3000001, 4000000],\n",
    "#     \"K\" : [4000001, 5000000],\n",
    "#     \"L\" : [5000001, 6000000],\n",
    "#     \"M\" : [6000001, 7000000],\n",
    "#     \"N\" : [7000001, 8000000],\n",
    "#     \"O\" : [8000001, 9000000],\n",
    "#     \"P\" : [9000001, 10000000],\n",
    "#     \"Q\" : [10000001, 100000000]\n",
    "# }\n",
    "\n",
    "# for letter, values in contract_value_band_values.items():\n",
    "#     # The mean is divided by 100000.0 for avoiding de-normalization\n",
    "#     values.append(np.mean(values) / 100000.0)\n",
    "\n",
    "# def assign_value(x):\n",
    "#     if x is not 'MIA':\n",
    "#         return contract_value_band_values[x.strip()][2]\n",
    "#     return np.nan\n",
    "\n",
    "# data[\"Contract.Value.Band.Values\"] = data[\"Contract.Value.Band...see.note.A\"].map(assign_value)\n",
    "# data[\"Contract.Value.Band.Values\"] = data[\"Contract.Value.Band.Values\"].fillna(np.nanmedian(data[\"Contract.Value.Band.Values\"]))"
   ]
  },
  {
   "cell_type": "code",
   "execution_count": 192,
   "metadata": {
    "collapsed": true
   },
   "outputs": [],
   "source": [
    "\n",
    "contract_value_band_values = {\n",
    "    \"A\": [1, 50000],\n",
    "    \"B\" : [50001, 100000],\n",
    "    \"C\" : [100001, 200000],\n",
    "    \"D\" : [200001, 300000],\n",
    "    \"E\" : [300001, 400000],\n",
    "    \"F\" : [400001, 500000],\n",
    "    \"G\" : [500001, 1000000],\n",
    "    \"H\" : [1000001, 2000000],\n",
    "    \"I\" : [2000001, 3000000],\n",
    "    \"J\" : [3000001, 4000000],\n",
    "    \"K\" : [4000001, 5000000],\n",
    "    \"L\" : [5000001, 6000000],\n",
    "    \"M\" : [6000001, 7000000],\n",
    "    \"N\" : [7000001, 8000000],\n",
    "    \"O\" : [8000001, 9000000],\n",
    "    \"P\" : [9000001, 10000000],\n",
    "    \"Q\" : [10000001, 100000000]\n",
    "}\n",
    "\n",
    "for letter, values in contract_value_band_values.items():\n",
    "    # The mean is divided by 100000.0 for avoiding de-normalization\n",
    "    values.append(np.mean(values) / 100000.0)\n",
    "\n",
    "def assign_value(x):\n",
    "    if x[\"Contract.Value.Band...see.note.A\"] is not 'MIA':\n",
    "        return contract_value_band_values[x[\"Contract.Value.Band...see.note.A\"].strip()][2]\n",
    "    elif x[\"Sponsor.Code\"] in (\"2B\", \"4D\"):\n",
    "        return contract_value_band_values[\"A\"][2]\n",
    "    return np.nan\n",
    "\n",
    "data[\"Contract.Value.Band.Values\"] = data.apply(assign_value, axis=1)\n",
    "data[\"Contract.Value.Band.Values\"] = data[\"Contract.Value.Band.Values\"].fillna(np.nanmedian(data[\"Contract.Value.Band.Values\"]))\n",
    "\n",
    "# print(data.apply(assign_value, axis=1).isnull().sum())\n",
    "# data[\"Contract.Value.Band.Values\"] = data[\"Contract.Value.Band.Values\"].fillna(np.nanmedian(data[\"Contract.Value.Band.Values\"]))"
   ]
  },
  {
   "cell_type": "code",
   "execution_count": null,
   "metadata": {
    "collapsed": true
   },
   "outputs": [],
   "source": []
  },
  {
   "cell_type": "markdown",
   "metadata": {
    "collapsed": false
   },
   "source": [
    "## Grant category Code"
   ]
  },
  {
   "cell_type": "code",
   "execution_count": 193,
   "metadata": {
    "collapsed": false
   },
   "outputs": [],
   "source": [
    "data[\"Grant.Category.Code.Letter\"] = data[\"Grant.Category.Code\"].map(lambda x: x[-1] if x != 'MIA' else \"Unknown\")\n",
    "\n",
    "grant_cat_letter_dummies = pd.get_dummies(data[\"Grant.Category.Code.Letter\"], prefix=\"Grant.Category.Code.Letter\")\n",
    "grant_cat_letter_dummies_features = list(grant_cat_letter_dummies.columns)\n",
    "data = data.join(grant_cat_letter_dummies)\n",
    "\n",
    "data[\"Grant.Category.Code.Number\"] = data[\"Grant.Category.Code\"].map(lambda x: x[:-1] if x != 'MIA' else \"Unknown\")\n",
    "\n",
    "grant_cat_number_dummies = pd.get_dummies(data[\"Grant.Category.Code.Number\"], prefix=\"Grant.Category.Code.Number\")\n",
    "grant_cat_number_dummies_features = list(grant_cat_number_dummies.columns)\n",
    "data = data.join(grant_cat_number_dummies)"
   ]
  },
  {
   "cell_type": "markdown",
   "metadata": {},
   "source": [
    "## Sponsor Code"
   ]
  },
  {
   "cell_type": "code",
   "execution_count": 194,
   "metadata": {
    "collapsed": true
   },
   "outputs": [],
   "source": [
    "data[\"Sponsor.Code.Letter\"] = data[\"Sponsor.Code\"].map(lambda x: x[-1] if x != 'MIA' else \"Unknown\")\n",
    "\n",
    "sponsor_code_letter_dummies = pd.get_dummies(data[\"Sponsor.Code.Letter\"], prefix=\"Sponsor.Code.Letter\")\n",
    "sponsor_code_letter_dummies_features = list(sponsor_code_letter_dummies.columns)\n",
    "data = data.join(sponsor_code_letter_dummies)"
   ]
  },
  {
   "cell_type": "code",
   "execution_count": null,
   "metadata": {
    "collapsed": false
   },
   "outputs": [],
   "source": []
  },
  {
   "cell_type": "markdown",
   "metadata": {
    "collapsed": false
   },
   "source": [
    "## Choosing the features"
   ]
  },
  {
   "cell_type": "code",
   "execution_count": 195,
   "metadata": {
    "collapsed": false,
    "scrolled": false
   },
   "outputs": [
    {
     "data": {
      "text/plain": [
       "Year                                                 0\n",
       "Month                                                0\n",
       "Contract.Value.Band.Values                           0\n",
       "Role.EXTERNAL_ADVISOR                                0\n",
       "Role.HONVISIT                                        0\n",
       "Role.STUD_CHIEF_INVESTIGATOR                         0\n",
       "Role.DELEGATED_RESEARCHER                            0\n",
       "Role.CHIEF_INVESTIGATOR                              0\n",
       "Role.STUDRES                                         0\n",
       "Role.EXT_CHIEF_INVESTIGATOR                          0\n",
       "Role.PRINCIPAL_SUPERVISOR                            0\n",
       "cardinal_Role.                                       0\n",
       "No..of.Years.in.Uni.at.Time.of.Grant.>=0 to 5        0\n",
       "No..of.Years.in.Uni.at.Time.of.Grant.>10 to 15       0\n",
       "No..of.Years.in.Uni.at.Time.of.Grant.>5 to 10        0\n",
       "No..of.Years.in.Uni.at.Time.of.Grant.more than 15    0\n",
       "No..of.Years.in.Uni.at.Time.of.Grant.Less than 0     0\n",
       "Country.of.Birth.The Americas                        0\n",
       "Country.of.Birth.Middle East and Africa              0\n",
       "Country.of.Birth.Asia Pacific                        0\n",
       "Country.of.Birth.Australia                           0\n",
       "Country.of.Birth.Eastern Europe                      0\n",
       "Country.of.Birth.Great Britain                       0\n",
       "Country.of.Birth.New Zealand                         0\n",
       "Country.of.Birth.Western Europe                      0\n",
       "Country.of.Birth.South Africa                        0\n",
       "Country.of.Birth.North America                       0\n",
       "mean_Year.of.Birth.                                  0\n",
       "max_Year.of.Birth.                                   0\n",
       "min_Year.of.Birth.                                   0\n",
       "                                                    ..\n",
       "Grant.Category.Code.Reduced_MIA                      0\n",
       "Grant.Category.Code.Reduced_Other                    0\n",
       "Contract.Value.Band...see.note.A.Reduced_A           0\n",
       "Contract.Value.Band...see.note.A.Reduced_B           0\n",
       "Contract.Value.Band...see.note.A.Reduced_C           0\n",
       "Contract.Value.Band...see.note.A.Reduced_D           0\n",
       "Contract.Value.Band...see.note.A.Reduced_E           0\n",
       "Contract.Value.Band...see.note.A.Reduced_F           0\n",
       "Contract.Value.Band...see.note.A.Reduced_G           0\n",
       "Contract.Value.Band...see.note.A.Reduced_MIA         0\n",
       "Contract.Value.Band...see.note.A.Reduced_Other       0\n",
       "Grant.Category.Code.Letter_A                         0\n",
       "Grant.Category.Code.Letter_B                         0\n",
       "Grant.Category.Code.Letter_C                         0\n",
       "Grant.Category.Code.Letter_D                         0\n",
       "Grant.Category.Code.Letter_E                         0\n",
       "Grant.Category.Code.Letter_F                         0\n",
       "Grant.Category.Code.Letter_G                         0\n",
       "Grant.Category.Code.Letter_Unknown                   0\n",
       "Grant.Category.Code.Number_10                        0\n",
       "Grant.Category.Code.Number_20                        0\n",
       "Grant.Category.Code.Number_30                        0\n",
       "Grant.Category.Code.Number_40                        0\n",
       "Grant.Category.Code.Number_50                        0\n",
       "Grant.Category.Code.Number_Unknown                   0\n",
       "Sponsor.Code.Letter_A                                0\n",
       "Sponsor.Code.Letter_B                                0\n",
       "Sponsor.Code.Letter_C                                0\n",
       "Sponsor.Code.Letter_D                                0\n",
       "Sponsor.Code.Letter_Unknown                          0\n",
       "dtype: int64"
      ]
     },
     "execution_count": 195,
     "metadata": {},
     "output_type": "execute_result"
    }
   ],
   "source": [
    "application_feature_names = [\n",
    "    \"Grant.Application.ID\", \n",
    "    \"Grant.Status\", \n",
    "    \"Sponsor.Code\", \n",
    "    \"Grant.Category.Code\", \n",
    "    \"Contract.Value.Band...see.note.A\", \n",
    "    \"Start.date\",\n",
    "    \"Year\",\n",
    "    \"Month\",\n",
    "    \"Contract.Value.Band.Values\"\n",
    "]\n",
    "\n",
    "features_without_nan = list(np.concatenate([\n",
    "            application_feature_names \n",
    "            + contigency_features_names \n",
    "            + aggregation_features_names \n",
    "            + rfcd_features_names \n",
    "            + seo_features_names\n",
    "            + sponsor_reduced_dummies_features\n",
    "            + grant_cat_reduced_dummies_features\n",
    "            + contract_value_reduced_dummies_features\n",
    "            + grant_cat_letter_dummies_features\n",
    "            + grant_cat_number_dummies_features\n",
    "            + sponsor_code_letter_dummies_features\n",
    "        ]))\n",
    "\n",
    "features_without_nan.remove(\"Sponsor.Code\")\n",
    "features_without_nan.remove(\"Grant.Category.Code\")\n",
    "features_without_nan.remove(\"Contract.Value.Band...see.note.A\")\n",
    "# features_without_nan.remove(\"mean_Year.of.Birth.\")\n",
    "# features_without_nan.remove(\"mean_Number.of.Successful.Grant.\")\n",
    "# features_without_nan.remove(\"mean_Number.of.Unsuccessful.Grant.\")\n",
    "# features_without_nan.remove(\"mean_A..\")\n",
    "# features_without_nan.remove(\"mean_A.\")\n",
    "# features_without_nan.remove(\"mean_B.\")\n",
    "# features_without_nan.remove(\"mean_C.\")\n",
    "\n",
    "# Not to be used for classification\n",
    "features_without_nan.remove(\"Grant.Application.ID\")\n",
    "features_without_nan.remove(\"Grant.Status\")\n",
    "features_without_nan.remove(\"Start.date\")\n",
    "\n",
    "data[features_without_nan].isnull().sum()"
   ]
  },
  {
   "cell_type": "markdown",
   "metadata": {},
   "source": [
    "## Splitting into train and test"
   ]
  },
  {
   "cell_type": "code",
   "execution_count": 196,
   "metadata": {
    "collapsed": true
   },
   "outputs": [],
   "source": [
    "# Fetching ids from files\n",
    "testing_ids = pd.read_csv(\"data/testing_ids.csv\")[\"ids\"].values\n",
    "training2_ids = pd.read_csv(\"data/training2_ids.csv\")[\"ids\"].values\n",
    "\n",
    "# Setting index\n",
    "data_ids = data[\"Grant.Application.ID\"].astype(int).values\n",
    "training_ids = np.setdiff1d(data_ids, testing_ids)\n",
    "training1_ids = np.setdiff1d(training_ids, training2_ids)\n",
    "\n",
    "train_df = data.loc[training_ids-1]\n",
    "train1_df = data.loc[training1_ids-1]\n",
    "train2_df = data.loc[training2_ids-1]\n",
    "test_df = data.loc[testing_ids-1]\n",
    "\n",
    "# Exporting files\n",
    "# train_df.to_csv(\"data/train.csv\")\n",
    "# train1_df.to_csv(\"data/train1.csv\")\n",
    "# train2_df.to_csv(\"data/train2.csv\")\n",
    "# test_df.to_csv(\"data/test.csv\")"
   ]
  },
  {
   "cell_type": "markdown",
   "metadata": {
    "collapsed": false
   },
   "source": [
    "## X_train, X_test, y_train, y_test"
   ]
  },
  {
   "cell_type": "code",
   "execution_count": 197,
   "metadata": {
    "collapsed": false
   },
   "outputs": [],
   "source": [
    "X_train, X_test = train_df[features_without_nan], test_df[features_without_nan]\n",
    "y_train, y_test = train_df[\"Grant.Status\"].astype(int), test_df[\"Grant.Status\"].astype(int)"
   ]
  },
  {
   "cell_type": "markdown",
   "metadata": {},
   "source": [
    "## Logistic Regression"
   ]
  },
  {
   "cell_type": "code",
   "execution_count": 198,
   "metadata": {
    "collapsed": false
   },
   "outputs": [
    {
     "name": "stdout",
     "output_type": "stream",
     "text": [
      "Accuracy: 0.847490 | AUC: 0.907576\n"
     ]
    }
   ],
   "source": [
    "from sklearn.linear_model import LogisticRegression\n",
    "from sklearn.metrics import accuracy_score, roc_auc_score\n",
    "\n",
    "# Predictions\n",
    "classifier_log = LogisticRegression().fit(X_train, y_train)\n",
    "prediction_log = classifier_log.predict(X_test)\n",
    "prediction_proba_log = classifier_log.predict_proba(X_test)\n",
    "\n",
    "print(\"Accuracy: %f | AUC: %f\" % (accuracy_score(y_test, prediction_log), roc_auc_score(np.array(y_test.values), prediction_proba_log[:, 1])))\n",
    "\n",
    "# print(\"\\nFeatures coefficients:\")\n",
    "# features_coef = list(zip(features_without_nan, classifier_log.coef_[0,:]))\n",
    "# features_coef.sort(key=lambda x:x[1], reverse=True)\n",
    "# for name, coef in features_coef:\n",
    "#     print(\"%50s: %f\" %(name, coef))"
   ]
  },
  {
   "cell_type": "markdown",
   "metadata": {
    "collapsed": false
   },
   "source": [
    "## Random Forest"
   ]
  },
  {
   "cell_type": "code",
   "execution_count": 199,
   "metadata": {
    "collapsed": false,
    "scrolled": false
   },
   "outputs": [
    {
     "name": "stdout",
     "output_type": "stream",
     "text": [
      "Accuracy: 0.888031 | AUC: 0.960631\n",
      "\n",
      "Features importances:\n",
      "      Contract.Value.Band...see.note.A.Reduced_MIA: 0.085673\n",
      "                mean_Number.of.Unsuccessful.Grant.: 0.084365\n",
      "                 max_Number.of.Unsuccessful.Grant.: 0.074647\n",
      "                        Contract.Value.Band.Values: 0.042507\n",
      "                  mean_Number.of.Successful.Grant.: 0.039205\n",
      "                 min_Number.of.Unsuccessful.Grant.: 0.036452\n",
      "                                             Month: 0.035905\n",
      "                   max_Number.of.Successful.Grant.: 0.035640\n",
      "                   min_Number.of.Successful.Grant.: 0.024354\n",
      "                                              Year: 0.023782\n",
      "       Contract.Value.Band...see.note.A.Reduced_A : 0.018486\n",
      "                                           mean_A.: 0.013478\n",
      "                                           mean_B.: 0.013162\n",
      "                                            max_B.: 0.012592\n",
      "                                            max_A.: 0.012554\n",
      "                                          mean_A..: 0.012013\n",
      "                               mean_Year.of.Birth.: 0.011590\n",
      "                                           max_A..: 0.011523\n",
      "                                    cardinal_Role.: 0.011211\n",
      "                          cardinal_SEO.Percentage.: 0.011063\n",
      "                         cardinal_RFCD.Percentage.: 0.011061\n",
      "                       Sponsor.Code.Letter_Unknown: 0.010794\n",
      "                Grant.Category.Code.Letter_Unknown: 0.010725\n",
      "                                min_Year.of.Birth.: 0.010265\n",
      "                Grant.Category.Code.Number_Unknown: 0.010065\n",
      "                           Role.CHIEF_INVESTIGATOR: 0.010008\n",
      "                          Sponsor.Code.Reduced_MIA: 0.009989\n",
      "                   Grant.Category.Code.Reduced_MIA: 0.009861\n",
      "                                           mean_C.: 0.009776\n",
      "                        Sponsor.Code.Reduced_Other: 0.009521\n",
      "                                max_Year.of.Birth.: 0.009515\n",
      "                                            max_C.: 0.009101\n",
      "                                            min_A.: 0.009011\n",
      "                                            min_B.: 0.008809\n",
      "                   Grant.Category.Code.Reduced_10A: 0.008714\n",
      "                       Role.EXT_CHIEF_INVESTIGATOR: 0.007864\n",
      "                                           min_A..: 0.007756\n",
      "                               RFCD.Percentage.32x: 0.007515\n",
      "                                SEO.Percentage.73x: 0.007383\n",
      "                      Grant.Category.Code.Letter_A: 0.006810\n",
      "                      Grant.Category.Code.Letter_B: 0.006796\n",
      "                     Grant.Category.Code.Number_10: 0.006768\n",
      "                      Role.STUD_CHIEF_INVESTIGATOR: 0.006554\n",
      "                                            min_C.: 0.006217\n",
      "                               RFCD.Percentage.27x: 0.005908\n",
      "                   Grant.Category.Code.Reduced_30B: 0.005732\n",
      "                     Grant.Category.Code.Number_30: 0.005354\n",
      "                        Country.of.Birth.Australia: 0.005216\n",
      "     No..of.Years.in.Uni.at.Time.of.Grant.>=0 to 5: 0.004970\n",
      "       Contract.Value.Band...see.note.A.Reduced_D : 0.004650\n",
      "     No..of.Years.in.Uni.at.Time.of.Grant.>5 to 10: 0.004614\n",
      "                   Grant.Category.Code.Reduced_50A: 0.004558\n",
      "                             Sponsor.Code.Letter_A: 0.004540\n",
      "                             Sponsor.Code.Letter_D: 0.004534\n",
      "       Contract.Value.Band...see.note.A.Reduced_G : 0.004463\n",
      "                             Sponsor.Code.Letter_B: 0.004273\n",
      "                          Sponsor.Code.Reduced_21A: 0.004254\n",
      "                     Grant.Category.Code.Number_50: 0.004230\n",
      "       Contract.Value.Band...see.note.A.Reduced_F : 0.004125\n",
      "       Contract.Value.Band...see.note.A.Reduced_E : 0.004104\n",
      "                           Sponsor.Code.Reduced_4D: 0.004081\n",
      "  No..of.Years.in.Uni.at.Time.of.Grant.Less than 0: 0.003995\n",
      "                             Sponsor.Code.Letter_C: 0.003982\n",
      "                                SEO.Percentage.78x: 0.003852\n",
      "    No..of.Years.in.Uni.at.Time.of.Grant.>10 to 15: 0.003619\n",
      " No..of.Years.in.Uni.at.Time.of.Grant.more than 15: 0.003267\n",
      "       Contract.Value.Band...see.note.A.Reduced_B : 0.003233\n",
      "                           Sponsor.Code.Reduced_2B: 0.003172\n",
      "                         Role.PRINCIPAL_SUPERVISOR: 0.003114\n",
      "                    Country.of.Birth.Great Britain: 0.002772\n",
      "                      Grant.Category.Code.Letter_C: 0.002736\n",
      "                          Sponsor.Code.Reduced_24D: 0.002700\n",
      "                               RFCD.Percentage.30x: 0.002512\n",
      "       Contract.Value.Band...see.note.A.Reduced_C : 0.002342\n",
      "                         Role.DELEGATED_RESEARCHER: 0.002296\n",
      "                                SEO.Percentage.77x: 0.002284\n",
      "                                SEO.Percentage.67x: 0.002211\n",
      "    Contract.Value.Band...see.note.A.Reduced_Other: 0.001914\n",
      "                   Grant.Category.Code.Reduced_10B: 0.001886\n",
      "                                SEO.Percentage.75x: 0.001850\n",
      "                     Grant.Category.Code.Number_20: 0.001836\n",
      "                   Grant.Category.Code.Reduced_30C: 0.001660\n",
      "                          Sponsor.Code.Reduced_34B: 0.001607\n",
      "                   Grant.Category.Code.Reduced_20C: 0.001592\n",
      "                   Country.of.Birth.Western Europe: 0.001583\n",
      "                    Country.of.Birth.North America: 0.001558\n",
      "                     Country.of.Birth.Asia Pacific: 0.001511\n",
      "                               RFCD.Percentage.28x: 0.001485\n",
      "                               RFCD.Percentage.29x: 0.001440\n",
      "                                      Role.STUDRES: 0.001364\n",
      "                   Country.of.Birth.Eastern Europe: 0.001253\n",
      "                                SEO.Percentage.62x: 0.001212\n",
      "                          Sponsor.Code.Reduced_40D: 0.001204\n",
      "                               RFCD.Percentage.25x: 0.001192\n",
      "                                SEO.Percentage.70x: 0.001189\n",
      "                               RFCD.Percentage.26x: 0.001106\n",
      "                               RFCD.Percentage.38x: 0.001099\n",
      "                                SEO.Percentage.63x: 0.001098\n",
      "                                SEO.Percentage.74x: 0.000950\n",
      "                               RFCD.Percentage.33x: 0.000925\n",
      "                               RFCD.Percentage.24x: 0.000833\n",
      "                               RFCD.Percentage.37x: 0.000827\n",
      "                   Grant.Category.Code.Reduced_20A: 0.000826\n",
      "                          Sponsor.Code.Reduced_32D: 0.000816\n",
      "                               RFCD.Percentage.23x: 0.000803\n",
      "                                SEO.Percentage.76x: 0.000774\n",
      "                   Grant.Category.Code.Reduced_30D: 0.000729\n",
      "                               RFCD.Percentage.41x: 0.000726\n",
      "                      Grant.Category.Code.Letter_D: 0.000714\n",
      "                               RFCD.Percentage.21x: 0.000701\n",
      "                                SEO.Percentage.68x: 0.000689\n",
      "                      Country.of.Birth.New Zealand: 0.000666\n",
      "                               RFCD.Percentage.31x: 0.000655\n",
      "                          Sponsor.Code.Reduced_29A: 0.000655\n",
      "                           Sponsor.Code.Reduced_5A: 0.000621\n",
      "                               RFCD.Percentage.43x: 0.000594\n",
      "                               RFCD.Percentage.42x: 0.000570\n",
      "           Country.of.Birth.Middle East and Africa: 0.000566\n",
      "                     Country.of.Birth.The Americas: 0.000507\n",
      "                                SEO.Percentage.72x: 0.000469\n",
      "                 Grant.Category.Code.Reduced_Other: 0.000437\n",
      "                                SEO.Percentage.65x: 0.000416\n",
      "                               RFCD.Percentage.34x: 0.000393\n",
      "                     Country.of.Birth.South Africa: 0.000391\n",
      "                               RFCD.Percentage.40x: 0.000367\n",
      "                               RFCD.Percentage.39x: 0.000357\n",
      "                      Grant.Category.Code.Letter_G: 0.000347\n",
      "                                SEO.Percentage.66x: 0.000347\n",
      "                               RFCD.Percentage.36x: 0.000346\n",
      "                               RFCD.Percentage.35x: 0.000295\n",
      "                                SEO.Percentage.61x: 0.000257\n",
      "                               RFCD.Percentage.44x: 0.000202\n",
      "                                SEO.Percentage.71x: 0.000188\n",
      "                     Grant.Category.Code.Number_40: 0.000147\n",
      "                                SEO.Percentage.64x: 0.000131\n",
      "                                SEO.Percentage.69x: 0.000110\n",
      "                      Grant.Category.Code.Letter_E: 0.000073\n",
      "                                SEO.Percentage.99x: 0.000061\n",
      "                               RFCD.Percentage.99x: 0.000057\n",
      "                                     Role.HONVISIT: 0.000047\n",
      "                      Grant.Category.Code.Letter_F: 0.000003\n",
      "                             Role.EXTERNAL_ADVISOR: 0.000003\n",
      "                                RFCD.Percentage.0x: 0.000000\n",
      "                                 SEO.Percentage.0x: 0.000000\n"
     ]
    }
   ],
   "source": [
    "from sklearn.ensemble import RandomForestClassifier\n",
    "\n",
    "rf = RandomForestClassifier(n_estimators=1600, n_jobs = 7)\n",
    "classifierRF = rf.fit(X_train, y_train)\n",
    "predictionRF = classifierRF.predict(X_test)\n",
    "prediction_probaRF = classifierRF.predict_proba(X_test)\n",
    "\n",
    "print(\"Accuracy: %f | AUC: %f\" % (accuracy_score(y_test, predictionRF), roc_auc_score(np.array(y_test.values), prediction_probaRF[:, 1])))\n",
    "\n",
    "print(\"\\nFeatures importances:\")\n",
    "feature_importances = list(zip(features_without_nan, classifierRF.feature_importances_))\n",
    "feature_importances.sort(key=lambda x:x[1], reverse=True)\n",
    "for name, importance in feature_importances:\n",
    "    print(\"%50s: %f\" %(name, importance))"
   ]
  },
  {
   "cell_type": "markdown",
   "metadata": {},
   "source": [
    "## ROC curves"
   ]
  },
  {
   "cell_type": "code",
   "execution_count": 110,
   "metadata": {
    "collapsed": false,
    "scrolled": false
   },
   "outputs": [
    {
     "data": {
      "image/png": "[encoded data removed]",
      "text/plain": [
       "<matplotlib.figure.Figure at 0x7efda45ae780>"
      ]
     },
     "metadata": {},
     "output_type": "display_data"
    }
   ],
   "source": [
    "%matplotlib inline\n",
    "import matplotlib.pyplot as plt\n",
    "from sklearn.metrics import roc_curve\n",
    "\n",
    "fpr_log, tpr_log, thresholds_log = roc_curve(np.array(y_test.values), prediction_proba_log[:, 1])\n",
    "fpr_rf, tpr_rf, thresholds_rf = roc_curve(np.array(y_test.values), prediction_probaRF[:, 1])\n",
    "\n",
    "plt.figure(figsize=(10,6))\n",
    "plt.plot(fpr_log, tpr_log, 'b', label='Logistic')\n",
    "plt.plot(fpr_rf, tpr_rf, 'g', label='Random forest')\n",
    "plt.legend(loc=0)\n",
    "plt.show()"
   ]
  },
  {
   "cell_type": "markdown",
   "metadata": {
    "collapsed": false
   },
   "source": [
    "# Parameters tuning (Grid Search)"
   ]
  },
  {
   "cell_type": "code",
   "execution_count": null,
   "metadata": {
    "collapsed": false,
    "scrolled": true
   },
   "outputs": [],
   "source": [
    "from sklearn.grid_search import GridSearchCV\n",
    "\n",
    "parameters = {'n_estimators': [i for i in range(500, 1300, 100)], 'max_features': [i for i in range(1, 10)]}\n",
    "GridsearchSVM = GridSearchCV(RandomForestClassifier(), parameters, cv=3, verbose=10, scoring='roc_auc', n_jobs=7)\n",
    "GridsearchSVM.fit(X_train, y_train)\n",
    "\n",
    "print(GridsearchSVM.best_params_, GridsearchSVM.best_score_)\n",
    "\n",
    "# roc_auc_score(np.array(y_test.values), GridsearchSVM.best_estimator_.predict_proba(X_test)[:, 1])\n",
    "# roc_auc_score(np.array(y_test.values), GridsearchSVM.best_estimator_.fit(X_train, y_train).predict_proba(X_test)[:, 1])"
   ]
  },
  {
   "cell_type": "code",
   "execution_count": 20,
   "metadata": {
    "collapsed": false
   },
   "outputs": [],
   "source": [
    "from sklearn.grid_search import ParameterGrid\n",
    "\n",
    "def grid_search_no_cv(parameters, X_train, X_test, y_train, y_test):\n",
    "\n",
    "    grid_search = ParameterGrid(parameters)\n",
    "    best_score = 0\n",
    "    best_params = {}\n",
    "\n",
    "    nb_gridsearch_folds = len(grid_search)\n",
    "    for index, param in enumerate(grid_search):\n",
    "        prediction_proba = RandomForestClassifier(**param, n_jobs=7).fit(X_train, y_train).predict_proba(X_test)\n",
    "        current_score = roc_auc_score(np.array(y_test.values), prediction_proba[:, 1])\n",
    "        flag_best = \" \"\n",
    "        if current_score > best_score:\n",
    "            best_score = current_score\n",
    "            best_params = param\n",
    "            flag_best = \"*\"\n",
    "        print(flag_best+\" %2d/%d | %f | %s\" %(index+1, nb_gridsearch_folds, current_score, str(param)))\n",
    "    return best_score, best_params"
   ]
  },
  {
   "cell_type": "code",
   "execution_count": null,
   "metadata": {
    "collapsed": true
   },
   "outputs": [],
   "source": [
    "X_train1, X_train2 = train1_df[features_without_nan], train2_df[features_without_nan]\n",
    "y_train1, y_train2 = train1_df[\"Grant.Status\"].astype(int), train2_df[\"Grant.Status\"].astype(int)\n",
    "\n",
    "parameters = {'n_estimators': [i for i in range(2000, 3000, 200)], 'max_features': [i for i in range(8, 14)]}\n",
    "\n",
    "best_score, best_params = grid_search_no_cv(parameters, X_train1, X_train2, y_train1, y_train2)"
   ]
  },
  {
   "cell_type": "code",
   "execution_count": 74,
   "metadata": {
    "collapsed": false
   },
   "outputs": [
    {
     "name": "stdout",
     "output_type": "stream",
     "text": [
      "*  1/30 | 0.958621 | {'n_estimators': 500}\n",
      "*  2/30 | 0.960197 | {'n_estimators': 600}\n",
      "*  3/30 | 0.960229 | {'n_estimators': 700}\n",
      "   4/30 | 0.960141 | {'n_estimators': 800}\n",
      "   5/30 | 0.958854 | {'n_estimators': 900}\n",
      "   6/30 | 0.959152 | {'n_estimators': 1000}\n",
      "*  7/30 | 0.960703 | {'n_estimators': 1100}\n"
     ]
    },
    {
     "ename": "KeyboardInterrupt",
     "evalue": "",
     "output_type": "error",
     "traceback": [
      "\u001b[1;31m---------------------------------------------------------------------------\u001b[0m",
      "\u001b[1;31mKeyboardInterrupt\u001b[0m                         Traceback (most recent call last)",
      "\u001b[1;32m<ipython-input-74-b074668fad19>\u001b[0m in \u001b[0;36m<module>\u001b[1;34m()\u001b[0m\n\u001b[0;32m      1\u001b[0m \u001b[0mparameters\u001b[0m \u001b[1;33m=\u001b[0m \u001b[1;33m{\u001b[0m\u001b[1;34m'n_estimators'\u001b[0m\u001b[1;33m:\u001b[0m \u001b[1;33m[\u001b[0m\u001b[0mi\u001b[0m \u001b[1;32mfor\u001b[0m \u001b[0mi\u001b[0m \u001b[1;32min\u001b[0m \u001b[0mrange\u001b[0m\u001b[1;33m(\u001b[0m\u001b[1;36m500\u001b[0m\u001b[1;33m,\u001b[0m \u001b[1;36m3500\u001b[0m\u001b[1;33m,\u001b[0m \u001b[1;36m100\u001b[0m\u001b[1;33m)\u001b[0m\u001b[1;33m]\u001b[0m\u001b[1;33m}\u001b[0m\u001b[1;33m\u001b[0m\u001b[0m\n\u001b[0;32m      2\u001b[0m \u001b[1;33m\u001b[0m\u001b[0m\n\u001b[1;32m----> 3\u001b[1;33m \u001b[0mbest_score\u001b[0m\u001b[1;33m,\u001b[0m \u001b[0mbest_params\u001b[0m \u001b[1;33m=\u001b[0m \u001b[0mgrid_search_no_cv\u001b[0m\u001b[1;33m(\u001b[0m\u001b[0mparameters\u001b[0m\u001b[1;33m,\u001b[0m \u001b[0mX_train\u001b[0m\u001b[1;33m,\u001b[0m \u001b[0mX_test\u001b[0m\u001b[1;33m,\u001b[0m \u001b[0my_train\u001b[0m\u001b[1;33m,\u001b[0m \u001b[0my_test\u001b[0m\u001b[1;33m)\u001b[0m\u001b[1;33m\u001b[0m\u001b[0m\n\u001b[0m",
      "\u001b[1;32m<ipython-input-20-b7da3571c424>\u001b[0m in \u001b[0;36mgrid_search_no_cv\u001b[1;34m(parameters, X_train, X_test, y_train, y_test)\u001b[0m\n\u001b[0;32m      9\u001b[0m     \u001b[0mnb_gridsearch_folds\u001b[0m \u001b[1;33m=\u001b[0m \u001b[0mlen\u001b[0m\u001b[1;33m(\u001b[0m\u001b[0mgrid_search\u001b[0m\u001b[1;33m)\u001b[0m\u001b[1;33m\u001b[0m\u001b[0m\n\u001b[0;32m     10\u001b[0m     \u001b[1;32mfor\u001b[0m \u001b[0mindex\u001b[0m\u001b[1;33m,\u001b[0m \u001b[0mparam\u001b[0m \u001b[1;32min\u001b[0m \u001b[0menumerate\u001b[0m\u001b[1;33m(\u001b[0m\u001b[0mgrid_search\u001b[0m\u001b[1;33m)\u001b[0m\u001b[1;33m:\u001b[0m\u001b[1;33m\u001b[0m\u001b[0m\n\u001b[1;32m---> 11\u001b[1;33m         \u001b[0mprediction_proba\u001b[0m \u001b[1;33m=\u001b[0m \u001b[0mRandomForestClassifier\u001b[0m\u001b[1;33m(\u001b[0m\u001b[1;33m**\u001b[0m\u001b[0mparam\u001b[0m\u001b[1;33m,\u001b[0m \u001b[0mn_jobs\u001b[0m\u001b[1;33m=\u001b[0m\u001b[1;36m7\u001b[0m\u001b[1;33m)\u001b[0m\u001b[1;33m.\u001b[0m\u001b[0mfit\u001b[0m\u001b[1;33m(\u001b[0m\u001b[0mX_train\u001b[0m\u001b[1;33m,\u001b[0m \u001b[0my_train\u001b[0m\u001b[1;33m)\u001b[0m\u001b[1;33m.\u001b[0m\u001b[0mpredict_proba\u001b[0m\u001b[1;33m(\u001b[0m\u001b[0mX_test\u001b[0m\u001b[1;33m)\u001b[0m\u001b[1;33m\u001b[0m\u001b[0m\n\u001b[0m\u001b[0;32m     12\u001b[0m         \u001b[0mcurrent_score\u001b[0m \u001b[1;33m=\u001b[0m \u001b[0mroc_auc_score\u001b[0m\u001b[1;33m(\u001b[0m\u001b[0mnp\u001b[0m\u001b[1;33m.\u001b[0m\u001b[0marray\u001b[0m\u001b[1;33m(\u001b[0m\u001b[0my_test\u001b[0m\u001b[1;33m.\u001b[0m\u001b[0mvalues\u001b[0m\u001b[1;33m)\u001b[0m\u001b[1;33m,\u001b[0m \u001b[0mprediction_proba\u001b[0m\u001b[1;33m[\u001b[0m\u001b[1;33m:\u001b[0m\u001b[1;33m,\u001b[0m \u001b[1;36m1\u001b[0m\u001b[1;33m]\u001b[0m\u001b[1;33m)\u001b[0m\u001b[1;33m\u001b[0m\u001b[0m\n\u001b[0;32m     13\u001b[0m         \u001b[0mflag_best\u001b[0m \u001b[1;33m=\u001b[0m \u001b[1;34m\" \"\u001b[0m\u001b[1;33m\u001b[0m\u001b[0m\n",
      "\u001b[1;32m/home/maxime/anaconda3/lib/python3.5/site-packages/sklearn/ensemble/forest.py\u001b[0m in \u001b[0;36mfit\u001b[1;34m(self, X, y, sample_weight)\u001b[0m\n\u001b[0;32m    288\u001b[0m                     \u001b[0mt\u001b[0m\u001b[1;33m,\u001b[0m \u001b[0mself\u001b[0m\u001b[1;33m,\u001b[0m \u001b[0mX\u001b[0m\u001b[1;33m,\u001b[0m \u001b[0my\u001b[0m\u001b[1;33m,\u001b[0m \u001b[0msample_weight\u001b[0m\u001b[1;33m,\u001b[0m \u001b[0mi\u001b[0m\u001b[1;33m,\u001b[0m \u001b[0mlen\u001b[0m\u001b[1;33m(\u001b[0m\u001b[0mtrees\u001b[0m\u001b[1;33m)\u001b[0m\u001b[1;33m,\u001b[0m\u001b[1;33m\u001b[0m\u001b[0m\n\u001b[0;32m    289\u001b[0m                     verbose=self.verbose, class_weight=self.class_weight)\n\u001b[1;32m--> 290\u001b[1;33m                 for i, t in enumerate(trees))\n\u001b[0m\u001b[0;32m    291\u001b[0m \u001b[1;33m\u001b[0m\u001b[0m\n\u001b[0;32m    292\u001b[0m             \u001b[1;31m# Collect newly grown trees\u001b[0m\u001b[1;33m\u001b[0m\u001b[1;33m\u001b[0m\u001b[0m\n",
      "\u001b[1;32m/home/maxime/anaconda3/lib/python3.5/site-packages/sklearn/externals/joblib/parallel.py\u001b[0m in \u001b[0;36m__call__\u001b[1;34m(self, iterable)\u001b[0m\n\u001b[0;32m    808\u001b[0m                 \u001b[1;31m# consumption.\u001b[0m\u001b[1;33m\u001b[0m\u001b[1;33m\u001b[0m\u001b[0m\n\u001b[0;32m    809\u001b[0m                 \u001b[0mself\u001b[0m\u001b[1;33m.\u001b[0m\u001b[0m_iterating\u001b[0m \u001b[1;33m=\u001b[0m \u001b[1;32mFalse\u001b[0m\u001b[1;33m\u001b[0m\u001b[0m\n\u001b[1;32m--> 810\u001b[1;33m             \u001b[0mself\u001b[0m\u001b[1;33m.\u001b[0m\u001b[0mretrieve\u001b[0m\u001b[1;33m(\u001b[0m\u001b[1;33m)\u001b[0m\u001b[1;33m\u001b[0m\u001b[0m\n\u001b[0m\u001b[0;32m    811\u001b[0m             \u001b[1;31m# Make sure that we get a last message telling us we are done\u001b[0m\u001b[1;33m\u001b[0m\u001b[1;33m\u001b[0m\u001b[0m\n\u001b[0;32m    812\u001b[0m             \u001b[0melapsed_time\u001b[0m \u001b[1;33m=\u001b[0m \u001b[0mtime\u001b[0m\u001b[1;33m.\u001b[0m\u001b[0mtime\u001b[0m\u001b[1;33m(\u001b[0m\u001b[1;33m)\u001b[0m \u001b[1;33m-\u001b[0m \u001b[0mself\u001b[0m\u001b[1;33m.\u001b[0m\u001b[0m_start_time\u001b[0m\u001b[1;33m\u001b[0m\u001b[0m\n",
      "\u001b[1;32m/home/maxime/anaconda3/lib/python3.5/site-packages/sklearn/externals/joblib/parallel.py\u001b[0m in \u001b[0;36mretrieve\u001b[1;34m(self)\u001b[0m\n\u001b[0;32m    725\u001b[0m                 \u001b[0mjob\u001b[0m \u001b[1;33m=\u001b[0m \u001b[0mself\u001b[0m\u001b[1;33m.\u001b[0m\u001b[0m_jobs\u001b[0m\u001b[1;33m.\u001b[0m\u001b[0mpop\u001b[0m\u001b[1;33m(\u001b[0m\u001b[1;36m0\u001b[0m\u001b[1;33m)\u001b[0m\u001b[1;33m\u001b[0m\u001b[0m\n\u001b[0;32m    726\u001b[0m             \u001b[1;32mtry\u001b[0m\u001b[1;33m:\u001b[0m\u001b[1;33m\u001b[0m\u001b[0m\n\u001b[1;32m--> 727\u001b[1;33m                 \u001b[0mself\u001b[0m\u001b[1;33m.\u001b[0m\u001b[0m_output\u001b[0m\u001b[1;33m.\u001b[0m\u001b[0mextend\u001b[0m\u001b[1;33m(\u001b[0m\u001b[0mjob\u001b[0m\u001b[1;33m.\u001b[0m\u001b[0mget\u001b[0m\u001b[1;33m(\u001b[0m\u001b[1;33m)\u001b[0m\u001b[1;33m)\u001b[0m\u001b[1;33m\u001b[0m\u001b[0m\n\u001b[0m\u001b[0;32m    728\u001b[0m             \u001b[1;32mexcept\u001b[0m \u001b[0mtuple\u001b[0m\u001b[1;33m(\u001b[0m\u001b[0mself\u001b[0m\u001b[1;33m.\u001b[0m\u001b[0mexceptions\u001b[0m\u001b[1;33m)\u001b[0m \u001b[1;32mas\u001b[0m \u001b[0mexception\u001b[0m\u001b[1;33m:\u001b[0m\u001b[1;33m\u001b[0m\u001b[0m\n\u001b[0;32m    729\u001b[0m                 \u001b[1;31m# Stop dispatching any new job in the async callback thread\u001b[0m\u001b[1;33m\u001b[0m\u001b[1;33m\u001b[0m\u001b[0m\n",
      "\u001b[1;32m/home/maxime/anaconda3/lib/python3.5/multiprocessing/pool.py\u001b[0m in \u001b[0;36mget\u001b[1;34m(self, timeout)\u001b[0m\n\u001b[0;32m    600\u001b[0m \u001b[1;33m\u001b[0m\u001b[0m\n\u001b[0;32m    601\u001b[0m     \u001b[1;32mdef\u001b[0m \u001b[0mget\u001b[0m\u001b[1;33m(\u001b[0m\u001b[0mself\u001b[0m\u001b[1;33m,\u001b[0m \u001b[0mtimeout\u001b[0m\u001b[1;33m=\u001b[0m\u001b[1;32mNone\u001b[0m\u001b[1;33m)\u001b[0m\u001b[1;33m:\u001b[0m\u001b[1;33m\u001b[0m\u001b[0m\n\u001b[1;32m--> 602\u001b[1;33m         \u001b[0mself\u001b[0m\u001b[1;33m.\u001b[0m\u001b[0mwait\u001b[0m\u001b[1;33m(\u001b[0m\u001b[0mtimeout\u001b[0m\u001b[1;33m)\u001b[0m\u001b[1;33m\u001b[0m\u001b[0m\n\u001b[0m\u001b[0;32m    603\u001b[0m         \u001b[1;32mif\u001b[0m \u001b[1;32mnot\u001b[0m \u001b[0mself\u001b[0m\u001b[1;33m.\u001b[0m\u001b[0mready\u001b[0m\u001b[1;33m(\u001b[0m\u001b[1;33m)\u001b[0m\u001b[1;33m:\u001b[0m\u001b[1;33m\u001b[0m\u001b[0m\n\u001b[0;32m    604\u001b[0m             \u001b[1;32mraise\u001b[0m \u001b[0mTimeoutError\u001b[0m\u001b[1;33m\u001b[0m\u001b[0m\n",
      "\u001b[1;32m/home/maxime/anaconda3/lib/python3.5/multiprocessing/pool.py\u001b[0m in \u001b[0;36mwait\u001b[1;34m(self, timeout)\u001b[0m\n\u001b[0;32m    597\u001b[0m \u001b[1;33m\u001b[0m\u001b[0m\n\u001b[0;32m    598\u001b[0m     \u001b[1;32mdef\u001b[0m \u001b[0mwait\u001b[0m\u001b[1;33m(\u001b[0m\u001b[0mself\u001b[0m\u001b[1;33m,\u001b[0m \u001b[0mtimeout\u001b[0m\u001b[1;33m=\u001b[0m\u001b[1;32mNone\u001b[0m\u001b[1;33m)\u001b[0m\u001b[1;33m:\u001b[0m\u001b[1;33m\u001b[0m\u001b[0m\n\u001b[1;32m--> 599\u001b[1;33m         \u001b[0mself\u001b[0m\u001b[1;33m.\u001b[0m\u001b[0m_event\u001b[0m\u001b[1;33m.\u001b[0m\u001b[0mwait\u001b[0m\u001b[1;33m(\u001b[0m\u001b[0mtimeout\u001b[0m\u001b[1;33m)\u001b[0m\u001b[1;33m\u001b[0m\u001b[0m\n\u001b[0m\u001b[0;32m    600\u001b[0m \u001b[1;33m\u001b[0m\u001b[0m\n\u001b[0;32m    601\u001b[0m     \u001b[1;32mdef\u001b[0m \u001b[0mget\u001b[0m\u001b[1;33m(\u001b[0m\u001b[0mself\u001b[0m\u001b[1;33m,\u001b[0m \u001b[0mtimeout\u001b[0m\u001b[1;33m=\u001b[0m\u001b[1;32mNone\u001b[0m\u001b[1;33m)\u001b[0m\u001b[1;33m:\u001b[0m\u001b[1;33m\u001b[0m\u001b[0m\n",
      "\u001b[1;32m/home/maxime/anaconda3/lib/python3.5/threading.py\u001b[0m in \u001b[0;36mwait\u001b[1;34m(self, timeout)\u001b[0m\n\u001b[0;32m    547\u001b[0m             \u001b[0msignaled\u001b[0m \u001b[1;33m=\u001b[0m \u001b[0mself\u001b[0m\u001b[1;33m.\u001b[0m\u001b[0m_flag\u001b[0m\u001b[1;33m\u001b[0m\u001b[0m\n\u001b[0;32m    548\u001b[0m             \u001b[1;32mif\u001b[0m \u001b[1;32mnot\u001b[0m \u001b[0msignaled\u001b[0m\u001b[1;33m:\u001b[0m\u001b[1;33m\u001b[0m\u001b[0m\n\u001b[1;32m--> 549\u001b[1;33m                 \u001b[0msignaled\u001b[0m \u001b[1;33m=\u001b[0m \u001b[0mself\u001b[0m\u001b[1;33m.\u001b[0m\u001b[0m_cond\u001b[0m\u001b[1;33m.\u001b[0m\u001b[0mwait\u001b[0m\u001b[1;33m(\u001b[0m\u001b[0mtimeout\u001b[0m\u001b[1;33m)\u001b[0m\u001b[1;33m\u001b[0m\u001b[0m\n\u001b[0m\u001b[0;32m    550\u001b[0m             \u001b[1;32mreturn\u001b[0m \u001b[0msignaled\u001b[0m\u001b[1;33m\u001b[0m\u001b[0m\n\u001b[0;32m    551\u001b[0m \u001b[1;33m\u001b[0m\u001b[0m\n",
      "\u001b[1;32m/home/maxime/anaconda3/lib/python3.5/threading.py\u001b[0m in \u001b[0;36mwait\u001b[1;34m(self, timeout)\u001b[0m\n\u001b[0;32m    291\u001b[0m         \u001b[1;32mtry\u001b[0m\u001b[1;33m:\u001b[0m    \u001b[1;31m# restore state no matter what (e.g., KeyboardInterrupt)\u001b[0m\u001b[1;33m\u001b[0m\u001b[0m\n\u001b[0;32m    292\u001b[0m             \u001b[1;32mif\u001b[0m \u001b[0mtimeout\u001b[0m \u001b[1;32mis\u001b[0m \u001b[1;32mNone\u001b[0m\u001b[1;33m:\u001b[0m\u001b[1;33m\u001b[0m\u001b[0m\n\u001b[1;32m--> 293\u001b[1;33m                 \u001b[0mwaiter\u001b[0m\u001b[1;33m.\u001b[0m\u001b[0macquire\u001b[0m\u001b[1;33m(\u001b[0m\u001b[1;33m)\u001b[0m\u001b[1;33m\u001b[0m\u001b[0m\n\u001b[0m\u001b[0;32m    294\u001b[0m                 \u001b[0mgotit\u001b[0m \u001b[1;33m=\u001b[0m \u001b[1;32mTrue\u001b[0m\u001b[1;33m\u001b[0m\u001b[0m\n\u001b[0;32m    295\u001b[0m             \u001b[1;32melse\u001b[0m\u001b[1;33m:\u001b[0m\u001b[1;33m\u001b[0m\u001b[0m\n",
      "\u001b[1;31mKeyboardInterrupt\u001b[0m: "
     ]
    }
   ],
   "source": [
    "parameters = {'n_estimators': [i for i in range(500, 3500, 100)]}\n",
    "\n",
    "best_score, best_params = grid_search_no_cv(parameters, X_train, X_test, y_train, y_test)"
   ]
  },
  {
   "cell_type": "code",
   "execution_count": null,
   "metadata": {
    "collapsed": false
   },
   "outputs": [],
   "source": []
  },
  {
   "cell_type": "code",
   "execution_count": null,
   "metadata": {
    "collapsed": false
   },
   "outputs": [],
   "source": []
  },
  {
   "cell_type": "code",
   "execution_count": null,
   "metadata": {
    "collapsed": true
   },
   "outputs": [],
   "source": []
  }
 ],
 "metadata": {
  "anaconda-cloud": {},
  "kernelspec": {
   "display_name": "Python [Root]",
   "language": "python",
   "name": "Python [Root]"
  },
  "language_info": {
   "codemirror_mode": {
    "name": "ipython",
    "version": 3
   },
   "file_extension": ".py",
   "mimetype": "text/x-python",
   "name": "python",
   "nbconvert_exporter": "python",
   "pygments_lexer": "ipython3",
   "version": "3.5.2"
  }
 },
 "nbformat": 4,
 "nbformat_minor": 0
}
