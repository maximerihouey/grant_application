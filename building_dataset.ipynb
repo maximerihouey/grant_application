{
 "cells": [
  {
   "cell_type": "code",
   "execution_count": 195,
   "metadata": {
    "collapsed": false
   },
   "outputs": [
    {
     "data": {
      "text/plain": [
       "Grant.Application.ID                        object\n",
       "Grant.Status                                object\n",
       "Sponsor.Code                                object\n",
       "Grant.Category.Code                         object\n",
       "Contract.Value.Band...see.note.A            object\n",
       "Start.date                                  object\n",
       "RFCD.Code.1                                 object\n",
       "RFCD.Percentage.1                          float64\n",
       "RFCD.Code.2                                 object\n",
       "RFCD.Percentage.2                          float64\n",
       "RFCD.Code.3                                 object\n",
       "RFCD.Percentage.3                          float64\n",
       "RFCD.Code.4                                 object\n",
       "RFCD.Percentage.4                          float64\n",
       "RFCD.Code.5                                 object\n",
       "RFCD.Percentage.5                          float64\n",
       "SEO.Code.1                                  object\n",
       "SEO.Percentage.1                           float64\n",
       "SEO.Code.2                                  object\n",
       "SEO.Percentage.2                           float64\n",
       "SEO.Code.3                                  object\n",
       "SEO.Percentage.3                           float64\n",
       "SEO.Code.4                                  object\n",
       "SEO.Percentage.4                           float64\n",
       "SEO.Code.5                                  object\n",
       "SEO.Percentage.5                           float64\n",
       "Person.ID.1                                 object\n",
       "Role.1                                      object\n",
       "Year.of.Birth.1                            float64\n",
       "Country.of.Birth.1                          object\n",
       "                                            ...   \n",
       "Role.14                                     object\n",
       "Year.of.Birth.14                           float64\n",
       "Country.of.Birth.14                         object\n",
       "Home.Language.14                            object\n",
       "Dept.No..14                                 object\n",
       "Faculty.No..14                              object\n",
       "With.PHD.14                                 object\n",
       "No..of.Years.in.Uni.at.Time.of.Grant.14     object\n",
       "Number.of.Successful.Grant.14              float64\n",
       "Number.of.Unsuccessful.Grant.14            float64\n",
       "A..14                                      float64\n",
       "A.14                                       float64\n",
       "B.14                                       float64\n",
       "C.14                                       float64\n",
       "Person.ID.15                                object\n",
       "Role.15                                     object\n",
       "Year.of.Birth.15                           float64\n",
       "Country.of.Birth.15                         object\n",
       "Home.Language.15                            object\n",
       "Dept.No..15                                 object\n",
       "Faculty.No..15                              object\n",
       "With.PHD.15                                 object\n",
       "No..of.Years.in.Uni.at.Time.of.Grant.15     object\n",
       "Number.of.Successful.Grant.15              float64\n",
       "Number.of.Unsuccessful.Grant.15            float64\n",
       "A..15                                      float64\n",
       "A.15                                       float64\n",
       "B.15                                       float64\n",
       "C.15                                       float64\n",
       "Year                                       float64\n",
       "dtype: object"
      ]
     },
     "execution_count": 195,
     "metadata": {},
     "output_type": "execute_result"
    }
   ],
   "source": [
    "import numpy as np\n",
    "import pandas as pd\n",
    "\n",
    "data = pd.read_csv(\"data/unimelb_training.csv\", header=0, dtype=\"str\")\n",
    "data = data.drop(\"Unnamed: 251\", axis=1)\n",
    "data[\"Year\"] = data[\"Start.date\"].map(lambda x: float(x.split(\"/\")[2]))\n",
    "data[\"Year\"].dtype\n",
    "\n",
    "\n",
    "numerical_data_feature_category = [\n",
    "    (\"RFCD.Percentage.\", 5), \n",
    "    (\"SEO.Percentage.\", 5), \n",
    "    (\"Year.of.Birth.\", 15),\n",
    "    (\"Number.of.Successful.Grant.\", 15),\n",
    "    (\"Number.of.Unsuccessful.Grant.\", 15),\n",
    "    (\"A..\", 15),\n",
    "    (\"A.\", 15),\n",
    "    (\"B.\", 15),\n",
    "    (\"C.\", 15)\n",
    "]\n",
    "\n",
    "for feature_name, feature_range in numerical_data_feature_category:\n",
    "    numerical_data_features = [feature_name+str(i) for i in range(1, feature_range+1)]\n",
    "    for numerical_data_feature in numerical_data_features:\n",
    "        data[numerical_data_feature] = data[numerical_data_feature].astype(float)\n",
    "\n",
    "data.dtypes"
   ]
  },
  {
   "cell_type": "code",
   "execution_count": 196,
   "metadata": {
    "collapsed": false
   },
   "outputs": [
    {
     "data": {
      "text/html": [
       "<div>\n",
       "<table border=\"1\" class=\"dataframe\">\n",
       "  <thead>\n",
       "    <tr style=\"text-align: right;\">\n",
       "      <th></th>\n",
       "      <th>Grant.Application.ID</th>\n",
       "      <th>Grant.Status</th>\n",
       "      <th>Sponsor.Code</th>\n",
       "      <th>Grant.Category.Code</th>\n",
       "      <th>Contract.Value.Band...see.note.A</th>\n",
       "      <th>Start.date</th>\n",
       "      <th>RFCD.Code.1</th>\n",
       "      <th>RFCD.Percentage.1</th>\n",
       "      <th>RFCD.Code.2</th>\n",
       "      <th>RFCD.Percentage.2</th>\n",
       "      <th>...</th>\n",
       "      <th>Faculty.No..15</th>\n",
       "      <th>With.PHD.15</th>\n",
       "      <th>No..of.Years.in.Uni.at.Time.of.Grant.15</th>\n",
       "      <th>Number.of.Successful.Grant.15</th>\n",
       "      <th>Number.of.Unsuccessful.Grant.15</th>\n",
       "      <th>A..15</th>\n",
       "      <th>A.15</th>\n",
       "      <th>B.15</th>\n",
       "      <th>C.15</th>\n",
       "      <th>Year</th>\n",
       "    </tr>\n",
       "  </thead>\n",
       "  <tbody>\n",
       "    <tr>\n",
       "      <th>0</th>\n",
       "      <td>1</td>\n",
       "      <td>1</td>\n",
       "      <td>NaN</td>\n",
       "      <td>NaN</td>\n",
       "      <td>A</td>\n",
       "      <td>8/11/05</td>\n",
       "      <td>280199</td>\n",
       "      <td>100.0</td>\n",
       "      <td>0</td>\n",
       "      <td>0.0</td>\n",
       "      <td>...</td>\n",
       "      <td>NaN</td>\n",
       "      <td>NaN</td>\n",
       "      <td>NaN</td>\n",
       "      <td>NaN</td>\n",
       "      <td>NaN</td>\n",
       "      <td>NaN</td>\n",
       "      <td>NaN</td>\n",
       "      <td>NaN</td>\n",
       "      <td>NaN</td>\n",
       "      <td>5.0</td>\n",
       "    </tr>\n",
       "    <tr>\n",
       "      <th>1</th>\n",
       "      <td>2</td>\n",
       "      <td>1</td>\n",
       "      <td>2B</td>\n",
       "      <td>10A</td>\n",
       "      <td>B</td>\n",
       "      <td>11/11/05</td>\n",
       "      <td>280103</td>\n",
       "      <td>30.0</td>\n",
       "      <td>280106</td>\n",
       "      <td>30.0</td>\n",
       "      <td>...</td>\n",
       "      <td>NaN</td>\n",
       "      <td>NaN</td>\n",
       "      <td>NaN</td>\n",
       "      <td>NaN</td>\n",
       "      <td>NaN</td>\n",
       "      <td>NaN</td>\n",
       "      <td>NaN</td>\n",
       "      <td>NaN</td>\n",
       "      <td>NaN</td>\n",
       "      <td>5.0</td>\n",
       "    </tr>\n",
       "    <tr>\n",
       "      <th>2</th>\n",
       "      <td>3</td>\n",
       "      <td>1</td>\n",
       "      <td>29A</td>\n",
       "      <td>10B</td>\n",
       "      <td>A</td>\n",
       "      <td>14/11/05</td>\n",
       "      <td>321004</td>\n",
       "      <td>60.0</td>\n",
       "      <td>321216</td>\n",
       "      <td>40.0</td>\n",
       "      <td>...</td>\n",
       "      <td>NaN</td>\n",
       "      <td>NaN</td>\n",
       "      <td>NaN</td>\n",
       "      <td>NaN</td>\n",
       "      <td>NaN</td>\n",
       "      <td>NaN</td>\n",
       "      <td>NaN</td>\n",
       "      <td>NaN</td>\n",
       "      <td>NaN</td>\n",
       "      <td>5.0</td>\n",
       "    </tr>\n",
       "    <tr>\n",
       "      <th>3</th>\n",
       "      <td>4</td>\n",
       "      <td>1</td>\n",
       "      <td>40D</td>\n",
       "      <td>10B</td>\n",
       "      <td>C</td>\n",
       "      <td>15/11/05</td>\n",
       "      <td>270602</td>\n",
       "      <td>50.0</td>\n",
       "      <td>320602</td>\n",
       "      <td>50.0</td>\n",
       "      <td>...</td>\n",
       "      <td>NaN</td>\n",
       "      <td>NaN</td>\n",
       "      <td>NaN</td>\n",
       "      <td>NaN</td>\n",
       "      <td>NaN</td>\n",
       "      <td>NaN</td>\n",
       "      <td>NaN</td>\n",
       "      <td>NaN</td>\n",
       "      <td>NaN</td>\n",
       "      <td>5.0</td>\n",
       "    </tr>\n",
       "    <tr>\n",
       "      <th>4</th>\n",
       "      <td>5</td>\n",
       "      <td>0</td>\n",
       "      <td>59C</td>\n",
       "      <td>10A</td>\n",
       "      <td>A</td>\n",
       "      <td>16/11/05</td>\n",
       "      <td>260500</td>\n",
       "      <td>34.0</td>\n",
       "      <td>280000</td>\n",
       "      <td>33.0</td>\n",
       "      <td>...</td>\n",
       "      <td>NaN</td>\n",
       "      <td>NaN</td>\n",
       "      <td>NaN</td>\n",
       "      <td>NaN</td>\n",
       "      <td>NaN</td>\n",
       "      <td>NaN</td>\n",
       "      <td>NaN</td>\n",
       "      <td>NaN</td>\n",
       "      <td>NaN</td>\n",
       "      <td>5.0</td>\n",
       "    </tr>\n",
       "  </tbody>\n",
       "</table>\n",
       "<p>5 rows × 252 columns</p>\n",
       "</div>"
      ],
      "text/plain": [
       "  Grant.Application.ID Grant.Status Sponsor.Code Grant.Category.Code  \\\n",
       "0                    1            1          NaN                 NaN   \n",
       "1                    2            1           2B                 10A   \n",
       "2                    3            1          29A                 10B   \n",
       "3                    4            1          40D                 10B   \n",
       "4                    5            0          59C                 10A   \n",
       "\n",
       "  Contract.Value.Band...see.note.A Start.date RFCD.Code.1  RFCD.Percentage.1  \\\n",
       "0                               A     8/11/05      280199              100.0   \n",
       "1                               B    11/11/05      280103               30.0   \n",
       "2                               A    14/11/05      321004               60.0   \n",
       "3                               C    15/11/05      270602               50.0   \n",
       "4                               A    16/11/05      260500               34.0   \n",
       "\n",
       "  RFCD.Code.2  RFCD.Percentage.2  ...  Faculty.No..15  With.PHD.15  \\\n",
       "0           0                0.0  ...             NaN          NaN   \n",
       "1      280106               30.0  ...             NaN          NaN   \n",
       "2      321216               40.0  ...             NaN          NaN   \n",
       "3      320602               50.0  ...             NaN          NaN   \n",
       "4      280000               33.0  ...             NaN          NaN   \n",
       "\n",
       "  No..of.Years.in.Uni.at.Time.of.Grant.15  Number.of.Successful.Grant.15  \\\n",
       "0                                     NaN                            NaN   \n",
       "1                                     NaN                            NaN   \n",
       "2                                     NaN                            NaN   \n",
       "3                                     NaN                            NaN   \n",
       "4                                     NaN                            NaN   \n",
       "\n",
       "  Number.of.Unsuccessful.Grant.15  A..15 A.15  B.15 C.15  Year  \n",
       "0                             NaN    NaN  NaN   NaN  NaN   5.0  \n",
       "1                             NaN    NaN  NaN   NaN  NaN   5.0  \n",
       "2                             NaN    NaN  NaN   NaN  NaN   5.0  \n",
       "3                             NaN    NaN  NaN   NaN  NaN   5.0  \n",
       "4                             NaN    NaN  NaN   NaN  NaN   5.0  \n",
       "\n",
       "[5 rows x 252 columns]"
      ]
     },
     "execution_count": 196,
     "metadata": {},
     "output_type": "execute_result"
    }
   ],
   "source": [
    "data.head()"
   ]
  },
  {
   "cell_type": "markdown",
   "metadata": {},
   "source": [
    "# Contigency for persons"
   ]
  },
  {
   "cell_type": "code",
   "execution_count": 197,
   "metadata": {
    "collapsed": true
   },
   "outputs": [],
   "source": [
    "# build the list of all unique values of a given spread column, as a tuple\n",
    "def process_column(data, prefix, nb_max):\n",
    "    unique_values = set([])\n",
    "    for i in range(1, nb_max+1):\n",
    "        unique_values.update(data[prefix+str(i)].unique())\n",
    "    return tuple(unique_values)\n",
    "\n",
    "# Build a dataframe with contingecy frequencies from a given spread column\n",
    "def add_contigency(prefix, nb_max, unique_values, add_cardinal):\n",
    "    nb_unique_values = len(unique_values)\n",
    "    has_nans = np.nan in unique_values\n",
    "    nan_index = unique_values.index(np.nan)\n",
    "    new_feature_labels = [prefix+str(value) for value in unique_values]\n",
    "    if add_cardinal:\n",
    "        new_feature_labels.append(\"cardinal_\"+prefix)\n",
    "    def nested_func(x):\n",
    "        values_frequency = [0]*nb_unique_values\n",
    "        for i in range(1, nb_max+1):\n",
    "            values_frequency[unique_values.index(x[prefix+str(i)])] += 1\n",
    "        if has_nans:\n",
    "            values_frequency[nan_index] = 0\n",
    "        summe = sum(values_frequency)\n",
    "        if summe != 0:\n",
    "            values_frequency = [value/summe for value in values_frequency]\n",
    "        if add_cardinal:\n",
    "            values_frequency.append(summe)\n",
    "        return pd.Series(values_frequency, index=new_feature_labels)\n",
    "    return nested_func\n",
    "\n",
    "# Build a dataframe with contingecy frequencies from a given spread column\n",
    "def build_contigency(data, prefix, nb_max, add_cardinal=False):\n",
    "    unique_values = process_column(data, prefix, nb_max)\n",
    "    return unique_values, data.apply(add_contigency(prefix, nb_max, unique_values, add_cardinal), axis=1, raw=True)\n",
    "\n",
    "contigency_features_names = []"
   ]
  },
  {
   "cell_type": "markdown",
   "metadata": {},
   "source": [
    "## Role"
   ]
  },
  {
   "cell_type": "code",
   "execution_count": 198,
   "metadata": {
    "collapsed": false
   },
   "outputs": [
    {
     "name": "stdout",
     "output_type": "stream",
     "text": [
      "(nan, 'CHIEF_INVESTIGATOR', 'STUD_CHIEF_INVESTIGATOR', 'EXT_CHIEF_INVESTIGATOR', 'PRINCIPAL_SUPERVISOR', 'HONVISIT', 'EXTERNAL_ADVISOR', 'DELEGATED_RESEARCHER', 'STUDRES')\n"
     ]
    }
   ],
   "source": [
    "unique_roles, role_contigency_df = build_contigency(data, \"Role.\", 15, add_cardinal=True)\n",
    "\n",
    "print(unique_roles)\n",
    "contigency_features_names.extend(list(role_contigency_df.columns))\n",
    "data = data.join(role_contigency_df)"
   ]
  },
  {
   "cell_type": "markdown",
   "metadata": {},
   "source": [
    "## Number of years at uni at time of grant"
   ]
  },
  {
   "cell_type": "code",
   "execution_count": 199,
   "metadata": {
    "collapsed": false
   },
   "outputs": [
    {
     "name": "stdout",
     "output_type": "stream",
     "text": [
      "(nan, '>10 to 15', 'more than 15', 'Less than 0', '>=0 to 5', '>5 to 10')\n"
     ]
    }
   ],
   "source": [
    "# No..of.Years.in.Uni.at.Time.of.Grant.\n",
    "\n",
    "unique_yearsinuni, yearsinuni_contigency_df = build_contigency(data, \"No..of.Years.in.Uni.at.Time.of.Grant.\", 15)\n",
    "\n",
    "print(unique_yearsinuni)\n",
    "contigency_features_names.extend(list(yearsinuni_contigency_df.columns))\n",
    "data = data.join(yearsinuni_contigency_df)"
   ]
  },
  {
   "cell_type": "markdown",
   "metadata": {},
   "source": [
    "## Country of birth"
   ]
  },
  {
   "cell_type": "code",
   "execution_count": 200,
   "metadata": {
    "collapsed": false
   },
   "outputs": [
    {
     "name": "stdout",
     "output_type": "stream",
     "text": [
      "(nan, 'Western Europe', 'Eastern Europe', 'Middle East and Africa', 'South Africa', 'The Americas', 'North America', 'Australia', 'Asia Pacific', 'Great Britain', 'New Zealand')\n"
     ]
    }
   ],
   "source": [
    "# Country.of.Birth.\n",
    "\n",
    "unique_cob, cob_contigency_df = build_contigency(data, \"Country.of.Birth.\", 15)\n",
    "\n",
    "print(unique_cob)\n",
    "contigency_features_names.extend(list(cob_contigency_df.columns))\n",
    "data = data.join(cob_contigency_df)"
   ]
  },
  {
   "cell_type": "markdown",
   "metadata": {},
   "source": [
    "# aggregations for persons"
   ]
  },
  {
   "cell_type": "code",
   "execution_count": 202,
   "metadata": {
    "collapsed": false
   },
   "outputs": [],
   "source": [
    "# Build a dataframe with contingecy frequencies from a given spread column\n",
    "def add_aggregation(prefixes, nb_max):\n",
    "    feature_names_by_prefix = [[prefix+str(i) for i in range(1, nb_max+1)] for prefix in prefixes]\n",
    "    methods_to_apply = [np.mean]\n",
    "    new_feature_labels_by_prefix = [[\"mean_\"+prefix] for prefix in prefixes]\n",
    "    flat_new_labels = [new_feature_label for new_feature_labels in new_feature_labels_by_prefix for new_feature_label in new_feature_labels]\n",
    "    def nested_func(x):\n",
    "        values_by_prefix = [\n",
    "            [x[feature_name] for feature_name in feature_names if np.isreal(x[feature_name]) and not np.isnan(x[feature_name])]\n",
    "            for feature_names in feature_names_by_prefix\n",
    "        ]\n",
    "        aggregated_values_by_prefix = [[method(values) for method in methods_to_apply] if len(values) > 0 else [np.nan]*len(methods_to_apply) for values in values_by_prefix]\n",
    "        return pd.Series(\n",
    "            data=[aggregated_value for aggregated_values in aggregated_values_by_prefix for aggregated_value in aggregated_values], \n",
    "            index=flat_new_labels\n",
    "        )\n",
    "    return nested_func\n",
    "\n",
    "# Build a dataframe with contingecy frequencies from a given spread column\n",
    "def build_aggregation(data, prefix, nb_max):\n",
    "    return data.apply(add_aggregation(prefix, nb_max), axis=1, raw=True)"
   ]
  },
  {
   "cell_type": "markdown",
   "metadata": {},
   "source": [
    "## Year of birth / Number of successful grants / Number of unsuccessfull grants / journals publications (A*, A, B, C)"
   ]
  },
  {
   "cell_type": "code",
   "execution_count": 203,
   "metadata": {
    "collapsed": false
   },
   "outputs": [
    {
     "name": "stdout",
     "output_type": "stream",
     "text": [
      "['mean_Year.of.Birth.', 'mean_Number.of.Successful.Grant.', 'mean_Number.of.Unsuccessful.Grant.', 'mean_A..', 'mean_A.', 'mean_B.', 'mean_C.']\n"
     ]
    }
   ],
   "source": [
    "aggregation_df = build_aggregation(data, [\"Year.of.Birth.\", \"Number.of.Successful.Grant.\", \"Number.of.Unsuccessful.Grant.\", \"A..\", \"A.\", \"B.\", \"C.\"], 15)\n",
    "aggregation_features_names = list(aggregation_df.columns)\n",
    "\n",
    "print(aggregation_features_names)\n",
    "data = data.join(aggregation_df)"
   ]
  },
  {
   "cell_type": "markdown",
   "metadata": {},
   "source": [
    "# RFCD"
   ]
  },
  {
   "cell_type": "code",
   "execution_count": 209,
   "metadata": {
    "collapsed": true
   },
   "outputs": [],
   "source": [
    "def rfcd_codes(data, prefix, nb_max, length):\n",
    "    unique_values = set([])\n",
    "    for i in range(1, nb_max+1):\n",
    "        unique_values.update([str(code)[:length] if not np.isreal(code) else np.nan for code in data[prefix+str(i)].unique()])\n",
    "    return tuple(unique_values)\n",
    "\n",
    "# rcfd_codes_unique = rfcd_codes(data, \"RFCD.Code.\")\n",
    "\n",
    "# Build a dataframe with contingecy frequencies from a given spread column\n",
    "def add_rfcd_aggregation(prefix1, prefix2, nb_max, unique_values, add_cardinal, suffix, length):\n",
    "    nb_unique_values = len(unique_values)\n",
    "    has_nans = np.nan in unique_values\n",
    "    nan_index = unique_values.index(np.nan)\n",
    "    new_feature_labels = [prefix2+str(value)+suffix for value in unique_values]\n",
    "    if add_cardinal:\n",
    "        new_feature_labels.append(\"cardinal_\"+prefix2)\n",
    "    def nested_func(x):\n",
    "        values_percentage = [0]*nb_unique_values\n",
    "        cardinal = 0\n",
    "        for i in range(1, nb_max+1):\n",
    "            considered_value = x[prefix1+str(i)]\n",
    "            current_value =  np.nan\n",
    "            if not np.isreal(considered_value) and considered_value != '0':\n",
    "                current_value = str(considered_value)[:length]\n",
    "                cardinal += 1\n",
    "            values_percentage[unique_values.index(current_value)] += x[prefix2+str(i)]/100.0\n",
    "        if has_nans:\n",
    "            values_percentage[nan_index] = 0\n",
    "        if add_cardinal:\n",
    "            values_percentage.append(cardinal)\n",
    "        return pd.Series(values_percentage, index=new_feature_labels)\n",
    "    return nested_func\n",
    "\n",
    "# Build a dataframe with contingecy frequencies from a given spread column\n",
    "def build_rfcd_aggregation(data, prefix1, prefix2, nb_max, length, add_cardinal=True, suffix=\"x\"):\n",
    "    unique_values = rfcd_codes(data, prefix1, nb_max, length)\n",
    "    return unique_values, data.apply(add_rfcd_aggregation(prefix1, prefix2, nb_max, unique_values, add_cardinal, suffix, length), axis=1, raw=True)"
   ]
  },
  {
   "cell_type": "code",
   "execution_count": 211,
   "metadata": {
    "collapsed": false
   },
   "outputs": [
    {
     "name": "stdout",
     "output_type": "stream",
     "text": [
      "(nan, '4', '0', '2', '3', '9')\n",
      "['RFCD.Percentage.nanx', 'RFCD.Percentage.4x', 'RFCD.Percentage.0x', 'RFCD.Percentage.2x', 'RFCD.Percentage.3x', 'RFCD.Percentage.9x', 'cardinal_RFCD.Percentage.']\n"
     ]
    }
   ],
   "source": [
    "rcfd_codes_unique, rfcd_df = build_rfcd_aggregation(data, \"RFCD.Code.\", \"RFCD.Percentage.\", 5, 1)\n",
    "\n",
    "rcfd_features_names = list(rfcd_df.columns)\n",
    "print(rcfd_codes_unique)\n",
    "print(rcfd_features_names)\n",
    "data = data.join(rfcd_df)"
   ]
  },
  {
   "cell_type": "code",
   "execution_count": null,
   "metadata": {
    "collapsed": false
   },
   "outputs": [],
   "source": []
  },
  {
   "cell_type": "code",
   "execution_count": null,
   "metadata": {
    "collapsed": true
   },
   "outputs": [],
   "source": []
  },
  {
   "cell_type": "code",
   "execution_count": null,
   "metadata": {
    "collapsed": true
   },
   "outputs": [],
   "source": []
  },
  {
   "cell_type": "code",
   "execution_count": null,
   "metadata": {
    "collapsed": true
   },
   "outputs": [],
   "source": []
  },
  {
   "cell_type": "code",
   "execution_count": null,
   "metadata": {
    "collapsed": true
   },
   "outputs": [],
   "source": []
  },
  {
   "cell_type": "code",
   "execution_count": null,
   "metadata": {
    "collapsed": true
   },
   "outputs": [],
   "source": []
  },
  {
   "cell_type": "markdown",
   "metadata": {},
   "source": [
    "# Building dataset"
   ]
  },
  {
   "cell_type": "code",
   "execution_count": 207,
   "metadata": {
    "collapsed": false
   },
   "outputs": [
    {
     "data": {
      "text/plain": [
       "['Grant.Application.ID',\n",
       " 'Grant.Status',\n",
       " 'Sponsor.Code',\n",
       " 'Grant.Category.Code',\n",
       " 'Contract.Value.Band...see.note.A',\n",
       " 'Start.date',\n",
       " 'Role.nan',\n",
       " 'Role.CHIEF_INVESTIGATOR',\n",
       " 'Role.STUD_CHIEF_INVESTIGATOR',\n",
       " 'Role.EXT_CHIEF_INVESTIGATOR',\n",
       " 'Role.PRINCIPAL_SUPERVISOR',\n",
       " 'Role.HONVISIT',\n",
       " 'Role.EXTERNAL_ADVISOR',\n",
       " 'Role.DELEGATED_RESEARCHER',\n",
       " 'Role.STUDRES',\n",
       " 'cardinal_Role.',\n",
       " 'No..of.Years.in.Uni.at.Time.of.Grant.nan',\n",
       " 'No..of.Years.in.Uni.at.Time.of.Grant.>10 to 15',\n",
       " 'No..of.Years.in.Uni.at.Time.of.Grant.more than 15',\n",
       " 'No..of.Years.in.Uni.at.Time.of.Grant.Less than 0',\n",
       " 'No..of.Years.in.Uni.at.Time.of.Grant.>=0 to 5',\n",
       " 'No..of.Years.in.Uni.at.Time.of.Grant.>5 to 10',\n",
       " 'Country.of.Birth.nan',\n",
       " 'Country.of.Birth.Western Europe',\n",
       " 'Country.of.Birth.Eastern Europe',\n",
       " 'Country.of.Birth.Middle East and Africa',\n",
       " 'Country.of.Birth.South Africa',\n",
       " 'Country.of.Birth.The Americas',\n",
       " 'Country.of.Birth.North America',\n",
       " 'Country.of.Birth.Australia',\n",
       " 'Country.of.Birth.Asia Pacific',\n",
       " 'Country.of.Birth.Great Britain',\n",
       " 'Country.of.Birth.New Zealand',\n",
       " 'mean_Year.of.Birth.',\n",
       " 'mean_Number.of.Successful.Grant.',\n",
       " 'mean_Number.of.Unsuccessful.Grant.',\n",
       " 'mean_A..',\n",
       " 'mean_A.',\n",
       " 'mean_B.',\n",
       " 'mean_C.']"
      ]
     },
     "execution_count": 207,
     "metadata": {},
     "output_type": "execute_result"
    }
   ],
   "source": [
    "application_feature_names = [\n",
    "    \"Grant.Application.ID\", \"Grant.Status\", \"Sponsor.Code\", \"Grant.Category.Code\", \"Contract.Value.Band...see.note.A\", \"Start.date\"\n",
    "]\n",
    "\n",
    "application_feature_names + contigency_features_names + aggregation_features_names"
   ]
  },
  {
   "cell_type": "code",
   "execution_count": null,
   "metadata": {
    "collapsed": true
   },
   "outputs": [],
   "source": []
  }
 ],
 "metadata": {
  "kernelspec": {
   "display_name": "Python [Root]",
   "language": "python",
   "name": "Python [Root]"
  },
  "language_info": {
   "codemirror_mode": {
    "name": "ipython",
    "version": 3
   },
   "file_extension": ".py",
   "mimetype": "text/x-python",
   "name": "python",
   "nbconvert_exporter": "python",
   "pygments_lexer": "ipython3",
   "version": "3.5.2"
  }
 },
 "nbformat": 4,
 "nbformat_minor": 0
}
