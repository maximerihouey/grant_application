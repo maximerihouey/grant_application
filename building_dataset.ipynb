{
 "cells": [
  {
   "cell_type": "code",
   "execution_count": 1,
   "metadata": {
    "collapsed": false
   },
   "outputs": [
    {
     "data": {
      "text/plain": [
       "Grant.Application.ID                        object\n",
       "Grant.Status                                object\n",
       "Sponsor.Code                                object\n",
       "Grant.Category.Code                         object\n",
       "Contract.Value.Band...see.note.A            object\n",
       "Start.date                                  object\n",
       "RFCD.Code.1                                 object\n",
       "RFCD.Percentage.1                          float64\n",
       "RFCD.Code.2                                 object\n",
       "RFCD.Percentage.2                          float64\n",
       "RFCD.Code.3                                 object\n",
       "RFCD.Percentage.3                          float64\n",
       "RFCD.Code.4                                 object\n",
       "RFCD.Percentage.4                          float64\n",
       "RFCD.Code.5                                 object\n",
       "RFCD.Percentage.5                          float64\n",
       "SEO.Code.1                                  object\n",
       "SEO.Percentage.1                           float64\n",
       "SEO.Code.2                                  object\n",
       "SEO.Percentage.2                           float64\n",
       "SEO.Code.3                                  object\n",
       "SEO.Percentage.3                           float64\n",
       "SEO.Code.4                                  object\n",
       "SEO.Percentage.4                           float64\n",
       "SEO.Code.5                                  object\n",
       "SEO.Percentage.5                           float64\n",
       "Person.ID.1                                 object\n",
       "Role.1                                      object\n",
       "Year.of.Birth.1                            float64\n",
       "Country.of.Birth.1                          object\n",
       "                                            ...   \n",
       "Role.14                                     object\n",
       "Year.of.Birth.14                           float64\n",
       "Country.of.Birth.14                         object\n",
       "Home.Language.14                            object\n",
       "Dept.No..14                                 object\n",
       "Faculty.No..14                              object\n",
       "With.PHD.14                                 object\n",
       "No..of.Years.in.Uni.at.Time.of.Grant.14     object\n",
       "Number.of.Successful.Grant.14              float64\n",
       "Number.of.Unsuccessful.Grant.14            float64\n",
       "A..14                                      float64\n",
       "A.14                                       float64\n",
       "B.14                                       float64\n",
       "C.14                                       float64\n",
       "Person.ID.15                                object\n",
       "Role.15                                     object\n",
       "Year.of.Birth.15                           float64\n",
       "Country.of.Birth.15                         object\n",
       "Home.Language.15                            object\n",
       "Dept.No..15                                 object\n",
       "Faculty.No..15                              object\n",
       "With.PHD.15                                 object\n",
       "No..of.Years.in.Uni.at.Time.of.Grant.15     object\n",
       "Number.of.Successful.Grant.15              float64\n",
       "Number.of.Unsuccessful.Grant.15            float64\n",
       "A..15                                      float64\n",
       "A.15                                       float64\n",
       "B.15                                       float64\n",
       "C.15                                       float64\n",
       "Year                                       float64\n",
       "dtype: object"
      ]
     },
     "execution_count": 1,
     "metadata": {},
     "output_type": "execute_result"
    }
   ],
   "source": [
    "import numpy as np\n",
    "import pandas as pd\n",
    "\n",
    "data = pd.read_csv(\"data/unimelb_training.csv\", header=0, dtype=\"str\")\n",
    "data = data.drop(\"Unnamed: 251\", axis=1)\n",
    "data[\"Year\"] = data[\"Start.date\"].map(lambda x: float(x.split(\"/\")[2]))\n",
    "data[\"Year\"].dtype\n",
    "\n",
    "\n",
    "numerical_data_feature_category = [\n",
    "    (\"RFCD.Percentage.\", 5), \n",
    "    (\"SEO.Percentage.\", 5), \n",
    "    (\"Year.of.Birth.\", 15),\n",
    "    (\"Number.of.Successful.Grant.\", 15),\n",
    "    (\"Number.of.Unsuccessful.Grant.\", 15),\n",
    "    (\"A..\", 15),\n",
    "    (\"A.\", 15),\n",
    "    (\"B.\", 15),\n",
    "    (\"C.\", 15)\n",
    "]\n",
    "\n",
    "for feature_name, feature_range in numerical_data_feature_category:\n",
    "    numerical_data_features = [feature_name+str(i) for i in range(1, feature_range+1)]\n",
    "    for numerical_data_feature in numerical_data_features:\n",
    "        data[numerical_data_feature] = data[numerical_data_feature].astype(float)\n",
    "\n",
    "data.dtypes"
   ]
  },
  {
   "cell_type": "code",
   "execution_count": 2,
   "metadata": {
    "collapsed": true
   },
   "outputs": [],
   "source": [
    "# Contigency for persons"
   ]
  },
  {
   "cell_type": "code",
   "execution_count": 3,
   "metadata": {
    "collapsed": true
   },
   "outputs": [],
   "source": [
    "def process_column(data, prefix, nb_max=15):\n",
    "    unique_values = set([])\n",
    "    all_values = []\n",
    "    for i in range(1, nb_max+1):\n",
    "        unique_values.update(data[prefix+str(i)].unique())\n",
    "        all_values.extend(list(data[prefix+str(i)]))\n",
    "    return unique_values, all_values"
   ]
  },
  {
   "cell_type": "code",
   "execution_count": 21,
   "metadata": {
    "collapsed": false
   },
   "outputs": [
    {
     "name": "stdout",
     "output_type": "stream",
     "text": [
      "(nan, 'CHIEF_INVESTIGATOR', 'STUD_CHIEF_INVESTIGATOR', 'EXT_CHIEF_INVESTIGATOR', 'PRINCIPAL_SUPERVISOR', 'HONVISIT', 'EXTERNAL_ADVISOR', 'DELEGATED_RESEARCHER', 'STUDRES')\n"
     ]
    }
   ],
   "source": [
    "unique_roles, all_roles = process_column(data, \"Role.\")\n",
    "\n",
    "all_roles_tuple = tuple(unique_roles)\n",
    "print(all_roles_tuple)\n",
    "# print(len(all_roles)) # 8708*15\n",
    "# print(sum([True if np.isreal(x) and np.isnan(x) else False for x in all_roles])/len(all_roles)) # this value is high because we concatenate all the 15 persons\n",
    "\n",
    "# pd.Series(all_roles).value_counts()"
   ]
  },
  {
   "cell_type": "code",
   "execution_count": null,
   "metadata": {
    "collapsed": true
   },
   "outputs": [],
   "source": []
  },
  {
   "cell_type": "code",
   "execution_count": 45,
   "metadata": {
    "collapsed": false
   },
   "outputs": [],
   "source": [
    "def add_contigency(prefix, nb_max, unique_values):\n",
    "    nb_unique_values = len(unique_values)\n",
    "    has_nans = np.nan in unique_values\n",
    "    nan_index = unique_values.index(np.nan)\n",
    "    new_feature_indices = [prefix+str(value) for value in unique_values]\n",
    "    def nested_func(x):\n",
    "        values_frequency = [0]*nb_unique_values\n",
    "        for i in range(1, nb_max+1):\n",
    "            values_frequency[unique_values.index(x[prefix+str(i)])] += 1\n",
    "        if has_nans:\n",
    "            values_frequency[nan_index] = 0\n",
    "        summe = sum(values_frequency)\n",
    "        if summe != 0:\n",
    "            return pd.Series([value/summe for value in values_frequency], index=new_feature_indices)\n",
    "        else:\n",
    "            return values_frequency\n",
    "    return nested_func\n",
    "\n",
    "aaa = data.apply(add_contigency(\"Role.\", 15, all_roles_tuple), axis=1, raw=True)"
   ]
  },
  {
   "cell_type": "code",
   "execution_count": null,
   "metadata": {
    "collapsed": true
   },
   "outputs": [],
   "source": []
  },
  {
   "cell_type": "code",
   "execution_count": 31,
   "metadata": {
    "collapsed": false
   },
   "outputs": [
    {
     "ename": "NameError",
     "evalue": "name 'nan' is not defined",
     "output_type": "error",
     "traceback": [
      "\u001b[1;31m---------------------------------------------------------------------------\u001b[0m",
      "\u001b[1;31mNameError\u001b[0m                                 Traceback (most recent call last)",
      "\u001b[1;32m<ipython-input-31-46291c46aa6c>\u001b[0m in \u001b[0;36m<module>\u001b[1;34m()\u001b[0m\n\u001b[1;32m----> 1\u001b[1;33m \u001b[0mnp\u001b[0m\u001b[1;33m.\u001b[0m\u001b[0mnan\u001b[0m \u001b[1;32min\u001b[0m \u001b[1;33m(\u001b[0m\u001b[1;36m1\u001b[0m\u001b[1;33m,\u001b[0m\u001b[1;36m2\u001b[0m\u001b[1;33m,\u001b[0m\u001b[1;36m3\u001b[0m\u001b[1;33m,\u001b[0m\u001b[0mnan\u001b[0m\u001b[1;33m)\u001b[0m\u001b[1;33m\u001b[0m\u001b[0m\n\u001b[0m",
      "\u001b[1;31mNameError\u001b[0m: name 'nan' is not defined"
     ]
    }
   ],
   "source": [
    "np.nan in (1,2,3,nan)"
   ]
  },
  {
   "cell_type": "code",
   "execution_count": 34,
   "metadata": {
    "collapsed": false
   },
   "outputs": [
    {
     "data": {
      "text/plain": [
       "6"
      ]
     },
     "execution_count": 34,
     "metadata": {},
     "output_type": "execute_result"
    }
   ],
   "source": [
    "sum([1,2,3])"
   ]
  },
  {
   "cell_type": "code",
   "execution_count": null,
   "metadata": {
    "collapsed": true
   },
   "outputs": [],
   "source": []
  }
 ],
 "metadata": {
  "kernelspec": {
   "display_name": "Python [Root]",
   "language": "python",
   "name": "Python [Root]"
  },
  "language_info": {
   "codemirror_mode": {
    "name": "ipython",
    "version": 3
   },
   "file_extension": ".py",
   "mimetype": "text/x-python",
   "name": "python",
   "nbconvert_exporter": "python",
   "pygments_lexer": "ipython3",
   "version": "3.5.2"
  }
 },
 "nbformat": 4,
 "nbformat_minor": 0
}
